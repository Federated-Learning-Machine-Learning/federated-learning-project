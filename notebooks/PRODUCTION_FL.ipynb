{
  "nbformat": 4,
  "nbformat_minor": 0,
  "metadata": {
    "colab": {
      "provenance": [],
      "gpuType": "T4"
    },
    "kernelspec": {
      "name": "python3",
      "display_name": "Python 3"
    },
    "language_info": {
      "name": "python"
    },
    "accelerator": "GPU"
  },
  "cells": [
    {
      "cell_type": "code",
      "source": [
        "!pip install -q flwr torch torchvision tensorboard\n",
        "!pip install -U \"flwr[simulation]\"\n",
        "!pip install timm"
      ],
      "metadata": {
        "colab": {
          "base_uri": "https://localhost:8080/"
        },
        "id": "fXzQZhEOm54h",
        "outputId": "7cb9333e-11e3-4175-f186-5965b085c841"
      },
      "execution_count": 1,
      "outputs": [
        {
          "output_type": "stream",
          "name": "stdout",
          "text": [
            "Requirement already satisfied: flwr[simulation] in /usr/local/lib/python3.11/dist-packages (1.18.0)\n",
            "Requirement already satisfied: cryptography<45.0.0,>=44.0.1 in /usr/local/lib/python3.11/dist-packages (from flwr[simulation]) (44.0.3)\n",
            "Requirement already satisfied: grpcio!=1.65.0,<2.0.0,>=1.62.3 in /usr/local/lib/python3.11/dist-packages (from flwr[simulation]) (1.71.0)\n",
            "Requirement already satisfied: iterators<0.0.3,>=0.0.2 in /usr/local/lib/python3.11/dist-packages (from flwr[simulation]) (0.0.2)\n",
            "Requirement already satisfied: numpy<3.0.0,>=1.26.0 in /usr/local/lib/python3.11/dist-packages (from flwr[simulation]) (2.0.2)\n",
            "Requirement already satisfied: pathspec<0.13.0,>=0.12.1 in /usr/local/lib/python3.11/dist-packages (from flwr[simulation]) (0.12.1)\n",
            "Requirement already satisfied: protobuf<5.0.0,>=4.21.6 in /usr/local/lib/python3.11/dist-packages (from flwr[simulation]) (4.25.7)\n",
            "Requirement already satisfied: pycryptodome<4.0.0,>=3.18.0 in /usr/local/lib/python3.11/dist-packages (from flwr[simulation]) (3.22.0)\n",
            "Requirement already satisfied: pyyaml<7.0.0,>=6.0.2 in /usr/local/lib/python3.11/dist-packages (from flwr[simulation]) (6.0.2)\n",
            "Requirement already satisfied: ray==2.31.0 in /usr/local/lib/python3.11/dist-packages (from flwr[simulation]) (2.31.0)\n",
            "Requirement already satisfied: requests<3.0.0,>=2.31.0 in /usr/local/lib/python3.11/dist-packages (from flwr[simulation]) (2.32.3)\n",
            "Requirement already satisfied: rich<14.0.0,>=13.5.0 in /usr/local/lib/python3.11/dist-packages (from flwr[simulation]) (13.9.4)\n",
            "Requirement already satisfied: tomli<3.0.0,>=2.0.1 in /usr/local/lib/python3.11/dist-packages (from flwr[simulation]) (2.2.1)\n",
            "Requirement already satisfied: tomli-w<2.0.0,>=1.0.0 in /usr/local/lib/python3.11/dist-packages (from flwr[simulation]) (1.2.0)\n",
            "Requirement already satisfied: typer<0.13.0,>=0.12.5 in /usr/local/lib/python3.11/dist-packages (from flwr[simulation]) (0.12.5)\n",
            "Requirement already satisfied: click>=7.0 in /usr/local/lib/python3.11/dist-packages (from ray==2.31.0->flwr[simulation]) (8.1.8)\n",
            "Requirement already satisfied: filelock in /usr/local/lib/python3.11/dist-packages (from ray==2.31.0->flwr[simulation]) (3.18.0)\n",
            "Requirement already satisfied: jsonschema in /usr/local/lib/python3.11/dist-packages (from ray==2.31.0->flwr[simulation]) (4.23.0)\n",
            "Requirement already satisfied: msgpack<2.0.0,>=1.0.0 in /usr/local/lib/python3.11/dist-packages (from ray==2.31.0->flwr[simulation]) (1.1.0)\n",
            "Requirement already satisfied: packaging in /usr/local/lib/python3.11/dist-packages (from ray==2.31.0->flwr[simulation]) (24.2)\n",
            "Requirement already satisfied: aiosignal in /usr/local/lib/python3.11/dist-packages (from ray==2.31.0->flwr[simulation]) (1.3.2)\n",
            "Requirement already satisfied: frozenlist in /usr/local/lib/python3.11/dist-packages (from ray==2.31.0->flwr[simulation]) (1.6.0)\n",
            "Requirement already satisfied: cffi>=1.12 in /usr/local/lib/python3.11/dist-packages (from cryptography<45.0.0,>=44.0.1->flwr[simulation]) (1.17.1)\n",
            "Requirement already satisfied: charset-normalizer<4,>=2 in /usr/local/lib/python3.11/dist-packages (from requests<3.0.0,>=2.31.0->flwr[simulation]) (3.4.1)\n",
            "Requirement already satisfied: idna<4,>=2.5 in /usr/local/lib/python3.11/dist-packages (from requests<3.0.0,>=2.31.0->flwr[simulation]) (3.10)\n",
            "Requirement already satisfied: urllib3<3,>=1.21.1 in /usr/local/lib/python3.11/dist-packages (from requests<3.0.0,>=2.31.0->flwr[simulation]) (2.4.0)\n",
            "Requirement already satisfied: certifi>=2017.4.17 in /usr/local/lib/python3.11/dist-packages (from requests<3.0.0,>=2.31.0->flwr[simulation]) (2025.4.26)\n",
            "Requirement already satisfied: markdown-it-py>=2.2.0 in /usr/local/lib/python3.11/dist-packages (from rich<14.0.0,>=13.5.0->flwr[simulation]) (3.0.0)\n",
            "Requirement already satisfied: pygments<3.0.0,>=2.13.0 in /usr/local/lib/python3.11/dist-packages (from rich<14.0.0,>=13.5.0->flwr[simulation]) (2.19.1)\n",
            "Requirement already satisfied: typing-extensions>=3.7.4.3 in /usr/local/lib/python3.11/dist-packages (from typer<0.13.0,>=0.12.5->flwr[simulation]) (4.13.2)\n",
            "Requirement already satisfied: shellingham>=1.3.0 in /usr/local/lib/python3.11/dist-packages (from typer<0.13.0,>=0.12.5->flwr[simulation]) (1.5.4)\n",
            "Requirement already satisfied: pycparser in /usr/local/lib/python3.11/dist-packages (from cffi>=1.12->cryptography<45.0.0,>=44.0.1->flwr[simulation]) (2.22)\n",
            "Requirement already satisfied: mdurl~=0.1 in /usr/local/lib/python3.11/dist-packages (from markdown-it-py>=2.2.0->rich<14.0.0,>=13.5.0->flwr[simulation]) (0.1.2)\n",
            "Requirement already satisfied: attrs>=22.2.0 in /usr/local/lib/python3.11/dist-packages (from jsonschema->ray==2.31.0->flwr[simulation]) (25.3.0)\n",
            "Requirement already satisfied: jsonschema-specifications>=2023.03.6 in /usr/local/lib/python3.11/dist-packages (from jsonschema->ray==2.31.0->flwr[simulation]) (2025.4.1)\n",
            "Requirement already satisfied: referencing>=0.28.4 in /usr/local/lib/python3.11/dist-packages (from jsonschema->ray==2.31.0->flwr[simulation]) (0.36.2)\n",
            "Requirement already satisfied: rpds-py>=0.7.1 in /usr/local/lib/python3.11/dist-packages (from jsonschema->ray==2.31.0->flwr[simulation]) (0.24.0)\n",
            "Requirement already satisfied: timm in /usr/local/lib/python3.11/dist-packages (1.0.15)\n",
            "Requirement already satisfied: torch in /usr/local/lib/python3.11/dist-packages (from timm) (2.6.0+cu124)\n",
            "Requirement already satisfied: torchvision in /usr/local/lib/python3.11/dist-packages (from timm) (0.21.0+cu124)\n",
            "Requirement already satisfied: pyyaml in /usr/local/lib/python3.11/dist-packages (from timm) (6.0.2)\n",
            "Requirement already satisfied: huggingface_hub in /usr/local/lib/python3.11/dist-packages (from timm) (0.30.2)\n",
            "Requirement already satisfied: safetensors in /usr/local/lib/python3.11/dist-packages (from timm) (0.5.3)\n",
            "Requirement already satisfied: filelock in /usr/local/lib/python3.11/dist-packages (from huggingface_hub->timm) (3.18.0)\n",
            "Requirement already satisfied: fsspec>=2023.5.0 in /usr/local/lib/python3.11/dist-packages (from huggingface_hub->timm) (2025.3.2)\n",
            "Requirement already satisfied: packaging>=20.9 in /usr/local/lib/python3.11/dist-packages (from huggingface_hub->timm) (24.2)\n",
            "Requirement already satisfied: requests in /usr/local/lib/python3.11/dist-packages (from huggingface_hub->timm) (2.32.3)\n",
            "Requirement already satisfied: tqdm>=4.42.1 in /usr/local/lib/python3.11/dist-packages (from huggingface_hub->timm) (4.67.1)\n",
            "Requirement already satisfied: typing-extensions>=3.7.4.3 in /usr/local/lib/python3.11/dist-packages (from huggingface_hub->timm) (4.13.2)\n",
            "Requirement already satisfied: networkx in /usr/local/lib/python3.11/dist-packages (from torch->timm) (3.4.2)\n",
            "Requirement already satisfied: jinja2 in /usr/local/lib/python3.11/dist-packages (from torch->timm) (3.1.6)\n",
            "Requirement already satisfied: nvidia-cuda-nvrtc-cu12==12.4.127 in /usr/local/lib/python3.11/dist-packages (from torch->timm) (12.4.127)\n",
            "Requirement already satisfied: nvidia-cuda-runtime-cu12==12.4.127 in /usr/local/lib/python3.11/dist-packages (from torch->timm) (12.4.127)\n",
            "Requirement already satisfied: nvidia-cuda-cupti-cu12==12.4.127 in /usr/local/lib/python3.11/dist-packages (from torch->timm) (12.4.127)\n",
            "Requirement already satisfied: nvidia-cudnn-cu12==9.1.0.70 in /usr/local/lib/python3.11/dist-packages (from torch->timm) (9.1.0.70)\n",
            "Requirement already satisfied: nvidia-cublas-cu12==12.4.5.8 in /usr/local/lib/python3.11/dist-packages (from torch->timm) (12.4.5.8)\n",
            "Requirement already satisfied: nvidia-cufft-cu12==11.2.1.3 in /usr/local/lib/python3.11/dist-packages (from torch->timm) (11.2.1.3)\n",
            "Requirement already satisfied: nvidia-curand-cu12==10.3.5.147 in /usr/local/lib/python3.11/dist-packages (from torch->timm) (10.3.5.147)\n",
            "Requirement already satisfied: nvidia-cusolver-cu12==11.6.1.9 in /usr/local/lib/python3.11/dist-packages (from torch->timm) (11.6.1.9)\n",
            "Requirement already satisfied: nvidia-cusparse-cu12==12.3.1.170 in /usr/local/lib/python3.11/dist-packages (from torch->timm) (12.3.1.170)\n",
            "Requirement already satisfied: nvidia-cusparselt-cu12==0.6.2 in /usr/local/lib/python3.11/dist-packages (from torch->timm) (0.6.2)\n",
            "Requirement already satisfied: nvidia-nccl-cu12==2.21.5 in /usr/local/lib/python3.11/dist-packages (from torch->timm) (2.21.5)\n",
            "Requirement already satisfied: nvidia-nvtx-cu12==12.4.127 in /usr/local/lib/python3.11/dist-packages (from torch->timm) (12.4.127)\n",
            "Requirement already satisfied: nvidia-nvjitlink-cu12==12.4.127 in /usr/local/lib/python3.11/dist-packages (from torch->timm) (12.4.127)\n",
            "Requirement already satisfied: triton==3.2.0 in /usr/local/lib/python3.11/dist-packages (from torch->timm) (3.2.0)\n",
            "Requirement already satisfied: sympy==1.13.1 in /usr/local/lib/python3.11/dist-packages (from torch->timm) (1.13.1)\n",
            "Requirement already satisfied: mpmath<1.4,>=1.1.0 in /usr/local/lib/python3.11/dist-packages (from sympy==1.13.1->torch->timm) (1.3.0)\n",
            "Requirement already satisfied: numpy in /usr/local/lib/python3.11/dist-packages (from torchvision->timm) (2.0.2)\n",
            "Requirement already satisfied: pillow!=8.3.*,>=5.3.0 in /usr/local/lib/python3.11/dist-packages (from torchvision->timm) (11.2.1)\n",
            "Requirement already satisfied: MarkupSafe>=2.0 in /usr/local/lib/python3.11/dist-packages (from jinja2->torch->timm) (3.0.2)\n",
            "Requirement already satisfied: charset-normalizer<4,>=2 in /usr/local/lib/python3.11/dist-packages (from requests->huggingface_hub->timm) (3.4.1)\n",
            "Requirement already satisfied: idna<4,>=2.5 in /usr/local/lib/python3.11/dist-packages (from requests->huggingface_hub->timm) (3.10)\n",
            "Requirement already satisfied: urllib3<3,>=1.21.1 in /usr/local/lib/python3.11/dist-packages (from requests->huggingface_hub->timm) (2.4.0)\n",
            "Requirement already satisfied: certifi>=2017.4.17 in /usr/local/lib/python3.11/dist-packages (from requests->huggingface_hub->timm) (2025.4.26)\n"
          ]
        }
      ]
    },
    {
      "cell_type": "code",
      "source": [
        "from datetime import datetime\n",
        "from functools import partial\n",
        "from flwr.server import ServerConfig\n",
        "import random\n",
        "import numpy as np\n",
        "import torch.nn as nn\n",
        "from torchvision import transforms\n",
        "import timm\n",
        "import torch\n",
        "import os\n",
        "import torchvision\n",
        "import torchvision.transforms as transforms\n",
        "from torch.utils.data import random_split, DataLoader\n",
        "from torch.utils.tensorboard import SummaryWriter\n",
        "import flwr as fl\n",
        "from flwr.simulation import run_simulation\n",
        "from flwr.common import Context\n",
        "from flwr.server import ServerApp, ServerAppComponents, ServerConfig\n",
        "from flwr.client import ClientApp\n",
        "from flwr.common import parameters_to_ndarrays\n",
        "from collections import OrderedDict\n",
        "from wandb_logger import FederatedWandBLogger\n",
        "import data_utils\n",
        "import clients\n",
        "import strategies\n",
        "import data_preprocessing"
      ],
      "metadata": {
        "id": "5Xp1pUuaE6mR"
      },
      "execution_count": 2,
      "outputs": []
    },
    {
      "cell_type": "code",
      "source": [
        "def build_optimizer_config(optimizer_type):\n",
        "    if optimizer_type == clients.OptimizerType.SGD:\n",
        "        config = {\n",
        "            \"lr\": LR,\n",
        "            \"momentum\": MOMENTUM,\n",
        "            \"weight_decay\": WEIGHT_DECAY,\n",
        "            \"nesterov\": NESTEROV\n",
        "        }\n",
        "\n",
        "    elif optimizer_type == clients.OptimizerType.ADAM:\n",
        "        config = {\n",
        "            \"lr\": LR,\n",
        "            \"betas\": BETAS,\n",
        "            \"weight_decay\": WEIGHT_DECAY,\n",
        "            \"eps\": EPSILON\n",
        "        }\n",
        "\n",
        "    elif optimizer_type == clients.OptimizerType.ADAMW:\n",
        "        config = {\n",
        "            \"lr\": LR,\n",
        "            \"betas\": BETAS,\n",
        "            \"weight_decay\": WEIGHT_DECAY\n",
        "        }\n",
        "\n",
        "    elif optimizer_type == clients.OptimizerType.RMSPROP:\n",
        "        config = {\n",
        "            \"lr\": LR,\n",
        "            \"alpha\": ALPHA,\n",
        "            \"eps\": EPSILON,\n",
        "            \"weight_decay\": WEIGHT_DECAY,\n",
        "            \"momentum\": MOMENTUM,\n",
        "            \"centered\": CENTERED\n",
        "        }\n",
        "\n",
        "    elif optimizer_type == clients.OptimizerType.ADAGRAD:\n",
        "        config = {\n",
        "            \"lr\": LR,\n",
        "            \"weight_decay\": WEIGHT_DECAY,\n",
        "            \"eps\": EPSILON\n",
        "        }\n",
        "    else:\n",
        "        raise ValueError(f\"Unsupported optimizer type: {optimizer_type}\")\n",
        "\n",
        "    print(f\"Optimizer '{optimizer_type}' initialized successfully.\")\n",
        "    return config"
      ],
      "metadata": {
        "id": "FjV-eYsA1qdH"
      },
      "execution_count": 3,
      "outputs": []
    },
    {
      "cell_type": "code",
      "source": [
        "def build_scheduler_config(scheduler_type):\n",
        "\n",
        "    if scheduler_type == clients.SchedulerType.COSINE:\n",
        "        config = {\n",
        "            \"T_max\": T_MAX,\n",
        "            \"eta_min\": ETA_MIN\n",
        "        }\n",
        "\n",
        "    elif scheduler_type == clients.SchedulerType.COSINE_RESTART:\n",
        "        config = {\n",
        "            \"T_0\": T_MAX,\n",
        "            \"T_mult\": 1,\n",
        "            \"eta_min\": ETA_MIN\n",
        "        }\n",
        "\n",
        "    elif scheduler_type == clients.SchedulerType.STEP:\n",
        "        config = {\n",
        "            \"step_size\": STEP_SIZE,\n",
        "            \"gamma\": GAMMA\n",
        "        }\n",
        "\n",
        "    elif scheduler_type == clients.SchedulerType.MULTISTEP:\n",
        "        config = {\n",
        "            \"milestones\": MILESTONES,\n",
        "            \"gamma\": GAMMA\n",
        "        }\n",
        "\n",
        "    elif scheduler_type == clients.SchedulerType.EXPONENTIAL:\n",
        "        config = {\n",
        "            \"gamma\": GAMMA\n",
        "        }\n",
        "\n",
        "    elif scheduler_type == clients.SchedulerType.REDUCE_ON_PLATEAU:\n",
        "        config = {\n",
        "            \"mode\": \"min\",\n",
        "            \"factor\": FACTOR,\n",
        "            \"patience\": PATIENCE,\n",
        "            \"threshold\": THRESHOLD\n",
        "        }\n",
        "\n",
        "    elif scheduler_type == clients.SchedulerType.CONSTANT:\n",
        "        config = {\n",
        "            \"factor\": 1.0,\n",
        "            \"total_iters\": TOTAL_ITERS\n",
        "        }\n",
        "\n",
        "    elif scheduler_type == clients.SchedulerType.LINEAR:\n",
        "        config = {\n",
        "            \"start_factor\": 0.5,\n",
        "            \"end_factor\": LR_END,\n",
        "            \"total_iters\": TOTAL_ITERS\n",
        "        }\n",
        "\n",
        "    else:\n",
        "        raise ValueError(f\"Unsupported scheduler type: {scheduler_type}\")\n",
        "\n",
        "    print(f\"Scheduler '{scheduler_type}' initialized successfully.\")\n",
        "    return config"
      ],
      "metadata": {
        "id": "dvNGxKWx12Ad"
      },
      "execution_count": 4,
      "outputs": []
    },
    {
      "cell_type": "code",
      "source": [
        "def seed_everything(seed=42):\n",
        "    random.seed(seed)\n",
        "    np.random.seed(seed)\n",
        "    torch.manual_seed(seed)\n",
        "    torch.cuda.manual_seed_all(seed)\n",
        "    os.environ[\"PYTHONHASHSEED\"] = str(seed)\n",
        "    torch.backends.cudnn.deterministic = True\n",
        "    torch.backends.cudnn.benchmark = False\n",
        "\n",
        "seed_everything(42)"
      ],
      "metadata": {
        "id": "qbmrMF8AzgV6"
      },
      "execution_count": 5,
      "outputs": []
    },
    {
      "cell_type": "code",
      "source": [
        "# THE WHOLE TRAINING SETTINGS ARE HERE!\n",
        "\n",
        "# GENERAL\n",
        "BATCH_SIZE = 32\n",
        "EPOCHS = 15\n",
        "VAL_SPLIT = 0.1\n",
        "DEVICE = torch.device(\"cuda\" if torch.cuda.is_available() else \"cpu\")\n",
        "BACKBONE_FREEZING = True\n",
        "\n",
        "# FL\n",
        "NUM_CLIENTS = 100\n",
        "NC = 50\n",
        "LOCAL_EPOCHS = 4\n",
        "NUM_ROUNDS = 8\n",
        "FRACTION_FIT = 0.1\n",
        "FRACTION_EVAL = 0.03\n",
        "CLIENT_TYPE = clients.ClientType.STANDARD\n",
        "STRATEGY_TYPE = strategies.StrategiesType.FEDAVG\n",
        "IID = False\n",
        "\n",
        "# LOSS\n",
        "SMOOTHING=0.1\n",
        "\n",
        "# Optimizer Hyperparameters\n",
        "LR = 0.03\n",
        "MOMENTUM = 0.9\n",
        "WEIGHT_DECAY = 1e-4\n",
        "NESTEROV = False\n",
        "BETAS = (0.9, 0.999)\n",
        "EPSILON = 1e-8\n",
        "ALPHA = 0.99\n",
        "CENTERED = False\n",
        "OPTIMIZER_TYPE  = clients.OptimizerType.SGD\n",
        "\n",
        "# Scheduler Hyperparameters\n",
        "T_MAX = 8\n",
        "ETA_MIN = 1e-6\n",
        "STEP_SIZE = 30\n",
        "GAMMA = 0.1\n",
        "MILESTONES = [50, 75]\n",
        "FACTOR = 0.1\n",
        "PATIENCE = 5\n",
        "THRESHOLD = 1e-4\n",
        "TOTAL_ITERS = 10\n",
        "LR_END = 0.0\n",
        "SCHEDULER_TYPE  = clients.SchedulerType.COSINE\n",
        "\n",
        "# FedProx\n",
        "\n",
        "MU = 0.1\n",
        "\n",
        "OPTIMIZER_CONFIG = build_optimizer_config(OPTIMIZER_TYPE)\n",
        "SCHEDULER_CONFIG = build_scheduler_config(SCHEDULER_TYPE)"
      ],
      "metadata": {
        "id": "1799ScT_ohcp",
        "colab": {
          "base_uri": "https://localhost:8080/"
        },
        "outputId": "4ab50ea5-64c6-4717-fee7-646efe79d2ec"
      },
      "execution_count": 6,
      "outputs": [
        {
          "output_type": "stream",
          "name": "stdout",
          "text": [
            "Optimizer 'OptimizerType.SGD' initialized successfully.\n",
            "Scheduler 'SchedulerType.COSINE' initialized successfully.\n"
          ]
        }
      ]
    },
    {
      "cell_type": "code",
      "execution_count": 7,
      "metadata": {
        "colab": {
          "base_uri": "https://localhost:8080/"
        },
        "id": "dO_pxQucjrtp",
        "outputId": "cb97f1f0-4ce0-498c-b0f5-e6cdd40771ff"
      },
      "outputs": [
        {
          "output_type": "stream",
          "name": "stdout",
          "text": [
            "Setup complete. IID and Non-IID splits created.\n"
          ]
        }
      ],
      "source": [
        "pipeline = data_preprocessing.CIFAR100Pipeline(val_split=VAL_SPLIT, use_augment=True)\n",
        "trainset, valset, testset = pipeline.run_pipeline()\n",
        "\n",
        "trainloader = DataLoader(trainset, batch_size=BATCH_SIZE, shuffle=True)\n",
        "valloader = DataLoader(valset, batch_size=BATCH_SIZE)\n",
        "testloader = DataLoader(testset, batch_size=BATCH_SIZE)\n",
        "\n",
        "# Apply sharding\n",
        "client_datasets_iid = data_utils.iid_split(trainset, NUM_CLIENTS)\n",
        "client_datasets_noniid = None\n",
        "if not IID:\n",
        "    client_datasets_noniid = data_utils.non_iid_split(trainset, NUM_CLIENTS, NC, 100)\n",
        "\n",
        "print(\"Setup complete. IID and Non-IID splits created.\")"
      ]
    },
    {
      "cell_type": "code",
      "source": [
        "# Create model\n",
        "def create_dino_vit_s16_for_cifar100(freezing=BACKBONE_FREEZING):\n",
        "    model = timm.create_model(\"vit_small_patch16_224_dino\", pretrained=True, num_classes=0)\n",
        "\n",
        "    # Replace the head with CIFAR-100 classification head\n",
        "    model.head = nn.Linear(model.num_features, 100)\n",
        "\n",
        "    if freezing:\n",
        "      # Freeze all parameters except head\n",
        "      for param in model.parameters():\n",
        "          param.requires_grad = False\n",
        "\n",
        "      # Unfreeze only the head\n",
        "      for param in model.head.parameters():\n",
        "          param.requires_grad = True\n",
        "\n",
        "    return model"
      ],
      "metadata": {
        "id": "1Q4llQU021yr"
      },
      "execution_count": 8,
      "outputs": []
    },
    {
      "cell_type": "code",
      "source": [
        "!wandb login f8ad3703c9023ee3f86c7242a87d9280b6c031fb"
      ],
      "metadata": {
        "colab": {
          "base_uri": "https://localhost:8080/"
        },
        "id": "kgTCGG3-44cf",
        "outputId": "73104bef-235b-4710-9a69-b6bf825bd6e3"
      },
      "execution_count": 9,
      "outputs": [
        {
          "output_type": "stream",
          "name": "stdout",
          "text": [
            "\u001b[34m\u001b[1mwandb\u001b[0m: \u001b[33mWARNING\u001b[0m Using legacy-service, which is deprecated. If this is unintentional, you can fix it by ensuring you do not call `wandb.require('legacy-service')` and do not set the WANDB_X_REQUIRE_LEGACY_SERVICE environment variable.\n",
            "\u001b[34m\u001b[1mwandb\u001b[0m: Appending key for api.wandb.ai to your netrc file: /root/.netrc\n",
            "\u001b[34m\u001b[1mwandb\u001b[0m: W&B API key is configured. Use \u001b[1m`wandb login --relogin`\u001b[0m to force relogin\n"
          ]
        }
      ]
    },
    {
      "cell_type": "code",
      "source": [
        "data_distribution = \"IID_DATA\" if IID else \"NON_IID_DATA\"\n",
        "run_name = f\"FEDERATED_{data_distribution}_{datetime.now().strftime('%Y%m%d-%H%M%S')}\"\n",
        "\n",
        "if CLIENT_TYPE == clients.ClientType.STANDARD:\n",
        "    client_app = ClientApp(\n",
        "        client_fn=clients.build_client_fn(\n",
        "            use_iid=IID,\n",
        "            optimizer_type=OPTIMIZER_TYPE,\n",
        "            scheduler_type=SCHEDULER_TYPE,\n",
        "            optimizer_config=OPTIMIZER_CONFIG,\n",
        "            scheduler_config=SCHEDULER_CONFIG,\n",
        "            iid_partitions=client_datasets_iid,\n",
        "            non_iid_partitions=client_datasets_noniid,\n",
        "            model_fn=create_dino_vit_s16_for_cifar100,\n",
        "            device=DEVICE,\n",
        "            valset=valset,\n",
        "            local_epochs=LOCAL_EPOCHS,\n",
        "            batch_size=BATCH_SIZE\n",
        "        )\n",
        "    )\n",
        "    client_config = None\n",
        "else:\n",
        "    client_app = ClientApp(\n",
        "    client_fn=clients.build_client_fedprox_fn(\n",
        "        use_iid=IID,\n",
        "        optimizer_type=OPTIMIZER_TYPE,\n",
        "        scheduler_type=SCHEDULER_TYPE,\n",
        "        optimizer_config=OPTIMIZER_CONFIG,\n",
        "        scheduler_config=SCHEDULER_CONFIG,\n",
        "        iid_partitions=client_datasets_iid,\n",
        "        non_iid_partitions=client_datasets_noniid,\n",
        "        model_fn=create_dino_vit_s16_for_cifar100,\n",
        "        device=DEVICE,\n",
        "        valset=valset,\n",
        "        local_epochs=LOCAL_EPOCHS,\n",
        "        batch_size=BATCH_SIZE,\n",
        "        mu=MU\n",
        "    )\n",
        "    )\n",
        "    client_config = {\"mu\": MU}\n",
        "\n",
        "logger = FederatedWandBLogger(\n",
        "    project_name=\"federated-learning-project\",\n",
        "    run_name=run_name,\n",
        "    global_config={\n",
        "        # Federated Learning Configuration\n",
        "        \"use_iid\": IID,\n",
        "        \"local_epochs\": LOCAL_EPOCHS,\n",
        "        \"batch_size\": BATCH_SIZE,\n",
        "        \"num_clients\": NUM_CLIENTS,\n",
        "        \"fraction_fit\": FRACTION_FIT,\n",
        "        \"fraction_evaluate\": FRACTION_EVAL,\n",
        "        \"backbone_freezing\": BACKBONE_FREEZING,\n",
        "        \"client_type\": CLIENT_TYPE.value,\n",
        "        \"client_config\": client_config,\n",
        "        \"strategy_type\": STRATEGY_TYPE.value,\n",
        "        \"val_split\": VAL_SPLIT,\n",
        "\n",
        "        # Optimizer Configuration\n",
        "        \"optimizer\": OPTIMIZER_TYPE.value,\n",
        "        \"optimizer_config\": OPTIMIZER_CONFIG,\n",
        "\n",
        "        # Scheduler Configuration\n",
        "        \"scheduler\": SCHEDULER_TYPE.value,\n",
        "        \"scheduler_config\": SCHEDULER_CONFIG,\n",
        "    }\n",
        ")\n",
        "\n",
        "if STRATEGY_TYPE == strategies.StrategiesType.FEDAVG:\n",
        "    strategy = strategies.FedAvgStandard(\n",
        "        logger=logger,\n",
        "        fraction_fit=FRACTION_FIT,\n",
        "        min_fit_clients=int(FRACTION_FIT*NUM_CLIENTS),\n",
        "        min_evaluate_clients=int(FRACTION_EVAL*NUM_CLIENTS),\n",
        "        fraction_evaluate=FRACTION_EVAL,\n",
        "        min_available_clients=NUM_CLIENTS,\n",
        "        evaluate_metrics_aggregation_fn = lambda metrics: {\n",
        "            \"accuracy\": sum(num * m[\"val_accuracy\"] for num, m in metrics) / sum(num for num, _ in metrics)\n",
        "        }\n",
        "    )\n",
        "else:\n",
        "    strategy = strategies.FedYogiStandard(\n",
        "        logger=logger,\n",
        "        fraction_fit=FRACTION_FIT,\n",
        "        min_fit_clients=int(FRACTION_FIT*NUM_CLIENTS),\n",
        "        min_evaluate_clients=int(FRACTION_EVAL*NUM_CLIENTS),\n",
        "        fraction_evaluate=FRACTION_EVAL,\n",
        "        min_available_clients=NUM_CLIENTS,\n",
        "        evaluate_metrics_aggregation_fn = lambda metrics: {\n",
        "            \"accuracy\": sum(num * m[\"val_accuracy\"] for num, m in metrics) / sum(num for num, _ in metrics)\n",
        "        }\n",
        "    )\n",
        "\n",
        "def server_fn(context: Context) -> ServerAppComponents:\n",
        "    \"\"\"Construct components that set the ServerApp behaviour.\n",
        "\n",
        "    You can use the settings in `context.run_config` to parameterize the\n",
        "    construction of all elements (e.g the strategy or the number of rounds)\n",
        "    wrapped in the returned ServerAppComponents object.\n",
        "    \"\"\"\n",
        "    config = ServerConfig(num_rounds=NUM_ROUNDS)\n",
        "    return ServerAppComponents(strategy=strategy, config=config)\n",
        "\n",
        "server_app = ServerApp(server_fn=server_fn)"
      ],
      "metadata": {
        "id": "31KOm819XUko",
        "colab": {
          "base_uri": "https://localhost:8080/",
          "height": 191
        },
        "outputId": "41c9a6bd-749c-4ca6-e1e5-8e855ef712ea"
      },
      "execution_count": 10,
      "outputs": [
        {
          "output_type": "stream",
          "name": "stderr",
          "text": [
            "/usr/local/lib/python3.11/dist-packages/notebook/utils.py:280: DeprecationWarning: distutils Version classes are deprecated. Use packaging.version instead.\n",
            "  return LooseVersion(v) >= LooseVersion(check)\n",
            "\u001b[34m\u001b[1mwandb\u001b[0m: Currently logged in as: \u001b[33ms339170\u001b[0m (\u001b[33mpolito-fl\u001b[0m) to \u001b[32mhttps://api.wandb.ai\u001b[0m. Use \u001b[1m`wandb login --relogin`\u001b[0m to force relogin\n",
            "/usr/local/lib/python3.11/dist-packages/wandb/analytics/sentry.py:259: DeprecationWarning: The `Scope.user` setter is deprecated in favor of `Scope.set_user()`.\n",
            "  self.scope.user = {\"email\": email}  # noqa\n"
          ]
        },
        {
          "output_type": "display_data",
          "data": {
            "text/plain": [
              "<IPython.core.display.HTML object>"
            ],
            "text/html": [
              "Tracking run with wandb version 0.19.10"
            ]
          },
          "metadata": {}
        },
        {
          "output_type": "display_data",
          "data": {
            "text/plain": [
              "<IPython.core.display.HTML object>"
            ],
            "text/html": [
              "Run data is saved locally in <code>/content/wandb/run-20250512_105226-b1vokeyb</code>"
            ]
          },
          "metadata": {}
        },
        {
          "output_type": "display_data",
          "data": {
            "text/plain": [
              "<IPython.core.display.HTML object>"
            ],
            "text/html": [
              "Syncing run <strong><a href='https://wandb.ai/polito-fl/federated-learning-project/runs/b1vokeyb' target=\"_blank\">FEDERATED_NON_IID_DATA_20250512-105225</a></strong> to <a href='https://wandb.ai/polito-fl/federated-learning-project' target=\"_blank\">Weights & Biases</a> (<a href='https://wandb.me/developer-guide' target=\"_blank\">docs</a>)<br>"
            ]
          },
          "metadata": {}
        },
        {
          "output_type": "display_data",
          "data": {
            "text/plain": [
              "<IPython.core.display.HTML object>"
            ],
            "text/html": [
              " View project at <a href='https://wandb.ai/polito-fl/federated-learning-project' target=\"_blank\">https://wandb.ai/polito-fl/federated-learning-project</a>"
            ]
          },
          "metadata": {}
        },
        {
          "output_type": "display_data",
          "data": {
            "text/plain": [
              "<IPython.core.display.HTML object>"
            ],
            "text/html": [
              " View run at <a href='https://wandb.ai/polito-fl/federated-learning-project/runs/b1vokeyb' target=\"_blank\">https://wandb.ai/polito-fl/federated-learning-project/runs/b1vokeyb</a>"
            ]
          },
          "metadata": {}
        }
      ]
    },
    {
      "cell_type": "code",
      "source": [
        "device = torch.device(\"cuda\" if torch.cuda.is_available() else \"cpu\")\n",
        "\n",
        "backend_config = {\"client_resources\": {\"num_cpus\": 1, \"num_gpus\": 0.0}}\n",
        "\n",
        "if device.type == \"cuda\":\n",
        "    backend_config = {\"client_resources\": {\"num_cpus\": 1, \"num_gpus\": 1.0}}"
      ],
      "metadata": {
        "id": "9To1c6PtSman"
      },
      "execution_count": 11,
      "outputs": []
    },
    {
      "cell_type": "code",
      "source": [
        "run_simulation(\n",
        "    server_app=server_app,\n",
        "    client_app=client_app,\n",
        "    num_supernodes=NUM_CLIENTS,\n",
        "    backend_config=backend_config\n",
        ")"
      ],
      "metadata": {
        "colab": {
          "base_uri": "https://localhost:8080/"
        },
        "id": "VmOdfanrsuOM",
        "outputId": "d72a3114-2788-401f-ce1e-2e5e313f1e5b"
      },
      "execution_count": null,
      "outputs": [
        {
          "output_type": "stream",
          "name": "stderr",
          "text": [
            "DEBUG:flwr:Asyncio event loop already running.\n",
            "\u001b[92mINFO \u001b[0m:      Starting Flower ServerApp, config: num_rounds=8, no round_timeout\n",
            "\u001b[92mINFO \u001b[0m:      \n",
            "\u001b[92mINFO \u001b[0m:      [INIT]\n",
            "\u001b[92mINFO \u001b[0m:      Requesting initial parameters from one random client\n",
            "\u001b[36m(pid=42088)\u001b[0m 2025-05-12 10:52:38.116963: E external/local_xla/xla/stream_executor/cuda/cuda_fft.cc:477] Unable to register cuFFT factory: Attempting to register factory for plugin cuFFT when one has already been registered\n",
            "\u001b[36m(pid=42088)\u001b[0m WARNING: All log messages before absl::InitializeLog() is called are written to STDERR\n",
            "\u001b[36m(pid=42088)\u001b[0m E0000 00:00:1747047158.155704   42088 cuda_dnn.cc:8310] Unable to register cuDNN factory: Attempting to register factory for plugin cuDNN when one has already been registered\n",
            "\u001b[36m(pid=42088)\u001b[0m E0000 00:00:1747047158.168955   42088 cuda_blas.cc:1418] Unable to register cuBLAS factory: Attempting to register factory for plugin cuBLAS when one has already been registered\n"
          ]
        },
        {
          "output_type": "stream",
          "name": "stdout",
          "text": [
            "\u001b[36m(ClientAppActor pid=42088)\u001b[0m LOG: Initializing client with CID=67\n",
            "\u001b[36m(ClientAppActor pid=42088)\u001b[0m 67-LOG: Data partition assigned to client 67 -> Non-IID\n"
          ]
        },
        {
          "output_type": "stream",
          "name": "stderr",
          "text": [
            "\u001b[36m(ClientAppActor pid=42088)\u001b[0m /usr/local/lib/python3.11/dist-packages/timm/models/_factory.py:126: UserWarning: Mapping deprecated model name vit_small_patch16_224_dino to current vit_small_patch16_224.dino.\n",
            "\u001b[36m(ClientAppActor pid=42088)\u001b[0m   model = create_fn(\n"
          ]
        },
        {
          "output_type": "stream",
          "name": "stdout",
          "text": [
            "\u001b[36m(ClientAppActor pid=42088)\u001b[0m 67-LOG: Model initialized for client 67\n",
            "\u001b[36m(ClientAppActor pid=42088)\u001b[0m 67-LOG: Dataloaders initialized for client 67\n"
          ]
        },
        {
          "output_type": "stream",
          "name": "stderr",
          "text": [
            "\u001b[36m(ClientAppActor pid=42088)\u001b[0m /content/clients.py:204: FutureWarning: `torch.cuda.amp.GradScaler(args...)` is deprecated. Please use `torch.amp.GradScaler('cuda', args...)` instead.\n",
            "\u001b[36m(ClientAppActor pid=42088)\u001b[0m   self.scaler = GradScaler()\n",
            "\u001b[92mINFO \u001b[0m:      Received initial parameters from one random client\n",
            "\u001b[92mINFO \u001b[0m:      Starting evaluation of initial global parameters\n",
            "\u001b[92mINFO \u001b[0m:      Evaluation returned no results (`None`)\n",
            "\u001b[92mINFO \u001b[0m:      \n",
            "\u001b[92mINFO \u001b[0m:      [ROUND 1]\n",
            "\u001b[92mINFO \u001b[0m:      configure_fit: strategy sampled 10 clients (out of 100)\n"
          ]
        },
        {
          "output_type": "stream",
          "name": "stdout",
          "text": [
            "\u001b[36m(ClientAppActor pid=42088)\u001b[0m LOG: Initializing client with CID=11\n",
            "\u001b[36m(ClientAppActor pid=42088)\u001b[0m 11-LOG: Data partition assigned to client 11 -> Non-IID\n",
            "\u001b[36m(ClientAppActor pid=42088)\u001b[0m 11-LOG: Model initialized for client 11\n",
            "\u001b[36m(ClientAppActor pid=42088)\u001b[0m 11-LOG: Dataloaders initialized for client 11\n",
            "\u001b[36m(ClientAppActor pid=42088)\u001b[0m 11-LOG: Starting local training round\n",
            "\u001b[36m(ClientAppActor pid=42088)\u001b[0m 11-LOG: Starting epoch 1/4\n"
          ]
        },
        {
          "output_type": "stream",
          "name": "stderr",
          "text": [
            "\u001b[36m(ClientAppActor pid=42088)\u001b[0m /content/clients.py:254: FutureWarning: `torch.cuda.amp.autocast(args...)` is deprecated. Please use `torch.amp.autocast('cuda', args...)` instead.\n",
            "\u001b[36m(ClientAppActor pid=42088)\u001b[0m   with autocast():\n",
            "\u001b[36m(ClientAppActor pid=42088)\u001b[0m /usr/local/lib/python3.11/dist-packages/torch/optim/lr_scheduler.py:227: UserWarning: Detected call of `lr_scheduler.step()` before `optimizer.step()`. In PyTorch 1.1.0 and later, you should call them in the opposite order: `optimizer.step()` before `lr_scheduler.step()`.  Failure to do this will result in PyTorch skipping the first value of the learning rate schedule. See more details at https://pytorch.org/docs/stable/optim.html#how-to-adjust-learning-rate\n",
            "\u001b[36m(ClientAppActor pid=42088)\u001b[0m   warnings.warn(\n"
          ]
        },
        {
          "output_type": "stream",
          "name": "stdout",
          "text": [
            "\u001b[36m(ClientAppActor pid=42088)\u001b[0m 11-LOG: Starting epoch 2/4\n",
            "\u001b[36m(ClientAppActor pid=42088)\u001b[0m 11-LOG: Starting epoch 3/4\n",
            "\u001b[36m(ClientAppActor pid=42088)\u001b[0m 11-LOG: Starting epoch 4/4\n"
          ]
        }
      ]
    },
    {
      "cell_type": "code",
      "source": [
        "final_parameters = strategy.latest_parameters\n",
        "\n",
        "# Convert Flower parameters to list of numpy arrays\n",
        "ndarrays = parameters_to_ndarrays(final_parameters)\n",
        "\n",
        "# Load them into a PyTorch model\n",
        "iid_model = create_dino_vit_s16_for_cifar100()\n",
        "iid_model.to(device)\n",
        "state_dict = OrderedDict(\n",
        "    (key, torch.tensor(val)) for key, val in zip(iid_model.state_dict().keys(), ndarrays)\n",
        ")\n",
        "iid_model.load_state_dict(state_dict)\n",
        "\n",
        "correct, total, loss_total = 0, 0, 0.0\n",
        "criterion = torch.nn.CrossEntropyLoss()\n",
        "\n",
        "with torch.no_grad():\n",
        "    for images, labels in testloader:\n",
        "        images, labels = images.to(device), labels.to(device)\n",
        "        outputs = iid_model(images)\n",
        "        loss = criterion(outputs, labels)\n",
        "\n",
        "        loss_total += loss.item() * labels.size(0)\n",
        "        _, predicted = torch.max(outputs, 1)\n",
        "        total += labels.size(0)\n",
        "        correct += (predicted == labels).sum().item()\n",
        "\n",
        "test_loss = loss_total / total\n",
        "test_accuracy = correct / total\n",
        "\n",
        "logger.log_global_metrics({\n",
        "    \"test_loss\": test_loss,\n",
        "    \"test_accuracy\": test_accuracy\n",
        "}, round_number=NUM_ROUNDS)\n",
        "\n",
        "model_save_path = \"final_federated_model.pth\"\n",
        "torch.save(iid_model.state_dict(), model_save_path)\n",
        "\n",
        "logger.log_model(iid_model, path=model_save_path)\n",
        "\n",
        "logger.finish()\n",
        "\n",
        "print(f\"✅ Test Accuracy: {test_accuracy:.4f} | Test Loss: {test_loss:.4f}\")"
      ],
      "metadata": {
        "colab": {
          "base_uri": "https://localhost:8080/",
          "height": 1000
        },
        "id": "LmlarjszyoTm",
        "outputId": "0e5fbc80-c09c-438f-f106-bd0179905c17"
      },
      "execution_count": 13,
      "outputs": [
        {
          "output_type": "stream",
          "name": "stderr",
          "text": [
            "/usr/local/lib/python3.11/dist-packages/timm/models/_factory.py:126: UserWarning: Mapping deprecated model name vit_small_patch16_224_dino to current vit_small_patch16_224.dino.\n",
            "  model = create_fn(\n",
            "/usr/local/lib/python3.11/dist-packages/huggingface_hub/utils/_auth.py:94: UserWarning: \n",
            "The secret `HF_TOKEN` does not exist in your Colab secrets.\n",
            "To authenticate with the Hugging Face Hub, create a token in your settings tab (https://huggingface.co/settings/tokens), set it as secret in your Google Colab and restart your session.\n",
            "You will be able to reuse this secret in all of your notebooks.\n",
            "Please note that authentication is recommended but still optional to access public models or datasets.\n",
            "  warnings.warn(\n"
          ]
        },
        {
          "output_type": "display_data",
          "data": {
            "text/plain": [
              "<IPython.core.display.HTML object>"
            ],
            "text/html": []
          },
          "metadata": {}
        },
        {
          "output_type": "display_data",
          "data": {
            "text/plain": [
              "<IPython.core.display.HTML object>"
            ],
            "text/html": [
              "<br>    <style><br>        .wandb-row {<br>            display: flex;<br>            flex-direction: row;<br>            flex-wrap: wrap;<br>            justify-content: flex-start;<br>            width: 100%;<br>        }<br>        .wandb-col {<br>            display: flex;<br>            flex-direction: column;<br>            flex-basis: 100%;<br>            flex: 1;<br>            padding: 10px;<br>        }<br>    </style><br><div class=\"wandb-row\"><div class=\"wandb-col\"><h3>Run history:</h3><br/><table class=\"wandb\"><tr><td>client_0/train_accuracy</td><td>▁▅█▇▇██▇</td></tr><tr><td>client_0/train_loss</td><td>█▅▁▂▄▁▃▂</td></tr><tr><td>client_1/train_accuracy</td><td>▁▄▆▆█▇██</td></tr><tr><td>client_1/train_loss</td><td>█▆▃▃▁▂▁▁</td></tr><tr><td>client_2/train_accuracy</td><td>▁▅▇▇█▇█▇</td></tr><tr><td>client_2/train_loss</td><td>█▃▂▁▁▁▁▁</td></tr><tr><td>client_3/train_accuracy</td><td>▁▃▆▇▆▆█▆</td></tr><tr><td>client_3/train_loss</td><td>█▆▃▂▂▂▁▅</td></tr><tr><td>client_4/train_accuracy</td><td>▁▅▆▆▇█▇▇</td></tr><tr><td>client_4/train_loss</td><td>█▃▃▃▁▁▂▂</td></tr><tr><td>client_5/train_accuracy</td><td>▁▄▆▅▇▇▆█</td></tr><tr><td>client_5/train_loss</td><td>█▆▃▄▂▃▄▁</td></tr><tr><td>client_6/train_accuracy</td><td>▁▄▄▆▇▇█▇</td></tr><tr><td>client_6/train_loss</td><td>█▇▅▃▁▁▁▂</td></tr><tr><td>client_7/train_accuracy</td><td>▁▄▆▆█▇██</td></tr><tr><td>client_7/train_loss</td><td>█▇▃▄▁▂▁▁</td></tr><tr><td>client_8/train_accuracy</td><td>▁▄▆▆▆▇██</td></tr><tr><td>client_8/train_loss</td><td>█▆▃▃▄▃▁▁</td></tr><tr><td>client_9/train_accuracy</td><td>▁▅▇▇▇▇█▇</td></tr><tr><td>client_9/train_loss</td><td>█▄▂▂▃▃▁▁</td></tr><tr><td>global/accuracy</td><td>▁▅▇▇▇███</td></tr><tr><td>global/eval_loss</td><td>█▄▂▁▁▁▁▁</td></tr><tr><td>global/test_accuracy</td><td>▁</td></tr><tr><td>global/test_loss</td><td>▁</td></tr></table><br/></div><div class=\"wandb-col\"><h3>Run summary:</h3><br/><table class=\"wandb\"><tr><td>client_0/train_accuracy</td><td>0.68833</td></tr><tr><td>client_0/train_loss</td><td>5.47369</td></tr><tr><td>client_1/train_accuracy</td><td>0.75</td></tr><tr><td>client_1/train_loss</td><td>3.90922</td></tr><tr><td>client_2/train_accuracy</td><td>0.69611</td></tr><tr><td>client_2/train_loss</td><td>5.57213</td></tr><tr><td>client_3/train_accuracy</td><td>0.61889</td></tr><tr><td>client_3/train_loss</td><td>12.91196</td></tr><tr><td>client_4/train_accuracy</td><td>0.71167</td></tr><tr><td>client_4/train_loss</td><td>5.45625</td></tr><tr><td>client_5/train_accuracy</td><td>0.75222</td></tr><tr><td>client_5/train_loss</td><td>3.50741</td></tr><tr><td>client_6/train_accuracy</td><td>0.70111</td></tr><tr><td>client_6/train_loss</td><td>4.75967</td></tr><tr><td>client_7/train_accuracy</td><td>0.70722</td></tr><tr><td>client_7/train_loss</td><td>5.08014</td></tr><tr><td>client_8/train_accuracy</td><td>0.74167</td></tr><tr><td>client_8/train_loss</td><td>4.06929</td></tr><tr><td>client_9/train_accuracy</td><td>0.68667</td></tr><tr><td>client_9/train_loss</td><td>4.91141</td></tr><tr><td>global/accuracy</td><td>0.6608</td></tr><tr><td>global/eval_loss</td><td>4.3154</td></tr><tr><td>global/test_accuracy</td><td>0.6631</td></tr><tr><td>global/test_loss</td><td>4.46625</td></tr></table><br/></div></div>"
            ]
          },
          "metadata": {}
        },
        {
          "output_type": "display_data",
          "data": {
            "text/plain": [
              "<IPython.core.display.HTML object>"
            ],
            "text/html": [
              " View run <strong style=\"color:#cdcd00\">FEDERATED_IID_DATA_20250512-085841</strong> at: <a href='https://wandb.ai/polito-fl/federated-learning-project/runs/va87wo1b' target=\"_blank\">https://wandb.ai/polito-fl/federated-learning-project/runs/va87wo1b</a><br> View project at: <a href='https://wandb.ai/polito-fl/federated-learning-project' target=\"_blank\">https://wandb.ai/polito-fl/federated-learning-project</a><br>Synced 5 W&B file(s), 0 media file(s), 0 artifact file(s) and 1 other file(s)"
            ]
          },
          "metadata": {}
        },
        {
          "output_type": "display_data",
          "data": {
            "text/plain": [
              "<IPython.core.display.HTML object>"
            ],
            "text/html": [
              "Find logs at: <code>./wandb/run-20250512_085841-va87wo1b/logs</code>"
            ]
          },
          "metadata": {}
        },
        {
          "output_type": "stream",
          "name": "stdout",
          "text": [
            "✅ Test Accuracy: 0.6631 | Test Loss: 4.4662\n"
          ]
        }
      ]
    },
    {
      "cell_type": "code",
      "source": [],
      "metadata": {
        "id": "iyXTpniJcQAX"
      },
      "execution_count": null,
      "outputs": []
    }
  ]
}