{
  "cells": [
    {
      "cell_type": "code",
      "execution_count": null,
      "metadata": {
        "colab": {
          "base_uri": "https://localhost:8080/"
        },
        "id": "fXzQZhEOm54h",
        "outputId": "5174c73e-59b9-45cf-f567-5beb11099e7f"
      },
      "outputs": [
        {
          "output_type": "stream",
          "name": "stdout",
          "text": [
            "\u001b[2K   \u001b[90m━━━━━━━━━━━━━━━━━━━━━━━━━━━━━━━━━━━━━━━━\u001b[0m \u001b[32m540.0/540.0 kB\u001b[0m \u001b[31m15.1 MB/s\u001b[0m eta \u001b[36m0:00:00\u001b[0m\n",
            "\u001b[2K   \u001b[90m━━━━━━━━━━━━━━━━━━━━━━━━━━━━━━━━━━━━━━━━\u001b[0m \u001b[32m363.4/363.4 MB\u001b[0m \u001b[31m4.8 MB/s\u001b[0m eta \u001b[36m0:00:00\u001b[0m\n",
            "\u001b[2K   \u001b[90m━━━━━━━━━━━━━━━━━━━━━━━━━━━━━━━━━━━━━━━━\u001b[0m \u001b[32m13.8/13.8 MB\u001b[0m \u001b[31m96.2 MB/s\u001b[0m eta \u001b[36m0:00:00\u001b[0m\n",
            "\u001b[2K   \u001b[90m━━━━━━━━━━━━━━━━━━━━━━━━━━━━━━━━━━━━━━━━\u001b[0m \u001b[32m24.6/24.6 MB\u001b[0m \u001b[31m91.3 MB/s\u001b[0m eta \u001b[36m0:00:00\u001b[0m\n",
            "\u001b[2K   \u001b[90m━━━━━━━━━━━━━━━━━━━━━━━━━━━━━━━━━━━━━━━━\u001b[0m \u001b[32m883.7/883.7 kB\u001b[0m \u001b[31m55.8 MB/s\u001b[0m eta \u001b[36m0:00:00\u001b[0m\n",
            "\u001b[2K   \u001b[90m━━━━━━━━━━━━━━━━━━━━━━━━━━━━━━━━━━━━━━━\u001b[0m \u001b[32m664.8/664.8 MB\u001b[0m \u001b[31m974.6 kB/s\u001b[0m eta \u001b[36m0:00:00\u001b[0m\n",
            "\u001b[2K   \u001b[90m━━━━━━━━━━━━━━━━━━━━━━━━━━━━━━━━━━━━━━━━\u001b[0m \u001b[32m211.5/211.5 MB\u001b[0m \u001b[31m5.4 MB/s\u001b[0m eta \u001b[36m0:00:00\u001b[0m\n",
            "\u001b[2K   \u001b[90m━━━━━━━━━━━━━━━━━━━━━━━━━━━━━━━━━━━━━━━━\u001b[0m \u001b[32m56.3/56.3 MB\u001b[0m \u001b[31m12.8 MB/s\u001b[0m eta \u001b[36m0:00:00\u001b[0m\n",
            "\u001b[2K   \u001b[90m━━━━━━━━━━━━━━━━━━━━━━━━━━━━━━━━━━━━━━━━\u001b[0m \u001b[32m127.9/127.9 MB\u001b[0m \u001b[31m7.5 MB/s\u001b[0m eta \u001b[36m0:00:00\u001b[0m\n",
            "\u001b[2K   \u001b[90m━━━━━━━━━━━━━━━━━━━━━━━━━━━━━━━━━━━━━━━━\u001b[0m \u001b[32m207.5/207.5 MB\u001b[0m \u001b[31m5.6 MB/s\u001b[0m eta \u001b[36m0:00:00\u001b[0m\n",
            "\u001b[2K   \u001b[90m━━━━━━━━━━━━━━━━━━━━━━━━━━━━━━━━━━━━━━━━\u001b[0m \u001b[32m21.1/21.1 MB\u001b[0m \u001b[31m102.9 MB/s\u001b[0m eta \u001b[36m0:00:00\u001b[0m\n",
            "\u001b[2K   \u001b[90m━━━━━━━━━━━━━━━━━━━━━━━━━━━━━━━━━━━━━━━━\u001b[0m \u001b[32m4.2/4.2 MB\u001b[0m \u001b[31m106.6 MB/s\u001b[0m eta \u001b[36m0:00:00\u001b[0m\n",
            "\u001b[2K   \u001b[90m━━━━━━━━━━━━━━━━━━━━━━━━━━━━━━━━━━━━━━━━\u001b[0m \u001b[32m294.6/294.6 kB\u001b[0m \u001b[31m27.0 MB/s\u001b[0m eta \u001b[36m0:00:00\u001b[0m\n",
            "\u001b[2K   \u001b[90m━━━━━━━━━━━━━━━━━━━━━━━━━━━━━━━━━━━━━━━━\u001b[0m \u001b[32m2.3/2.3 MB\u001b[0m \u001b[31m100.7 MB/s\u001b[0m eta \u001b[36m0:00:00\u001b[0m\n",
            "\u001b[2K   \u001b[90m━━━━━━━━━━━━━━━━━━━━━━━━━━━━━━━━━━━━━━━━\u001b[0m \u001b[32m236.0/236.0 kB\u001b[0m \u001b[31m21.6 MB/s\u001b[0m eta \u001b[36m0:00:00\u001b[0m\n",
            "\u001b[2K   \u001b[90m━━━━━━━━━━━━━━━━━━━━━━━━━━━━━━━━━━━━━━━━\u001b[0m \u001b[32m47.3/47.3 kB\u001b[0m \u001b[31m4.3 MB/s\u001b[0m eta \u001b[36m0:00:00\u001b[0m\n",
            "\u001b[?25h\u001b[31mERROR: pip's dependency resolver does not currently take into account all the packages that are installed. This behaviour is the source of the following dependency conflicts.\n",
            "pyopenssl 24.2.1 requires cryptography<44,>=41.0.5, but you have cryptography 44.0.3 which is incompatible.\n",
            "ydf 0.11.0 requires protobuf<6.0.0,>=5.29.1, but you have protobuf 4.25.7 which is incompatible.\n",
            "grpcio-status 1.71.0 requires protobuf<6.0dev,>=5.26.1, but you have protobuf 4.25.7 which is incompatible.\n",
            "pydrive2 1.21.3 requires cryptography<44, but you have cryptography 44.0.3 which is incompatible.\u001b[0m\u001b[31m\n",
            "\u001b[0mRequirement already satisfied: flwr[simulation] in /usr/local/lib/python3.11/dist-packages (1.18.0)\n",
            "Requirement already satisfied: cryptography<45.0.0,>=44.0.1 in /usr/local/lib/python3.11/dist-packages (from flwr[simulation]) (44.0.3)\n",
            "Requirement already satisfied: grpcio!=1.65.0,<2.0.0,>=1.62.3 in /usr/local/lib/python3.11/dist-packages (from flwr[simulation]) (1.71.0)\n",
            "Requirement already satisfied: iterators<0.0.3,>=0.0.2 in /usr/local/lib/python3.11/dist-packages (from flwr[simulation]) (0.0.2)\n",
            "Requirement already satisfied: numpy<3.0.0,>=1.26.0 in /usr/local/lib/python3.11/dist-packages (from flwr[simulation]) (2.0.2)\n",
            "Requirement already satisfied: pathspec<0.13.0,>=0.12.1 in /usr/local/lib/python3.11/dist-packages (from flwr[simulation]) (0.12.1)\n",
            "Requirement already satisfied: protobuf<5.0.0,>=4.21.6 in /usr/local/lib/python3.11/dist-packages (from flwr[simulation]) (4.25.7)\n",
            "Requirement already satisfied: pycryptodome<4.0.0,>=3.18.0 in /usr/local/lib/python3.11/dist-packages (from flwr[simulation]) (3.23.0)\n",
            "Requirement already satisfied: pyyaml<7.0.0,>=6.0.2 in /usr/local/lib/python3.11/dist-packages (from flwr[simulation]) (6.0.2)\n",
            "Collecting ray==2.31.0 (from flwr[simulation])\n",
            "  Downloading ray-2.31.0-cp311-cp311-manylinux2014_x86_64.whl.metadata (13 kB)\n",
            "Requirement already satisfied: requests<3.0.0,>=2.31.0 in /usr/local/lib/python3.11/dist-packages (from flwr[simulation]) (2.32.3)\n",
            "Requirement already satisfied: rich<14.0.0,>=13.5.0 in /usr/local/lib/python3.11/dist-packages (from flwr[simulation]) (13.9.4)\n",
            "Requirement already satisfied: tomli<3.0.0,>=2.0.1 in /usr/local/lib/python3.11/dist-packages (from flwr[simulation]) (2.2.1)\n",
            "Requirement already satisfied: tomli-w<2.0.0,>=1.0.0 in /usr/local/lib/python3.11/dist-packages (from flwr[simulation]) (1.2.0)\n",
            "Requirement already satisfied: typer<0.13.0,>=0.12.5 in /usr/local/lib/python3.11/dist-packages (from flwr[simulation]) (0.12.5)\n",
            "Requirement already satisfied: click>=7.0 in /usr/local/lib/python3.11/dist-packages (from ray==2.31.0->flwr[simulation]) (8.2.0)\n",
            "Requirement already satisfied: filelock in /usr/local/lib/python3.11/dist-packages (from ray==2.31.0->flwr[simulation]) (3.18.0)\n",
            "Requirement already satisfied: jsonschema in /usr/local/lib/python3.11/dist-packages (from ray==2.31.0->flwr[simulation]) (4.23.0)\n",
            "Requirement already satisfied: msgpack<2.0.0,>=1.0.0 in /usr/local/lib/python3.11/dist-packages (from ray==2.31.0->flwr[simulation]) (1.1.0)\n",
            "Requirement already satisfied: packaging in /usr/local/lib/python3.11/dist-packages (from ray==2.31.0->flwr[simulation]) (24.2)\n",
            "Requirement already satisfied: aiosignal in /usr/local/lib/python3.11/dist-packages (from ray==2.31.0->flwr[simulation]) (1.3.2)\n",
            "Requirement already satisfied: frozenlist in /usr/local/lib/python3.11/dist-packages (from ray==2.31.0->flwr[simulation]) (1.6.0)\n",
            "Requirement already satisfied: cffi>=1.12 in /usr/local/lib/python3.11/dist-packages (from cryptography<45.0.0,>=44.0.1->flwr[simulation]) (1.17.1)\n",
            "Requirement already satisfied: charset-normalizer<4,>=2 in /usr/local/lib/python3.11/dist-packages (from requests<3.0.0,>=2.31.0->flwr[simulation]) (3.4.2)\n",
            "Requirement already satisfied: idna<4,>=2.5 in /usr/local/lib/python3.11/dist-packages (from requests<3.0.0,>=2.31.0->flwr[simulation]) (3.10)\n",
            "Requirement already satisfied: urllib3<3,>=1.21.1 in /usr/local/lib/python3.11/dist-packages (from requests<3.0.0,>=2.31.0->flwr[simulation]) (2.4.0)\n",
            "Requirement already satisfied: certifi>=2017.4.17 in /usr/local/lib/python3.11/dist-packages (from requests<3.0.0,>=2.31.0->flwr[simulation]) (2025.4.26)\n",
            "Requirement already satisfied: markdown-it-py>=2.2.0 in /usr/local/lib/python3.11/dist-packages (from rich<14.0.0,>=13.5.0->flwr[simulation]) (3.0.0)\n",
            "Requirement already satisfied: pygments<3.0.0,>=2.13.0 in /usr/local/lib/python3.11/dist-packages (from rich<14.0.0,>=13.5.0->flwr[simulation]) (2.19.1)\n",
            "Requirement already satisfied: typing-extensions>=3.7.4.3 in /usr/local/lib/python3.11/dist-packages (from typer<0.13.0,>=0.12.5->flwr[simulation]) (4.13.2)\n",
            "Requirement already satisfied: shellingham>=1.3.0 in /usr/local/lib/python3.11/dist-packages (from typer<0.13.0,>=0.12.5->flwr[simulation]) (1.5.4)\n",
            "Requirement already satisfied: pycparser in /usr/local/lib/python3.11/dist-packages (from cffi>=1.12->cryptography<45.0.0,>=44.0.1->flwr[simulation]) (2.22)\n",
            "Requirement already satisfied: mdurl~=0.1 in /usr/local/lib/python3.11/dist-packages (from markdown-it-py>=2.2.0->rich<14.0.0,>=13.5.0->flwr[simulation]) (0.1.2)\n",
            "Requirement already satisfied: attrs>=22.2.0 in /usr/local/lib/python3.11/dist-packages (from jsonschema->ray==2.31.0->flwr[simulation]) (25.3.0)\n",
            "Requirement already satisfied: jsonschema-specifications>=2023.03.6 in /usr/local/lib/python3.11/dist-packages (from jsonschema->ray==2.31.0->flwr[simulation]) (2025.4.1)\n",
            "Requirement already satisfied: referencing>=0.28.4 in /usr/local/lib/python3.11/dist-packages (from jsonschema->ray==2.31.0->flwr[simulation]) (0.36.2)\n",
            "Requirement already satisfied: rpds-py>=0.7.1 in /usr/local/lib/python3.11/dist-packages (from jsonschema->ray==2.31.0->flwr[simulation]) (0.24.0)\n",
            "Downloading ray-2.31.0-cp311-cp311-manylinux2014_x86_64.whl (66.7 MB)\n",
            "\u001b[2K   \u001b[90m━━━━━━━━━━━━━━━━━━━━━━━━━━━━━━━━━━━━━━━━\u001b[0m \u001b[32m66.7/66.7 MB\u001b[0m \u001b[31m14.4 MB/s\u001b[0m eta \u001b[36m0:00:00\u001b[0m\n",
            "\u001b[?25hInstalling collected packages: ray\n",
            "Successfully installed ray-2.31.0\n",
            "Requirement already satisfied: timm in /usr/local/lib/python3.11/dist-packages (1.0.15)\n",
            "Requirement already satisfied: torch in /usr/local/lib/python3.11/dist-packages (from timm) (2.6.0+cu124)\n",
            "Requirement already satisfied: torchvision in /usr/local/lib/python3.11/dist-packages (from timm) (0.21.0+cu124)\n",
            "Requirement already satisfied: pyyaml in /usr/local/lib/python3.11/dist-packages (from timm) (6.0.2)\n",
            "Requirement already satisfied: huggingface_hub in /usr/local/lib/python3.11/dist-packages (from timm) (0.31.2)\n",
            "Requirement already satisfied: safetensors in /usr/local/lib/python3.11/dist-packages (from timm) (0.5.3)\n",
            "Requirement already satisfied: filelock in /usr/local/lib/python3.11/dist-packages (from huggingface_hub->timm) (3.18.0)\n",
            "Requirement already satisfied: fsspec>=2023.5.0 in /usr/local/lib/python3.11/dist-packages (from huggingface_hub->timm) (2025.3.2)\n",
            "Requirement already satisfied: packaging>=20.9 in /usr/local/lib/python3.11/dist-packages (from huggingface_hub->timm) (24.2)\n",
            "Requirement already satisfied: requests in /usr/local/lib/python3.11/dist-packages (from huggingface_hub->timm) (2.32.3)\n",
            "Requirement already satisfied: tqdm>=4.42.1 in /usr/local/lib/python3.11/dist-packages (from huggingface_hub->timm) (4.67.1)\n",
            "Requirement already satisfied: typing-extensions>=3.7.4.3 in /usr/local/lib/python3.11/dist-packages (from huggingface_hub->timm) (4.13.2)\n",
            "Requirement already satisfied: networkx in /usr/local/lib/python3.11/dist-packages (from torch->timm) (3.4.2)\n",
            "Requirement already satisfied: jinja2 in /usr/local/lib/python3.11/dist-packages (from torch->timm) (3.1.6)\n",
            "Requirement already satisfied: nvidia-cuda-nvrtc-cu12==12.4.127 in /usr/local/lib/python3.11/dist-packages (from torch->timm) (12.4.127)\n",
            "Requirement already satisfied: nvidia-cuda-runtime-cu12==12.4.127 in /usr/local/lib/python3.11/dist-packages (from torch->timm) (12.4.127)\n",
            "Requirement already satisfied: nvidia-cuda-cupti-cu12==12.4.127 in /usr/local/lib/python3.11/dist-packages (from torch->timm) (12.4.127)\n",
            "Requirement already satisfied: nvidia-cudnn-cu12==9.1.0.70 in /usr/local/lib/python3.11/dist-packages (from torch->timm) (9.1.0.70)\n",
            "Requirement already satisfied: nvidia-cublas-cu12==12.4.5.8 in /usr/local/lib/python3.11/dist-packages (from torch->timm) (12.4.5.8)\n",
            "Requirement already satisfied: nvidia-cufft-cu12==11.2.1.3 in /usr/local/lib/python3.11/dist-packages (from torch->timm) (11.2.1.3)\n",
            "Requirement already satisfied: nvidia-curand-cu12==10.3.5.147 in /usr/local/lib/python3.11/dist-packages (from torch->timm) (10.3.5.147)\n",
            "Requirement already satisfied: nvidia-cusolver-cu12==11.6.1.9 in /usr/local/lib/python3.11/dist-packages (from torch->timm) (11.6.1.9)\n",
            "Requirement already satisfied: nvidia-cusparse-cu12==12.3.1.170 in /usr/local/lib/python3.11/dist-packages (from torch->timm) (12.3.1.170)\n",
            "Requirement already satisfied: nvidia-cusparselt-cu12==0.6.2 in /usr/local/lib/python3.11/dist-packages (from torch->timm) (0.6.2)\n",
            "Requirement already satisfied: nvidia-nccl-cu12==2.21.5 in /usr/local/lib/python3.11/dist-packages (from torch->timm) (2.21.5)\n",
            "Requirement already satisfied: nvidia-nvtx-cu12==12.4.127 in /usr/local/lib/python3.11/dist-packages (from torch->timm) (12.4.127)\n",
            "Requirement already satisfied: nvidia-nvjitlink-cu12==12.4.127 in /usr/local/lib/python3.11/dist-packages (from torch->timm) (12.4.127)\n",
            "Requirement already satisfied: triton==3.2.0 in /usr/local/lib/python3.11/dist-packages (from torch->timm) (3.2.0)\n",
            "Requirement already satisfied: sympy==1.13.1 in /usr/local/lib/python3.11/dist-packages (from torch->timm) (1.13.1)\n",
            "Requirement already satisfied: mpmath<1.4,>=1.1.0 in /usr/local/lib/python3.11/dist-packages (from sympy==1.13.1->torch->timm) (1.3.0)\n",
            "Requirement already satisfied: numpy in /usr/local/lib/python3.11/dist-packages (from torchvision->timm) (2.0.2)\n",
            "Requirement already satisfied: pillow!=8.3.*,>=5.3.0 in /usr/local/lib/python3.11/dist-packages (from torchvision->timm) (11.2.1)\n",
            "Requirement already satisfied: MarkupSafe>=2.0 in /usr/local/lib/python3.11/dist-packages (from jinja2->torch->timm) (3.0.2)\n",
            "Requirement already satisfied: charset-normalizer<4,>=2 in /usr/local/lib/python3.11/dist-packages (from requests->huggingface_hub->timm) (3.4.2)\n",
            "Requirement already satisfied: idna<4,>=2.5 in /usr/local/lib/python3.11/dist-packages (from requests->huggingface_hub->timm) (3.10)\n",
            "Requirement already satisfied: urllib3<3,>=1.21.1 in /usr/local/lib/python3.11/dist-packages (from requests->huggingface_hub->timm) (2.4.0)\n",
            "Requirement already satisfied: certifi>=2017.4.17 in /usr/local/lib/python3.11/dist-packages (from requests->huggingface_hub->timm) (2025.4.26)\n"
          ]
        }
      ],
      "source": [
        "!pip install -q flwr torch torchvision tensorboard\n",
        "!pip install -U \"flwr[simulation]\"\n",
        "!pip install timm"
      ]
    },
    {
      "cell_type": "code",
      "execution_count": null,
      "metadata": {
        "id": "5Xp1pUuaE6mR"
      },
      "outputs": [],
      "source": [
        "from datetime import datetime\n",
        "from functools import partial\n",
        "from flwr.server import ServerConfig\n",
        "import random\n",
        "import numpy as np\n",
        "import torch.nn as nn\n",
        "from torchvision import transforms\n",
        "import timm\n",
        "import torch\n",
        "import os\n",
        "import torchvision\n",
        "import torchvision.transforms as transforms\n",
        "from torch.utils.data import random_split, DataLoader\n",
        "from torch.utils.tensorboard import SummaryWriter\n",
        "import flwr as fl\n",
        "from flwr.simulation import run_simulation\n",
        "from flwr.common import Context\n",
        "from flwr.server import ServerApp, ServerAppComponents, ServerConfig\n",
        "from flwr.client import ClientApp\n",
        "from flwr.common import parameters_to_ndarrays\n",
        "from collections import OrderedDict\n",
        "from wandb_logger import FederatedWandBLogger\n",
        "import data_utils\n",
        "import clients\n",
        "import strategies\n",
        "import data_preprocessing"
      ]
    },
    {
      "cell_type": "code",
      "execution_count": null,
      "metadata": {
        "id": "FjV-eYsA1qdH"
      },
      "outputs": [],
      "source": [
        "def build_optimizer_config(optimizer_type):\n",
        "    if optimizer_type == clients.OptimizerType.SGD:\n",
        "        config = {\n",
        "            \"lr\": LR,\n",
        "            \"momentum\": MOMENTUM,\n",
        "            \"weight_decay\": WEIGHT_DECAY,\n",
        "            \"nesterov\": NESTEROV\n",
        "        }\n",
        "\n",
        "    elif optimizer_type == clients.OptimizerType.ADAM:\n",
        "        config = {\n",
        "            \"lr\": LR,\n",
        "            \"betas\": BETAS,\n",
        "            \"weight_decay\": WEIGHT_DECAY,\n",
        "            \"eps\": EPSILON\n",
        "        }\n",
        "\n",
        "    elif optimizer_type == clients.OptimizerType.ADAMW:\n",
        "        config = {\n",
        "            \"lr\": LR,\n",
        "            \"betas\": BETAS,\n",
        "            \"weight_decay\": WEIGHT_DECAY\n",
        "        }\n",
        "\n",
        "    elif optimizer_type == clients.OptimizerType.RMSPROP:\n",
        "        config = {\n",
        "            \"lr\": LR,\n",
        "            \"alpha\": ALPHA,\n",
        "            \"eps\": EPSILON,\n",
        "            \"weight_decay\": WEIGHT_DECAY,\n",
        "            \"momentum\": MOMENTUM,\n",
        "            \"centered\": CENTERED\n",
        "        }\n",
        "\n",
        "    elif optimizer_type == clients.OptimizerType.ADAGRAD:\n",
        "        config = {\n",
        "            \"lr\": LR,\n",
        "            \"weight_decay\": WEIGHT_DECAY,\n",
        "            \"eps\": EPSILON\n",
        "        }\n",
        "    else:\n",
        "        raise ValueError(f\"Unsupported optimizer type: {optimizer_type}\")\n",
        "\n",
        "    print(f\"Optimizer '{optimizer_type}' initialized successfully.\")\n",
        "    return config"
      ]
    },
    {
      "cell_type": "code",
      "execution_count": null,
      "metadata": {
        "id": "dvNGxKWx12Ad"
      },
      "outputs": [],
      "source": [
        "def build_scheduler_config(scheduler_type):\n",
        "\n",
        "    if scheduler_type == clients.SchedulerType.COSINE:\n",
        "        config = {\n",
        "            \"T_max\": T_MAX,\n",
        "            \"eta_min\": ETA_MIN\n",
        "        }\n",
        "\n",
        "    elif scheduler_type == clients.SchedulerType.COSINE_RESTART:\n",
        "        config = {\n",
        "            \"T_0\": T_MAX,\n",
        "            \"T_mult\": 1,\n",
        "            \"eta_min\": ETA_MIN\n",
        "        }\n",
        "\n",
        "    elif scheduler_type == clients.SchedulerType.STEP:\n",
        "        config = {\n",
        "            \"step_size\": STEP_SIZE,\n",
        "            \"gamma\": GAMMA\n",
        "        }\n",
        "\n",
        "    elif scheduler_type == clients.SchedulerType.MULTISTEP:\n",
        "        config = {\n",
        "            \"milestones\": MILESTONES,\n",
        "            \"gamma\": GAMMA\n",
        "        }\n",
        "\n",
        "    elif scheduler_type == clients.SchedulerType.EXPONENTIAL:\n",
        "        config = {\n",
        "            \"gamma\": GAMMA\n",
        "        }\n",
        "\n",
        "    elif scheduler_type == clients.SchedulerType.REDUCE_ON_PLATEAU:\n",
        "        config = {\n",
        "            \"mode\": \"min\",\n",
        "            \"factor\": FACTOR,\n",
        "            \"patience\": PATIENCE,\n",
        "            \"threshold\": THRESHOLD\n",
        "        }\n",
        "\n",
        "    elif scheduler_type == clients.SchedulerType.CONSTANT:\n",
        "        config = {\n",
        "            \"factor\": 1.0,\n",
        "            \"total_iters\": TOTAL_ITERS\n",
        "        }\n",
        "\n",
        "    elif scheduler_type == clients.SchedulerType.LINEAR:\n",
        "        config = {\n",
        "            \"start_factor\": 0.5,\n",
        "            \"end_factor\": LR_END,\n",
        "            \"total_iters\": TOTAL_ITERS\n",
        "        }\n",
        "\n",
        "    else:\n",
        "        raise ValueError(f\"Unsupported scheduler type: {scheduler_type}\")\n",
        "\n",
        "    print(f\"Scheduler '{scheduler_type}' initialized successfully.\")\n",
        "    return config"
      ]
    },
    {
      "cell_type": "code",
      "execution_count": null,
      "metadata": {
        "id": "qbmrMF8AzgV6"
      },
      "outputs": [],
      "source": [
        "def seed_everything(seed=42):\n",
        "    random.seed(seed)\n",
        "    np.random.seed(seed)\n",
        "    torch.manual_seed(seed)\n",
        "    torch.cuda.manual_seed_all(seed)\n",
        "    os.environ[\"PYTHONHASHSEED\"] = str(seed)\n",
        "    torch.backends.cudnn.deterministic = True\n",
        "    torch.backends.cudnn.benchmark = False\n",
        "\n",
        "seed_everything(42)"
      ]
    },
    {
      "cell_type": "code",
      "execution_count": null,
      "metadata": {
        "colab": {
          "base_uri": "https://localhost:8080/"
        },
        "id": "1799ScT_ohcp",
        "outputId": "69a0d29f-ffcb-4c53-9fdc-588e3df0cb61"
      },
      "outputs": [
        {
          "output_type": "stream",
          "name": "stdout",
          "text": [
            "Optimizer 'OptimizerType.SGD' initialized successfully.\n",
            "Scheduler 'SchedulerType.COSINE' initialized successfully.\n"
          ]
        }
      ],
      "source": [
        "# THE WHOLE TRAINING SETTINGS ARE HERE!\n",
        "\n",
        "# GENERAL\n",
        "BATCH_SIZE = 32\n",
        "EPOCHS = 15\n",
        "VAL_SPLIT = 0.1\n",
        "DEVICE = torch.device(\"cuda\" if torch.cuda.is_available() else \"cpu\")\n",
        "BACKBONE_FREEZING = True\n",
        "\n",
        "# FL\n",
        "NUM_CLIENTS = 100\n",
        "NC = 50\n",
        "LOCAL_EPOCHS = 4\n",
        "NUM_ROUNDS = 8\n",
        "FRACTION_FIT = 0.1\n",
        "FRACTION_EVAL = 0.03\n",
        "CLIENT_TYPE = clients.ClientType.PFEDEDIT\n",
        "STRATEGY_TYPE = strategies.StrategiesType.FEDAVG\n",
        "IID = False\n",
        "\n",
        "# LOSS\n",
        "SMOOTHING=0.1\n",
        "\n",
        "# Optimizer Hyperparameters\n",
        "LR = 0.01\n",
        "MOMENTUM = 0.9\n",
        "WEIGHT_DECAY = 5e-4\n",
        "NESTEROV = True\n",
        "BETAS = (0.9, 0.999)\n",
        "EPSILON = 1e-8\n",
        "ALPHA = 0.99\n",
        "CENTERED = False\n",
        "OPTIMIZER_TYPE  = clients.OptimizerType.SGD\n",
        "\n",
        "# Scheduler Hyperparameters\n",
        "T_MAX = 8\n",
        "ETA_MIN = 1e-6\n",
        "STEP_SIZE = 30\n",
        "GAMMA = 0.1\n",
        "MILESTONES = [50, 75]\n",
        "FACTOR = 0.1\n",
        "PATIENCE = 5\n",
        "THRESHOLD = 1e-4\n",
        "TOTAL_ITERS = 10\n",
        "LR_END = 0.0\n",
        "SCHEDULER_TYPE  = clients.SchedulerType.COSINE\n",
        "\n",
        "# FedProx\n",
        "\n",
        "MU = 0.1\n",
        "\n",
        "# YOGI\n",
        "\n",
        "ETA = 0.01           # Learning rate for Yogi updates\n",
        "ETA_L = 0.0316      # Learning rate for local updates\n",
        "TAU = 0.1            # Adaptive learning parameter for Yogi\n",
        "BETA_1 = 0.9         # Momentum term (default value from the original paper)\n",
        "BETA_2 = 0.999       # Second momentum term (default value from the original paper)\n",
        "\n",
        "OPTIMIZER_CONFIG = build_optimizer_config(OPTIMIZER_TYPE)\n",
        "SCHEDULER_CONFIG = build_scheduler_config(SCHEDULER_TYPE)\n",
        "\n",
        "#PFEDEDIT\n",
        "LOCAL_EPOCHS_PFEDEDIT = 4\n",
        "TOP_K_LAYERS = 3\n",
        "STOCHASTIC_FACTOR = 0.2\n",
        "MAX_BATCHES = 4\n",
        "\n",
        "PFEDEDIT_CONFIG = {\n",
        "    \"local epochs\": LOCAL_EPOCHS_PFEDEDIT,\n",
        "    \"top k layers\": TOP_K_LAYERS,\n",
        "    \"stochastic factor\": STOCHASTIC_FACTOR,\n",
        "    \"max_batches\": MAX_BATCHES\n",
        "}\n"
      ]
    },
    {
      "cell_type": "code",
      "execution_count": null,
      "metadata": {
        "colab": {
          "base_uri": "https://localhost:8080/"
        },
        "id": "dO_pxQucjrtp",
        "outputId": "1977a4df-d645-4802-9e89-ff3375d0cf29"
      },
      "outputs": [
        {
          "output_type": "stream",
          "name": "stderr",
          "text": [
            "100%|██████████| 169M/169M [00:05<00:00, 30.5MB/s]\n"
          ]
        },
        {
          "output_type": "stream",
          "name": "stdout",
          "text": [
            "Setup complete. IID and Non-IID splits created.\n"
          ]
        }
      ],
      "source": [
        "pipeline = data_preprocessing.CIFAR100Pipeline(val_split=VAL_SPLIT, use_augment=True)\n",
        "trainset, valset, testset = pipeline.run_pipeline()\n",
        "\n",
        "trainloader = DataLoader(trainset, batch_size=BATCH_SIZE, shuffle=True)\n",
        "valloader = DataLoader(valset, batch_size=BATCH_SIZE)\n",
        "testloader = DataLoader(testset, batch_size=BATCH_SIZE)\n",
        "\n",
        "# Apply sharding\n",
        "client_datasets_iid = data_utils.iid_split(trainset, NUM_CLIENTS)\n",
        "client_datasets_noniid = None\n",
        "if not IID:\n",
        "    client_datasets_noniid = data_utils.non_iid_split(trainset, NUM_CLIENTS, NC, 100)\n",
        "\n",
        "print(\"Setup complete. IID and Non-IID splits created.\")"
      ]
    },
    {
      "cell_type": "code",
      "execution_count": null,
      "metadata": {
        "id": "1Q4llQU021yr"
      },
      "outputs": [],
      "source": [
        "# Create model\n",
        "def create_dino_vit_s16_for_cifar100(freezing=BACKBONE_FREEZING):\n",
        "    model = timm.create_model(\"vit_small_patch16_224_dino\", pretrained=True, num_classes=0)\n",
        "\n",
        "    # Replace the head with CIFAR-100 classification head\n",
        "    model.head = nn.Linear(model.num_features, 100)\n",
        "\n",
        "    if freezing:\n",
        "      # Freeze all parameters except head\n",
        "      for param in model.parameters():\n",
        "          param.requires_grad = False\n",
        "\n",
        "      # Unfreeze only the head\n",
        "      for param in model.head.parameters():\n",
        "          param.requires_grad = True\n",
        "\n",
        "    return model"
      ]
    },
    {
      "cell_type": "code",
      "source": [
        "\"\"\"# Create an initial model instance to get the initial parameters\n",
        "initial_model = create_dino_vit_s16_for_cifar100()\n",
        "initial_parameters = fl.common.ndarrays_to_parameters(\n",
        "    [p.cpu().detach().numpy() for p in initial_model.parameters()]\n",
        ")\"\"\""
      ],
      "metadata": {
        "colab": {
          "base_uri": "https://localhost:8080/",
          "height": 53
        },
        "id": "gwqQqqFJ_moZ",
        "outputId": "f8c5ee67-e02a-488a-93cc-a299846769e6"
      },
      "execution_count": null,
      "outputs": [
        {
          "output_type": "execute_result",
          "data": {
            "text/plain": [
              "'# Create an initial model instance to get the initial parameters\\ninitial_model = create_dino_vit_s16_for_cifar100()\\ninitial_parameters = fl.common.ndarrays_to_parameters(\\n    [p.cpu().detach().numpy() for p in initial_model.parameters()]\\n)'"
            ],
            "application/vnd.google.colaboratory.intrinsic+json": {
              "type": "string"
            }
          },
          "metadata": {},
          "execution_count": 9
        }
      ]
    },
    {
      "cell_type": "code",
      "execution_count": null,
      "metadata": {
        "colab": {
          "base_uri": "https://localhost:8080/"
        },
        "id": "kgTCGG3-44cf",
        "outputId": "85848fb7-d0bd-4bf5-cd82-25e904c4e3d7"
      },
      "outputs": [
        {
          "output_type": "stream",
          "name": "stdout",
          "text": [
            "\u001b[34m\u001b[1mwandb\u001b[0m: \u001b[33mWARNING\u001b[0m Using legacy-service, which is deprecated. If this is unintentional, you can fix it by ensuring you do not call `wandb.require('legacy-service')` and do not set the WANDB_X_REQUIRE_LEGACY_SERVICE environment variable.\n",
            "\u001b[34m\u001b[1mwandb\u001b[0m: No netrc file found, creating one.\n",
            "\u001b[34m\u001b[1mwandb\u001b[0m: Appending key for api.wandb.ai to your netrc file: /root/.netrc\n",
            "\u001b[34m\u001b[1mwandb\u001b[0m: W&B API key is configured. Use \u001b[1m`wandb login --relogin`\u001b[0m to force relogin\n"
          ]
        }
      ],
      "source": [
        "!wandb login 89e5fee022a3a1cf86f958ee0b3dff6f2aa57aad"
      ]
    },
    {
      "cell_type": "code",
      "execution_count": null,
      "metadata": {
        "colab": {
          "base_uri": "https://localhost:8080/",
          "height": 211
        },
        "id": "31KOm819XUko",
        "outputId": "71e251ed-6da1-4979-95d9-798eb11445b5"
      },
      "outputs": [
        {
          "output_type": "stream",
          "name": "stderr",
          "text": [
            "/usr/local/lib/python3.11/dist-packages/notebook/utils.py:280: DeprecationWarning: distutils Version classes are deprecated. Use packaging.version instead.\n",
            "  return LooseVersion(v) >= LooseVersion(check)\n",
            "\u001b[34m\u001b[1mwandb\u001b[0m: Currently logged in as: \u001b[33ms348517giuseppe\u001b[0m (\u001b[33ms348517giuseppe-politecnico-di-torino\u001b[0m) to \u001b[32mhttps://api.wandb.ai\u001b[0m. Use \u001b[1m`wandb login --relogin`\u001b[0m to force relogin\n",
            "/usr/local/lib/python3.11/dist-packages/wandb/analytics/sentry.py:259: DeprecationWarning: The `Scope.user` setter is deprecated in favor of `Scope.set_user()`.\n",
            "  self.scope.user = {\"email\": email}  # noqa\n"
          ]
        },
        {
          "output_type": "display_data",
          "data": {
            "text/plain": [
              "<IPython.core.display.HTML object>"
            ],
            "text/html": [
              "Tracking run with wandb version 0.19.11"
            ]
          },
          "metadata": {}
        },
        {
          "output_type": "display_data",
          "data": {
            "text/plain": [
              "<IPython.core.display.HTML object>"
            ],
            "text/html": [
              "Run data is saved locally in <code>/content/wandb/run-20250519_205120-vgxs0m3d</code>"
            ]
          },
          "metadata": {}
        },
        {
          "output_type": "display_data",
          "data": {
            "text/plain": [
              "<IPython.core.display.HTML object>"
            ],
            "text/html": [
              "Syncing run <strong><a href='https://wandb.ai/polito-fl/federated-learning-project/runs/vgxs0m3d' target=\"_blank\">FEDERATED_NON_IID_DATA_20250519-205119</a></strong> to <a href='https://wandb.ai/polito-fl/federated-learning-project' target=\"_blank\">Weights & Biases</a> (<a href='https://wandb.me/developer-guide' target=\"_blank\">docs</a>)<br>"
            ]
          },
          "metadata": {}
        },
        {
          "output_type": "display_data",
          "data": {
            "text/plain": [
              "<IPython.core.display.HTML object>"
            ],
            "text/html": [
              " View project at <a href='https://wandb.ai/polito-fl/federated-learning-project' target=\"_blank\">https://wandb.ai/polito-fl/federated-learning-project</a>"
            ]
          },
          "metadata": {}
        },
        {
          "output_type": "display_data",
          "data": {
            "text/plain": [
              "<IPython.core.display.HTML object>"
            ],
            "text/html": [
              " View run at <a href='https://wandb.ai/polito-fl/federated-learning-project/runs/vgxs0m3d' target=\"_blank\">https://wandb.ai/polito-fl/federated-learning-project/runs/vgxs0m3d</a>"
            ]
          },
          "metadata": {}
        }
      ],
      "source": [
        "data_distribution = \"IID_DATA\" if IID else \"NON_IID_DATA\"\n",
        "run_name = f\"FEDERATED_{data_distribution}_{datetime.now().strftime('%Y%m%d-%H%M%S')}\"\n",
        "\n",
        "if CLIENT_TYPE == clients.ClientType.STANDARD:\n",
        "    client_app = ClientApp(\n",
        "        client_fn=clients.build_client_fn(\n",
        "            use_iid=IID,\n",
        "            optimizer_type=OPTIMIZER_TYPE,\n",
        "            scheduler_type=SCHEDULER_TYPE,\n",
        "            optimizer_config=OPTIMIZER_CONFIG,\n",
        "            scheduler_config=SCHEDULER_CONFIG,\n",
        "            iid_partitions=client_datasets_iid,\n",
        "            non_iid_partitions=client_datasets_noniid,\n",
        "            model_fn=create_dino_vit_s16_for_cifar100,\n",
        "            device=DEVICE,\n",
        "            valset=valset,\n",
        "            local_epochs=LOCAL_EPOCHS,\n",
        "            batch_size=BATCH_SIZE,\n",
        "        )\n",
        "    )\n",
        "    client_config = None\n",
        "\n",
        "\n",
        "elif CLIENT_TYPE == clients.ClientType.PFEDEDIT:\n",
        "    client_app = ClientApp(\n",
        "        client_fn=clients.build_client_fn_pfededit(\n",
        "            use_iid=IID,\n",
        "            optimizer_type=OPTIMIZER_TYPE,\n",
        "            scheduler_type=SCHEDULER_TYPE,\n",
        "            optimizer_config=OPTIMIZER_CONFIG,\n",
        "            scheduler_config=SCHEDULER_CONFIG,\n",
        "            iid_partitions=client_datasets_iid,\n",
        "            non_iid_partitions=client_datasets_noniid,\n",
        "            model_fn=create_dino_vit_s16_for_cifar100,\n",
        "            device=DEVICE,\n",
        "            valset=valset,\n",
        "            local_epochs=LOCAL_EPOCHS_PFEDEDIT,\n",
        "            batch_size=BATCH_SIZE,\n",
        "            top_k_layers= TOP_K_LAYERS,\n",
        "            stochastic_factor = STOCHASTIC_FACTOR,\n",
        "            max_batches = MAX_BATCHES\n",
        "        )\n",
        "    )\n",
        "    client_config = None\n",
        "\n",
        "else:\n",
        "    client_app = ClientApp(\n",
        "    client_fn=clients.build_client_fedprox_fn(\n",
        "        use_iid=IID,\n",
        "        optimizer_type=OPTIMIZER_TYPE,\n",
        "        scheduler_type=SCHEDULER_TYPE,\n",
        "        optimizer_config=OPTIMIZER_CONFIG,\n",
        "        scheduler_config=SCHEDULER_CONFIG,\n",
        "        iid_partitions=client_datasets_iid,\n",
        "        non_iid_partitions=client_datasets_noniid,\n",
        "        model_fn=create_dino_vit_s16_for_cifar100,\n",
        "        device=DEVICE,\n",
        "        valset=valset,\n",
        "        local_epochs=LOCAL_EPOCHS,\n",
        "        batch_size=BATCH_SIZE,\n",
        "        mu=MU\n",
        "    )\n",
        "    )\n",
        "    client_config = {\"mu\": MU}\n",
        "\n",
        "\n",
        "if STRATEGY_TYPE == strategies.StrategiesType.FEDAVG:\n",
        "    strategy_config = None\n",
        "else:\n",
        "    strategy_config = {\"eta\": ETA, \"eta_l\": ETA_L, \"tau\": TAU, \"beta_1\": BETA_1, \"beta_2\": BETA_2,}\n",
        "\n",
        "\n",
        "if not IID:\n",
        "  DataConfig = {\"use_iid\": IID, \"num_classes\": NC}\n",
        "else:\n",
        "  DataConfig = {\"use_iid\": IID}\n",
        "\n",
        "logger = FederatedWandBLogger(\n",
        "    project_name=\"federated-learning-project\",\n",
        "    run_name=run_name,\n",
        "    global_config={\n",
        "        # Federated Learning Configuration\n",
        "        \"data_config\": DataConfig,\n",
        "        \"number of rounds\" : NUM_ROUNDS,\n",
        "        \"local_epochs\": LOCAL_EPOCHS,\n",
        "        \"batch_size\": BATCH_SIZE,\n",
        "        \"num_clients\": NUM_CLIENTS,\n",
        "        \"fraction_fit\": FRACTION_FIT,\n",
        "        \"fraction_evaluate\": FRACTION_EVAL,\n",
        "        \"backbone_freezing\": BACKBONE_FREEZING,\n",
        "        \"client_type\": CLIENT_TYPE.value,\n",
        "        \"client_config\": client_config,\n",
        "        \"strategy_type\": STRATEGY_TYPE.value,\n",
        "        \"strategy_config\": strategy_config,\n",
        "        \"val_split\": VAL_SPLIT,\n",
        "\n",
        "        # Optimizer Configuration\n",
        "        \"optimizer\": OPTIMIZER_TYPE.value,\n",
        "        \"optimizer_config\": OPTIMIZER_CONFIG,\n",
        "\n",
        "        # Scheduler Configuration\n",
        "        \"scheduler\": SCHEDULER_TYPE.value,\n",
        "        \"scheduler_config\": SCHEDULER_CONFIG,\n",
        "\n",
        "        # PFEDEDIT CONFIG\n",
        "        \"pfededit config\": PFEDEDIT_CONFIG\n",
        "    }\n",
        ")\n",
        "\n",
        "if STRATEGY_TYPE == strategies.StrategiesType.FEDAVG:\n",
        "    strategy = strategies.FedAvgStandard(\n",
        "        logger=logger,\n",
        "        fraction_fit=FRACTION_FIT,\n",
        "        min_fit_clients=int(FRACTION_FIT*NUM_CLIENTS),\n",
        "        min_evaluate_clients=int(FRACTION_EVAL*NUM_CLIENTS),\n",
        "        fraction_evaluate=FRACTION_EVAL,\n",
        "        min_available_clients=NUM_CLIENTS,\n",
        "        evaluate_metrics_aggregation_fn = lambda metrics: {\n",
        "            \"accuracy\": sum(num * m[\"val_accuracy\"] for num, m in metrics) / sum(num for num, _ in metrics)\n",
        "        }\n",
        "    )\n",
        "else:\n",
        "    strategy = strategies.FedYogiStandard(\n",
        "        logger=logger,\n",
        "        fraction_fit=FRACTION_FIT,\n",
        "        min_fit_clients=int(FRACTION_FIT*NUM_CLIENTS),\n",
        "        min_evaluate_clients=int(FRACTION_EVAL*NUM_CLIENTS),\n",
        "        fraction_evaluate=FRACTION_EVAL,\n",
        "        min_available_clients=NUM_CLIENTS,\n",
        "        initial_parameters = initial_parameters,\n",
        "        eta=ETA,\n",
        "        eta_l =ETA_L,\n",
        "        tau=TAU,\n",
        "        beta_1=BETA_1,\n",
        "        beta_2=BETA_2,\n",
        "        evaluate_metrics_aggregation_fn = lambda metrics: {\n",
        "            \"accuracy\": sum(num * m[\"val_accuracy\"] for num, m in metrics) / sum(num for num, _ in metrics)\n",
        "        }\n",
        "    )\n",
        "\n",
        "def server_fn(context: Context) -> ServerAppComponents:\n",
        "    \"\"\"Construct components that set the ServerApp behaviour.\n",
        "\n",
        "    You can use the settings in `context.run_config` to parameterize the\n",
        "    construction of all elements (e.g the strategy or the number of rounds)\n",
        "    wrapped in the returned ServerAppComponents object.\n",
        "    \"\"\"\n",
        "    config = ServerConfig(num_rounds=NUM_ROUNDS)\n",
        "    return ServerAppComponents(strategy=strategy, config=config)\n",
        "\n",
        "server_app = ServerApp(server_fn=server_fn)"
      ]
    },
    {
      "cell_type": "code",
      "execution_count": null,
      "metadata": {
        "id": "9To1c6PtSman"
      },
      "outputs": [],
      "source": [
        "device = torch.device(\"cuda\" if torch.cuda.is_available() else \"cpu\")\n",
        "\n",
        "backend_config = {\"client_resources\": {\"num_cpus\": 1, \"num_gpus\": 0.0}}\n",
        "\n",
        "if device.type == \"cuda\":\n",
        "    backend_config = {\"client_resources\": {\"num_cpus\": 1, \"num_gpus\": 1.0}}"
      ]
    },
    {
      "cell_type": "code",
      "execution_count": null,
      "metadata": {
        "colab": {
          "base_uri": "https://localhost:8080/"
        },
        "id": "VmOdfanrsuOM",
        "outputId": "cc67c7d5-475a-4644-d8f2-9c9727b2156b"
      },
      "outputs": [
        {
          "output_type": "stream",
          "name": "stderr",
          "text": [
            "DEBUG:flwr:Asyncio event loop already running.\n",
            "\u001b[92mINFO \u001b[0m:      Starting Flower ServerApp, config: num_rounds=8, no round_timeout\n",
            "\u001b[92mINFO \u001b[0m:      \n",
            "\u001b[92mINFO \u001b[0m:      [INIT]\n",
            "\u001b[92mINFO \u001b[0m:      Requesting initial parameters from one random client\n",
            "\u001b[36m(pid=2704)\u001b[0m 2025-05-19 20:51:31.903391: E external/local_xla/xla/stream_executor/cuda/cuda_fft.cc:477] Unable to register cuFFT factory: Attempting to register factory for plugin cuFFT when one has already been registered\n",
            "\u001b[36m(pid=2704)\u001b[0m WARNING: All log messages before absl::InitializeLog() is called are written to STDERR\n",
            "\u001b[36m(pid=2704)\u001b[0m E0000 00:00:1747687891.957168    2704 cuda_dnn.cc:8310] Unable to register cuDNN factory: Attempting to register factory for plugin cuDNN when one has already been registered\n",
            "\u001b[36m(pid=2704)\u001b[0m E0000 00:00:1747687891.971538    2704 cuda_blas.cc:1418] Unable to register cuBLAS factory: Attempting to register factory for plugin cuBLAS when one has already been registered\n",
            "\u001b[36m(ClientAppActor pid=2704)\u001b[0m /usr/local/lib/python3.11/dist-packages/timm/models/_factory.py:126: UserWarning: Mapping deprecated model name vit_small_patch16_224_dino to current vit_small_patch16_224.dino.\n",
            "\u001b[36m(ClientAppActor pid=2704)\u001b[0m   model = create_fn(\n"
          ]
        },
        {
          "output_type": "stream",
          "name": "stdout",
          "text": [
            "\u001b[36m(ClientAppActor pid=2704)\u001b[0m LOG: Initializing client with CID=94\n",
            "\u001b[36m(ClientAppActor pid=2704)\u001b[0m 94-LOG: Data partition assigned to client 94 -> Non-IID\n",
            "\u001b[36m(ClientAppActor pid=2704)\u001b[0m 94-LOG: Model initialized for client 94\n",
            "\u001b[36m(ClientAppActor pid=2704)\u001b[0m 94-LOG: Dataloaders initialized for client 94\n"
          ]
        },
        {
          "output_type": "stream",
          "name": "stderr",
          "text": [
            "\u001b[92mINFO \u001b[0m:      Received initial parameters from one random client\n",
            "\u001b[92mINFO \u001b[0m:      Starting evaluation of initial global parameters\n",
            "\u001b[92mINFO \u001b[0m:      Evaluation returned no results (`None`)\n",
            "\u001b[92mINFO \u001b[0m:      \n",
            "\u001b[92mINFO \u001b[0m:      [ROUND 1]\n",
            "\u001b[92mINFO \u001b[0m:      configure_fit: strategy sampled 10 clients (out of 100)\n"
          ]
        },
        {
          "output_type": "stream",
          "name": "stdout",
          "text": [
            "\u001b[36m(ClientAppActor pid=2704)\u001b[0m LOG: Initializing client with CID=3\n",
            "\u001b[36m(ClientAppActor pid=2704)\u001b[0m 3-LOG: Data partition assigned to client 3 -> Non-IID\n",
            "\u001b[36m(ClientAppActor pid=2704)\u001b[0m 3-LOG: Model initialized for client 3\n",
            "\u001b[36m(ClientAppActor pid=2704)\u001b[0m 3-LOG: Dataloaders initialized for client 3\n",
            "\u001b[36m(ClientAppActor pid=2704)\u001b[0m 3-LOG: Stochastic Sampling Activated, Full Model Training\n",
            "\u001b[36m(ClientAppActor pid=2704)\u001b[0m 3-LOG: Completed local training - Loss: nan | Accuracy: 0.0414\n",
            "\u001b[36m(ClientAppActor pid=2704)\u001b[0m LOG: Initializing client with CID=13\n",
            "\u001b[36m(ClientAppActor pid=2704)\u001b[0m 13-LOG: Data partition assigned to client 13 -> Non-IID\n",
            "\u001b[36m(ClientAppActor pid=2704)\u001b[0m 13-LOG: Model initialized for client 13\n",
            "\u001b[36m(ClientAppActor pid=2704)\u001b[0m 13-LOG: Dataloaders initialized for client 13\n",
            "\u001b[36m(ClientAppActor pid=2704)\u001b[0m 13-LOG: Stochastic Sampling Activated, Full Model Training\n",
            "\u001b[36m(ClientAppActor pid=2704)\u001b[0m 13-LOG: Completed local training - Loss: 10.0082 | Accuracy: 0.0498\n",
            "\u001b[36m(ClientAppActor pid=2704)\u001b[0m LOG: Initializing client with CID=17\n",
            "\u001b[36m(ClientAppActor pid=2704)\u001b[0m 17-LOG: Data partition assigned to client 17 -> Non-IID\n",
            "\u001b[36m(ClientAppActor pid=2704)\u001b[0m 17-LOG: Model initialized for client 17\n",
            "\u001b[36m(ClientAppActor pid=2704)\u001b[0m 17-LOG: Dataloaders initialized for client 17\n",
            "\u001b[36m(ClientAppActor pid=2704)\u001b[0m 17-LOG: Stochastic Sampling Activated, Full Model Training\n",
            "\u001b[36m(ClientAppActor pid=2704)\u001b[0m 17-LOG: Completed local training - Loss: 9.7924 | Accuracy: 0.0513\n",
            "\u001b[36m(ClientAppActor pid=2704)\u001b[0m LOG: Initializing client with CID=21\n",
            "\u001b[36m(ClientAppActor pid=2704)\u001b[0m 21-LOG: Data partition assigned to client 21 -> Non-IID\n",
            "\u001b[36m(ClientAppActor pid=2704)\u001b[0m 21-LOG: Model initialized for client 21\n",
            "\u001b[36m(ClientAppActor pid=2704)\u001b[0m 21-LOG: Dataloaders initialized for client 21\n",
            "\u001b[36m(ClientAppActor pid=2704)\u001b[0m 21-LOG: PFedEdit Local Layer Selection\n",
            "\u001b[36m(ClientAppActor pid=2704)\u001b[0m Max Batches: 4\n",
            "\u001b[36m(ClientAppActor pid=2704)\u001b[0m 21-LOG: Selected Layers (Min Loss): [0, 6, 8]\n",
            "\u001b[36m(ClientAppActor pid=2704)\u001b[0m 21-LOG: Completed local training - Loss: 8.3007 | Accuracy: 0.0490\n",
            "\u001b[36m(ClientAppActor pid=2704)\u001b[0m LOG: Initializing client with CID=59\n",
            "\u001b[36m(ClientAppActor pid=2704)\u001b[0m 59-LOG: Data partition assigned to client 59 -> Non-IID\n",
            "\u001b[36m(ClientAppActor pid=2704)\u001b[0m 59-LOG: Model initialized for client 59\n",
            "\u001b[36m(ClientAppActor pid=2704)\u001b[0m 59-LOG: Dataloaders initialized for client 59\n",
            "\u001b[36m(ClientAppActor pid=2704)\u001b[0m 59-LOG: PFedEdit Local Layer Selection\n",
            "\u001b[36m(ClientAppActor pid=2704)\u001b[0m Max Batches: 4\n",
            "\u001b[36m(ClientAppActor pid=2704)\u001b[0m 59-LOG: Selected Layers (Min Loss): [7, 2, 1]\n",
            "\u001b[36m(ClientAppActor pid=2704)\u001b[0m 59-LOG: Completed local training - Loss: 7.6320 | Accuracy: 0.0530\n",
            "\u001b[36m(ClientAppActor pid=2704)\u001b[0m LOG: Initializing client with CID=84\n",
            "\u001b[36m(ClientAppActor pid=2704)\u001b[0m 84-LOG: Data partition assigned to client 84 -> Non-IID\n",
            "\u001b[36m(ClientAppActor pid=2704)\u001b[0m 84-LOG: Model initialized for client 84\n",
            "\u001b[36m(ClientAppActor pid=2704)\u001b[0m 84-LOG: Dataloaders initialized for client 84\n",
            "\u001b[36m(ClientAppActor pid=2704)\u001b[0m 84-LOG: PFedEdit Local Layer Selection\n",
            "\u001b[36m(ClientAppActor pid=2704)\u001b[0m Max Batches: 4\n",
            "\u001b[36m(ClientAppActor pid=2704)\u001b[0m 84-LOG: Selected Layers (Min Loss): [6, 2, 4]\n",
            "\u001b[36m(ClientAppActor pid=2704)\u001b[0m 84-LOG: Completed local training - Loss: 9.5701 | Accuracy: 0.0477\n",
            "\u001b[36m(ClientAppActor pid=2704)\u001b[0m LOG: Initializing client with CID=65\n",
            "\u001b[36m(ClientAppActor pid=2704)\u001b[0m 65-LOG: Data partition assigned to client 65 -> Non-IID\n",
            "\u001b[36m(ClientAppActor pid=2704)\u001b[0m 65-LOG: Model initialized for client 65\n",
            "\u001b[36m(ClientAppActor pid=2704)\u001b[0m 65-LOG: Dataloaders initialized for client 65\n",
            "\u001b[36m(ClientAppActor pid=2704)\u001b[0m 65-LOG: PFedEdit Local Layer Selection\n",
            "\u001b[36m(ClientAppActor pid=2704)\u001b[0m Max Batches: 4\n",
            "\u001b[36m(ClientAppActor pid=2704)\u001b[0m 65-LOG: Selected Layers (Min Loss): [2, 9, 8]\n",
            "\u001b[36m(ClientAppActor pid=2704)\u001b[0m 65-LOG: Completed local training - Loss: 20.3860 | Accuracy: 0.0306\n",
            "\u001b[36m(ClientAppActor pid=2704)\u001b[0m LOG: Initializing client with CID=44\n",
            "\u001b[36m(ClientAppActor pid=2704)\u001b[0m 44-LOG: Data partition assigned to client 44 -> Non-IID\n",
            "\u001b[36m(ClientAppActor pid=2704)\u001b[0m 44-LOG: Model initialized for client 44\n",
            "\u001b[36m(ClientAppActor pid=2704)\u001b[0m 44-LOG: Dataloaders initialized for client 44\n",
            "\u001b[36m(ClientAppActor pid=2704)\u001b[0m 44-LOG: Stochastic Sampling Activated, Full Model Training\n",
            "\u001b[36m(ClientAppActor pid=2704)\u001b[0m 44-LOG: Completed local training - Loss: 9.0107 | Accuracy: 0.0401\n",
            "\u001b[36m(ClientAppActor pid=2704)\u001b[0m LOG: Initializing client with CID=69\n",
            "\u001b[36m(ClientAppActor pid=2704)\u001b[0m 69-LOG: Data partition assigned to client 69 -> Non-IID\n",
            "\u001b[36m(ClientAppActor pid=2704)\u001b[0m 69-LOG: Model initialized for client 69\n",
            "\u001b[36m(ClientAppActor pid=2704)\u001b[0m 69-LOG: Dataloaders initialized for client 69\n",
            "\u001b[36m(ClientAppActor pid=2704)\u001b[0m 69-LOG: PFedEdit Local Layer Selection\n",
            "\u001b[36m(ClientAppActor pid=2704)\u001b[0m Max Batches: 4\n",
            "\u001b[36m(ClientAppActor pid=2704)\u001b[0m 69-LOG: Selected Layers (Min Loss): [1, 8, 5]\n",
            "\u001b[36m(ClientAppActor pid=2704)\u001b[0m 69-LOG: Completed local training - Loss: 9.4530 | Accuracy: 0.0345\n",
            "\u001b[36m(ClientAppActor pid=2704)\u001b[0m LOG: Initializing client with CID=71\n",
            "\u001b[36m(ClientAppActor pid=2704)\u001b[0m 71-LOG: Data partition assigned to client 71 -> Non-IID\n",
            "\u001b[36m(ClientAppActor pid=2704)\u001b[0m 71-LOG: Model initialized for client 71\n",
            "\u001b[36m(ClientAppActor pid=2704)\u001b[0m 71-LOG: Dataloaders initialized for client 71\n",
            "\u001b[36m(ClientAppActor pid=2704)\u001b[0m 71-LOG: PFedEdit Local Layer Selection\n",
            "\u001b[36m(ClientAppActor pid=2704)\u001b[0m Max Batches: 4\n",
            "\u001b[36m(ClientAppActor pid=2704)\u001b[0m 71-LOG: Selected Layers (Min Loss): [0, 4, 7]\n",
            "\u001b[36m(ClientAppActor pid=2704)\u001b[0m 71-LOG: Completed local training - Loss: 8.5723 | Accuracy: 0.0569\n"
          ]
        },
        {
          "output_type": "stream",
          "name": "stderr",
          "text": [
            "\u001b[92mINFO \u001b[0m:      aggregate_fit: received 10 results and 0 failures\n",
            "\u001b[93mWARNING \u001b[0m:   No fit_metrics_aggregation_fn provided\n",
            "\u001b[92mINFO \u001b[0m:      configure_evaluate: strategy sampled 3 clients (out of 100)\n"
          ]
        },
        {
          "output_type": "stream",
          "name": "stdout",
          "text": [
            "\u001b[36m(ClientAppActor pid=2704)\u001b[0m LOG: Initializing client with CID=16\n",
            "\u001b[36m(ClientAppActor pid=2704)\u001b[0m 16-LOG: Data partition assigned to client 16 -> Non-IID\n",
            "\u001b[36m(ClientAppActor pid=2704)\u001b[0m 16-LOG: Model initialized for client 16\n",
            "\u001b[36m(ClientAppActor pid=2704)\u001b[0m 16-LOG: Dataloaders initialized for client 16\n",
            "\u001b[36m(ClientAppActor pid=2704)\u001b[0m 16-LOG: Evaluation completed - Evaluation Loss: nan | Evaluation Accuracy: 0.0122\n",
            "\u001b[36m(ClientAppActor pid=2704)\u001b[0m LOG: Initializing client with CID=27\n",
            "\u001b[36m(ClientAppActor pid=2704)\u001b[0m 27-LOG: Data partition assigned to client 27 -> Non-IID\n",
            "\u001b[36m(ClientAppActor pid=2704)\u001b[0m 27-LOG: Model initialized for client 27\n",
            "\u001b[36m(ClientAppActor pid=2704)\u001b[0m 27-LOG: Dataloaders initialized for client 27\n",
            "\u001b[36m(ClientAppActor pid=2704)\u001b[0m 27-LOG: Evaluation completed - Evaluation Loss: nan | Evaluation Accuracy: 0.0122\n",
            "\u001b[36m(ClientAppActor pid=2704)\u001b[0m LOG: Initializing client with CID=96\n",
            "\u001b[36m(ClientAppActor pid=2704)\u001b[0m 96-LOG: Data partition assigned to client 96 -> Non-IID\n",
            "\u001b[36m(ClientAppActor pid=2704)\u001b[0m 96-LOG: Model initialized for client 96\n",
            "\u001b[36m(ClientAppActor pid=2704)\u001b[0m 96-LOG: Dataloaders initialized for client 96\n"
          ]
        },
        {
          "output_type": "stream",
          "name": "stderr",
          "text": [
            "\u001b[92mINFO \u001b[0m:      aggregate_evaluate: received 3 results and 0 failures\n",
            "\u001b[92mINFO \u001b[0m:      \n",
            "\u001b[92mINFO \u001b[0m:      [ROUND 2]\n",
            "\u001b[92mINFO \u001b[0m:      configure_fit: strategy sampled 10 clients (out of 100)\n"
          ]
        },
        {
          "output_type": "stream",
          "name": "stdout",
          "text": [
            "\u001b[36m(ClientAppActor pid=2704)\u001b[0m 96-LOG: Evaluation completed - Evaluation Loss: nan | Evaluation Accuracy: 0.0122\n",
            "\u001b[36m(ClientAppActor pid=2704)\u001b[0m LOG: Initializing client with CID=0\n",
            "\u001b[36m(ClientAppActor pid=2704)\u001b[0m 0-LOG: Data partition assigned to client 0 -> Non-IID\n",
            "\u001b[36m(ClientAppActor pid=2704)\u001b[0m 0-LOG: Model initialized for client 0\n",
            "\u001b[36m(ClientAppActor pid=2704)\u001b[0m 0-LOG: Dataloaders initialized for client 0\n",
            "\u001b[36m(ClientAppActor pid=2704)\u001b[0m 0-LOG: PFedEdit Local Layer Selection\n",
            "\u001b[36m(ClientAppActor pid=2704)\u001b[0m Max Batches: 4\n",
            "\u001b[36m(ClientAppActor pid=2704)\u001b[0m 0-LOG: Selected Layers (Min Loss): [0, 1, 2]\n",
            "\u001b[36m(ClientAppActor pid=2704)\u001b[0m 0-LOG: Completed local training - Loss: nan | Accuracy: 0.0196\n",
            "\u001b[36m(ClientAppActor pid=2704)\u001b[0m LOG: Initializing client with CID=11\n",
            "\u001b[36m(ClientAppActor pid=2704)\u001b[0m 11-LOG: Data partition assigned to client 11 -> Non-IID\n",
            "\u001b[36m(ClientAppActor pid=2704)\u001b[0m 11-LOG: Model initialized for client 11\n",
            "\u001b[36m(ClientAppActor pid=2704)\u001b[0m 11-LOG: Dataloaders initialized for client 11\n",
            "\u001b[36m(ClientAppActor pid=2704)\u001b[0m 11-LOG: PFedEdit Local Layer Selection\n",
            "\u001b[36m(ClientAppActor pid=2704)\u001b[0m Max Batches: 4\n",
            "\u001b[36m(ClientAppActor pid=2704)\u001b[0m 11-LOG: Selected Layers (Min Loss): [0, 1, 2]\n",
            "\u001b[36m(ClientAppActor pid=2704)\u001b[0m 11-LOG: Completed local training - Loss: nan | Accuracy: 0.0000\n",
            "\u001b[36m(ClientAppActor pid=2704)\u001b[0m LOG: Initializing client with CID=42\n",
            "\u001b[36m(ClientAppActor pid=2704)\u001b[0m 42-LOG: Data partition assigned to client 42 -> Non-IID\n",
            "\u001b[36m(ClientAppActor pid=2704)\u001b[0m 42-LOG: Model initialized for client 42\n",
            "\u001b[36m(ClientAppActor pid=2704)\u001b[0m 42-LOG: Dataloaders initialized for client 42\n",
            "\u001b[36m(ClientAppActor pid=2704)\u001b[0m 42-LOG: PFedEdit Local Layer Selection\n",
            "\u001b[36m(ClientAppActor pid=2704)\u001b[0m Max Batches: 4\n",
            "\u001b[36m(ClientAppActor pid=2704)\u001b[0m 42-LOG: Selected Layers (Min Loss): [0, 1, 2]\n",
            "\u001b[36m(ClientAppActor pid=2704)\u001b[0m 42-LOG: Completed local training - Loss: nan | Accuracy: 0.0000\n",
            "\u001b[36m(ClientAppActor pid=2704)\u001b[0m LOG: Initializing client with CID=54\n",
            "\u001b[36m(ClientAppActor pid=2704)\u001b[0m 54-LOG: Data partition assigned to client 54 -> Non-IID\n",
            "\u001b[36m(ClientAppActor pid=2704)\u001b[0m 54-LOG: Model initialized for client 54\n",
            "\u001b[36m(ClientAppActor pid=2704)\u001b[0m 54-LOG: Dataloaders initialized for client 54\n",
            "\u001b[36m(ClientAppActor pid=2704)\u001b[0m 54-LOG: PFedEdit Local Layer Selection\n",
            "\u001b[36m(ClientAppActor pid=2704)\u001b[0m Max Batches: 4\n",
            "\u001b[36m(ClientAppActor pid=2704)\u001b[0m 54-LOG: Selected Layers (Min Loss): [0, 1, 2]\n",
            "\u001b[36m(ClientAppActor pid=2704)\u001b[0m 54-LOG: Completed local training - Loss: nan | Accuracy: 0.0196\n",
            "\u001b[36m(ClientAppActor pid=2704)\u001b[0m LOG: Initializing client with CID=60\n",
            "\u001b[36m(ClientAppActor pid=2704)\u001b[0m 60-LOG: Data partition assigned to client 60 -> Non-IID\n",
            "\u001b[36m(ClientAppActor pid=2704)\u001b[0m 60-LOG: Model initialized for client 60\n",
            "\u001b[36m(ClientAppActor pid=2704)\u001b[0m 60-LOG: Dataloaders initialized for client 60\n",
            "\u001b[36m(ClientAppActor pid=2704)\u001b[0m 60-LOG: PFedEdit Local Layer Selection\n",
            "\u001b[36m(ClientAppActor pid=2704)\u001b[0m Max Batches: 4\n",
            "\u001b[36m(ClientAppActor pid=2704)\u001b[0m 60-LOG: Selected Layers (Min Loss): [0, 1, 2]\n",
            "\u001b[36m(ClientAppActor pid=2704)\u001b[0m 60-LOG: Completed local training - Loss: nan | Accuracy: 0.0000\n",
            "\u001b[36m(ClientAppActor pid=2704)\u001b[0m LOG: Initializing client with CID=70\n",
            "\u001b[36m(ClientAppActor pid=2704)\u001b[0m 70-LOG: Data partition assigned to client 70 -> Non-IID\n",
            "\u001b[36m(ClientAppActor pid=2704)\u001b[0m 70-LOG: Model initialized for client 70\n",
            "\u001b[36m(ClientAppActor pid=2704)\u001b[0m 70-LOG: Dataloaders initialized for client 70\n",
            "\u001b[36m(ClientAppActor pid=2704)\u001b[0m 70-LOG: PFedEdit Local Layer Selection\n",
            "\u001b[36m(ClientAppActor pid=2704)\u001b[0m Max Batches: 4\n",
            "\u001b[36m(ClientAppActor pid=2704)\u001b[0m 70-LOG: Selected Layers (Min Loss): [0, 1, 2]\n",
            "\u001b[36m(ClientAppActor pid=2704)\u001b[0m 70-LOG: Completed local training - Loss: nan | Accuracy: 0.0194\n",
            "\u001b[36m(ClientAppActor pid=2704)\u001b[0m LOG: Initializing client with CID=72\n",
            "\u001b[36m(ClientAppActor pid=2704)\u001b[0m 72-LOG: Data partition assigned to client 72 -> Non-IID\n",
            "\u001b[36m(ClientAppActor pid=2704)\u001b[0m 72-LOG: Model initialized for client 72\n",
            "\u001b[36m(ClientAppActor pid=2704)\u001b[0m 72-LOG: Dataloaders initialized for client 72\n",
            "\u001b[36m(ClientAppActor pid=2704)\u001b[0m 72-LOG: PFedEdit Local Layer Selection\n",
            "\u001b[36m(ClientAppActor pid=2704)\u001b[0m Max Batches: 4\n",
            "\u001b[36m(ClientAppActor pid=2704)\u001b[0m 72-LOG: Selected Layers (Min Loss): [0, 1, 2]\n"
          ]
        }
      ],
      "source": [
        "run_simulation(\n",
        "    server_app=server_app,\n",
        "    client_app=client_app,\n",
        "    num_supernodes=NUM_CLIENTS,\n",
        "    backend_config=backend_config\n",
        ")"
      ]
    },
    {
      "cell_type": "code",
      "execution_count": null,
      "metadata": {
        "id": "LmlarjszyoTm"
      },
      "outputs": [],
      "source": [
        "final_parameters = strategy.latest_parameters\n",
        "\n",
        "# Convert Flower parameters to list of numpy arrays\n",
        "ndarrays = parameters_to_ndarrays(final_parameters)\n",
        "\n",
        "# Load them into a PyTorch model\n",
        "iid_model = create_dino_vit_s16_for_cifar100()\n",
        "iid_model.to(device)\n",
        "state_dict = OrderedDict(\n",
        "    (key, torch.tensor(val)) for key, val in zip(iid_model.state_dict().keys(), ndarrays)\n",
        ")\n",
        "iid_model.load_state_dict(state_dict)\n",
        "\n",
        "correct, total, loss_total = 0, 0, 0.0\n",
        "criterion = torch.nn.CrossEntropyLoss()\n",
        "\n",
        "with torch.no_grad():\n",
        "    for images, labels in testloader:\n",
        "        images, labels = images.to(device), labels.to(device)\n",
        "        outputs = iid_model(images)\n",
        "        loss = criterion(outputs, labels)\n",
        "\n",
        "        loss_total += loss.item() * labels.size(0)\n",
        "        _, predicted = torch.max(outputs, 1)\n",
        "        total += labels.size(0)\n",
        "        correct += (predicted == labels).sum().item()\n",
        "\n",
        "test_loss = loss_total / total\n",
        "test_accuracy = correct / total\n",
        "\n",
        "logger.log_global_metrics({\n",
        "    \"test_loss\": test_loss,\n",
        "    \"test_accuracy\": test_accuracy\n",
        "}, round_number=NUM_ROUNDS)\n",
        "\n",
        "model_save_path = \"final_federated_model.pth\"\n",
        "torch.save(iid_model.state_dict(), model_save_path)\n",
        "\n",
        "logger.log_model(iid_model, path=model_save_path)\n",
        "\n",
        "logger.finish()\n",
        "\n",
        "print(f\"✅ Test Accuracy: {test_accuracy:.4f} | Test Loss: {test_loss:.4f}\")"
      ]
    }
  ],
  "metadata": {
    "accelerator": "GPU",
    "colab": {
      "gpuType": "T4",
      "provenance": []
    },
    "kernelspec": {
      "display_name": "Python 3",
      "name": "python3"
    },
    "language_info": {
      "name": "python"
    }
  },
  "nbformat": 4,
  "nbformat_minor": 0
}