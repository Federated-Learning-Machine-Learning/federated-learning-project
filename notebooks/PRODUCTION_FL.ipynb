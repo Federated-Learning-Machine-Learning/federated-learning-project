{
  "nbformat": 4,
  "nbformat_minor": 0,
  "metadata": {
    "colab": {
      "provenance": [],
      "gpuType": "T4"
    },
    "kernelspec": {
      "name": "python3",
      "display_name": "Python 3"
    },
    "language_info": {
      "name": "python"
    },
    "accelerator": "GPU"
  },
  "cells": [
    {
      "cell_type": "code",
      "source": [
        "!pip install -q flwr torch torchvision tensorboard\n",
        "!pip install -U \"flwr[simulation]\"\n",
        "!pip install timm"
      ],
      "metadata": {
        "colab": {
          "base_uri": "https://localhost:8080/"
        },
        "id": "fXzQZhEOm54h",
        "outputId": "37188173-1a3f-4875-df04-604ed3a14fcd"
      },
      "execution_count": null,
      "outputs": [
        {
          "output_type": "stream",
          "name": "stdout",
          "text": [
            "Requirement already satisfied: flwr[simulation] in /usr/local/lib/python3.11/dist-packages (1.18.0)\n",
            "Requirement already satisfied: cryptography<45.0.0,>=44.0.1 in /usr/local/lib/python3.11/dist-packages (from flwr[simulation]) (44.0.3)\n",
            "Requirement already satisfied: grpcio!=1.65.0,<2.0.0,>=1.62.3 in /usr/local/lib/python3.11/dist-packages (from flwr[simulation]) (1.71.0)\n",
            "Requirement already satisfied: iterators<0.0.3,>=0.0.2 in /usr/local/lib/python3.11/dist-packages (from flwr[simulation]) (0.0.2)\n",
            "Requirement already satisfied: numpy<3.0.0,>=1.26.0 in /usr/local/lib/python3.11/dist-packages (from flwr[simulation]) (2.0.2)\n",
            "Requirement already satisfied: pathspec<0.13.0,>=0.12.1 in /usr/local/lib/python3.11/dist-packages (from flwr[simulation]) (0.12.1)\n",
            "Requirement already satisfied: protobuf<5.0.0,>=4.21.6 in /usr/local/lib/python3.11/dist-packages (from flwr[simulation]) (4.25.7)\n",
            "Requirement already satisfied: pycryptodome<4.0.0,>=3.18.0 in /usr/local/lib/python3.11/dist-packages (from flwr[simulation]) (3.22.0)\n",
            "Requirement already satisfied: pyyaml<7.0.0,>=6.0.2 in /usr/local/lib/python3.11/dist-packages (from flwr[simulation]) (6.0.2)\n",
            "Requirement already satisfied: ray==2.31.0 in /usr/local/lib/python3.11/dist-packages (from flwr[simulation]) (2.31.0)\n",
            "Requirement already satisfied: requests<3.0.0,>=2.31.0 in /usr/local/lib/python3.11/dist-packages (from flwr[simulation]) (2.32.3)\n",
            "Requirement already satisfied: rich<14.0.0,>=13.5.0 in /usr/local/lib/python3.11/dist-packages (from flwr[simulation]) (13.9.4)\n",
            "Requirement already satisfied: tomli<3.0.0,>=2.0.1 in /usr/local/lib/python3.11/dist-packages (from flwr[simulation]) (2.2.1)\n",
            "Requirement already satisfied: tomli-w<2.0.0,>=1.0.0 in /usr/local/lib/python3.11/dist-packages (from flwr[simulation]) (1.2.0)\n",
            "Requirement already satisfied: typer<0.13.0,>=0.12.5 in /usr/local/lib/python3.11/dist-packages (from flwr[simulation]) (0.12.5)\n",
            "Requirement already satisfied: click>=7.0 in /usr/local/lib/python3.11/dist-packages (from ray==2.31.0->flwr[simulation]) (8.1.8)\n",
            "Requirement already satisfied: filelock in /usr/local/lib/python3.11/dist-packages (from ray==2.31.0->flwr[simulation]) (3.18.0)\n",
            "Requirement already satisfied: jsonschema in /usr/local/lib/python3.11/dist-packages (from ray==2.31.0->flwr[simulation]) (4.23.0)\n",
            "Requirement already satisfied: msgpack<2.0.0,>=1.0.0 in /usr/local/lib/python3.11/dist-packages (from ray==2.31.0->flwr[simulation]) (1.1.0)\n",
            "Requirement already satisfied: packaging in /usr/local/lib/python3.11/dist-packages (from ray==2.31.0->flwr[simulation]) (24.2)\n",
            "Requirement already satisfied: aiosignal in /usr/local/lib/python3.11/dist-packages (from ray==2.31.0->flwr[simulation]) (1.3.2)\n",
            "Requirement already satisfied: frozenlist in /usr/local/lib/python3.11/dist-packages (from ray==2.31.0->flwr[simulation]) (1.6.0)\n",
            "Requirement already satisfied: cffi>=1.12 in /usr/local/lib/python3.11/dist-packages (from cryptography<45.0.0,>=44.0.1->flwr[simulation]) (1.17.1)\n",
            "Requirement already satisfied: charset-normalizer<4,>=2 in /usr/local/lib/python3.11/dist-packages (from requests<3.0.0,>=2.31.0->flwr[simulation]) (3.4.1)\n",
            "Requirement already satisfied: idna<4,>=2.5 in /usr/local/lib/python3.11/dist-packages (from requests<3.0.0,>=2.31.0->flwr[simulation]) (3.10)\n",
            "Requirement already satisfied: urllib3<3,>=1.21.1 in /usr/local/lib/python3.11/dist-packages (from requests<3.0.0,>=2.31.0->flwr[simulation]) (2.4.0)\n",
            "Requirement already satisfied: certifi>=2017.4.17 in /usr/local/lib/python3.11/dist-packages (from requests<3.0.0,>=2.31.0->flwr[simulation]) (2025.4.26)\n",
            "Requirement already satisfied: markdown-it-py>=2.2.0 in /usr/local/lib/python3.11/dist-packages (from rich<14.0.0,>=13.5.0->flwr[simulation]) (3.0.0)\n",
            "Requirement already satisfied: pygments<3.0.0,>=2.13.0 in /usr/local/lib/python3.11/dist-packages (from rich<14.0.0,>=13.5.0->flwr[simulation]) (2.19.1)\n",
            "Requirement already satisfied: typing-extensions>=3.7.4.3 in /usr/local/lib/python3.11/dist-packages (from typer<0.13.0,>=0.12.5->flwr[simulation]) (4.13.2)\n",
            "Requirement already satisfied: shellingham>=1.3.0 in /usr/local/lib/python3.11/dist-packages (from typer<0.13.0,>=0.12.5->flwr[simulation]) (1.5.4)\n",
            "Requirement already satisfied: pycparser in /usr/local/lib/python3.11/dist-packages (from cffi>=1.12->cryptography<45.0.0,>=44.0.1->flwr[simulation]) (2.22)\n",
            "Requirement already satisfied: mdurl~=0.1 in /usr/local/lib/python3.11/dist-packages (from markdown-it-py>=2.2.0->rich<14.0.0,>=13.5.0->flwr[simulation]) (0.1.2)\n",
            "Requirement already satisfied: attrs>=22.2.0 in /usr/local/lib/python3.11/dist-packages (from jsonschema->ray==2.31.0->flwr[simulation]) (25.3.0)\n",
            "Requirement already satisfied: jsonschema-specifications>=2023.03.6 in /usr/local/lib/python3.11/dist-packages (from jsonschema->ray==2.31.0->flwr[simulation]) (2025.4.1)\n",
            "Requirement already satisfied: referencing>=0.28.4 in /usr/local/lib/python3.11/dist-packages (from jsonschema->ray==2.31.0->flwr[simulation]) (0.36.2)\n",
            "Requirement already satisfied: rpds-py>=0.7.1 in /usr/local/lib/python3.11/dist-packages (from jsonschema->ray==2.31.0->flwr[simulation]) (0.24.0)\n",
            "Requirement already satisfied: timm in /usr/local/lib/python3.11/dist-packages (1.0.15)\n",
            "Requirement already satisfied: torch in /usr/local/lib/python3.11/dist-packages (from timm) (2.6.0+cu124)\n",
            "Requirement already satisfied: torchvision in /usr/local/lib/python3.11/dist-packages (from timm) (0.21.0+cu124)\n",
            "Requirement already satisfied: pyyaml in /usr/local/lib/python3.11/dist-packages (from timm) (6.0.2)\n",
            "Requirement already satisfied: huggingface_hub in /usr/local/lib/python3.11/dist-packages (from timm) (0.30.2)\n",
            "Requirement already satisfied: safetensors in /usr/local/lib/python3.11/dist-packages (from timm) (0.5.3)\n",
            "Requirement already satisfied: filelock in /usr/local/lib/python3.11/dist-packages (from huggingface_hub->timm) (3.18.0)\n",
            "Requirement already satisfied: fsspec>=2023.5.0 in /usr/local/lib/python3.11/dist-packages (from huggingface_hub->timm) (2025.3.2)\n",
            "Requirement already satisfied: packaging>=20.9 in /usr/local/lib/python3.11/dist-packages (from huggingface_hub->timm) (24.2)\n",
            "Requirement already satisfied: requests in /usr/local/lib/python3.11/dist-packages (from huggingface_hub->timm) (2.32.3)\n",
            "Requirement already satisfied: tqdm>=4.42.1 in /usr/local/lib/python3.11/dist-packages (from huggingface_hub->timm) (4.67.1)\n",
            "Requirement already satisfied: typing-extensions>=3.7.4.3 in /usr/local/lib/python3.11/dist-packages (from huggingface_hub->timm) (4.13.2)\n",
            "Requirement already satisfied: networkx in /usr/local/lib/python3.11/dist-packages (from torch->timm) (3.4.2)\n",
            "Requirement already satisfied: jinja2 in /usr/local/lib/python3.11/dist-packages (from torch->timm) (3.1.6)\n",
            "Requirement already satisfied: nvidia-cuda-nvrtc-cu12==12.4.127 in /usr/local/lib/python3.11/dist-packages (from torch->timm) (12.4.127)\n",
            "Requirement already satisfied: nvidia-cuda-runtime-cu12==12.4.127 in /usr/local/lib/python3.11/dist-packages (from torch->timm) (12.4.127)\n",
            "Requirement already satisfied: nvidia-cuda-cupti-cu12==12.4.127 in /usr/local/lib/python3.11/dist-packages (from torch->timm) (12.4.127)\n",
            "Requirement already satisfied: nvidia-cudnn-cu12==9.1.0.70 in /usr/local/lib/python3.11/dist-packages (from torch->timm) (9.1.0.70)\n",
            "Requirement already satisfied: nvidia-cublas-cu12==12.4.5.8 in /usr/local/lib/python3.11/dist-packages (from torch->timm) (12.4.5.8)\n",
            "Requirement already satisfied: nvidia-cufft-cu12==11.2.1.3 in /usr/local/lib/python3.11/dist-packages (from torch->timm) (11.2.1.3)\n",
            "Requirement already satisfied: nvidia-curand-cu12==10.3.5.147 in /usr/local/lib/python3.11/dist-packages (from torch->timm) (10.3.5.147)\n",
            "Requirement already satisfied: nvidia-cusolver-cu12==11.6.1.9 in /usr/local/lib/python3.11/dist-packages (from torch->timm) (11.6.1.9)\n",
            "Requirement already satisfied: nvidia-cusparse-cu12==12.3.1.170 in /usr/local/lib/python3.11/dist-packages (from torch->timm) (12.3.1.170)\n",
            "Requirement already satisfied: nvidia-cusparselt-cu12==0.6.2 in /usr/local/lib/python3.11/dist-packages (from torch->timm) (0.6.2)\n",
            "Requirement already satisfied: nvidia-nccl-cu12==2.21.5 in /usr/local/lib/python3.11/dist-packages (from torch->timm) (2.21.5)\n",
            "Requirement already satisfied: nvidia-nvtx-cu12==12.4.127 in /usr/local/lib/python3.11/dist-packages (from torch->timm) (12.4.127)\n",
            "Requirement already satisfied: nvidia-nvjitlink-cu12==12.4.127 in /usr/local/lib/python3.11/dist-packages (from torch->timm) (12.4.127)\n",
            "Requirement already satisfied: triton==3.2.0 in /usr/local/lib/python3.11/dist-packages (from torch->timm) (3.2.0)\n",
            "Requirement already satisfied: sympy==1.13.1 in /usr/local/lib/python3.11/dist-packages (from torch->timm) (1.13.1)\n",
            "Requirement already satisfied: mpmath<1.4,>=1.1.0 in /usr/local/lib/python3.11/dist-packages (from sympy==1.13.1->torch->timm) (1.3.0)\n",
            "Requirement already satisfied: numpy in /usr/local/lib/python3.11/dist-packages (from torchvision->timm) (2.0.2)\n",
            "Requirement already satisfied: pillow!=8.3.*,>=5.3.0 in /usr/local/lib/python3.11/dist-packages (from torchvision->timm) (11.2.1)\n",
            "Requirement already satisfied: MarkupSafe>=2.0 in /usr/local/lib/python3.11/dist-packages (from jinja2->torch->timm) (3.0.2)\n",
            "Requirement already satisfied: charset-normalizer<4,>=2 in /usr/local/lib/python3.11/dist-packages (from requests->huggingface_hub->timm) (3.4.1)\n",
            "Requirement already satisfied: idna<4,>=2.5 in /usr/local/lib/python3.11/dist-packages (from requests->huggingface_hub->timm) (3.10)\n",
            "Requirement already satisfied: urllib3<3,>=1.21.1 in /usr/local/lib/python3.11/dist-packages (from requests->huggingface_hub->timm) (2.4.0)\n",
            "Requirement already satisfied: certifi>=2017.4.17 in /usr/local/lib/python3.11/dist-packages (from requests->huggingface_hub->timm) (2025.4.26)\n"
          ]
        }
      ]
    },
    {
      "cell_type": "code",
      "source": [
        "from datetime import datetime\n",
        "from functools import partial\n",
        "from flwr.server import ServerConfig\n",
        "import random\n",
        "import numpy as np\n",
        "import torch.nn as nn\n",
        "from torchvision import transforms\n",
        "import timm\n",
        "import torch\n",
        "import os\n",
        "import torchvision\n",
        "import torchvision.transforms as transforms\n",
        "from torch.utils.data import random_split, DataLoader\n",
        "from torch.utils.tensorboard import SummaryWriter\n",
        "import flwr as fl\n",
        "from flwr.simulation import run_simulation\n",
        "from flwr.common import Context\n",
        "from flwr.server import ServerApp, ServerAppComponents, ServerConfig\n",
        "from flwr.client import ClientApp\n",
        "from flwr.common import parameters_to_ndarrays\n",
        "from collections import OrderedDict\n",
        "from wandb_logger import FederatedWandBLogger\n",
        "import data_utils\n",
        "import clients\n",
        "import strategies\n",
        "import data_preprocessing"
      ],
      "metadata": {
        "id": "5Xp1pUuaE6mR"
      },
      "execution_count": null,
      "outputs": []
    },
    {
      "cell_type": "code",
      "source": [
        "def build_optimizer_config(optimizer_type):\n",
        "    if optimizer_type == clients.OptimizerType.SGD:\n",
        "        config = {\n",
        "            \"lr\": LR,\n",
        "            \"momentum\": MOMENTUM,\n",
        "            \"weight_decay\": WEIGHT_DECAY,\n",
        "            \"nesterov\": NESTEROV\n",
        "        }\n",
        "\n",
        "    elif optimizer_type == clients.OptimizerType.ADAM:\n",
        "        config = {\n",
        "            \"lr\": LR,\n",
        "            \"betas\": BETAS,\n",
        "            \"weight_decay\": WEIGHT_DECAY,\n",
        "            \"eps\": EPSILON\n",
        "        }\n",
        "\n",
        "    elif optimizer_type == clients.OptimizerType.ADAMW:\n",
        "        config = {\n",
        "            \"lr\": LR,\n",
        "            \"betas\": BETAS,\n",
        "            \"weight_decay\": WEIGHT_DECAY\n",
        "        }\n",
        "\n",
        "    elif optimizer_type == clients.OptimizerType.RMSPROP:\n",
        "        config = {\n",
        "            \"lr\": LR,\n",
        "            \"alpha\": ALPHA,\n",
        "            \"eps\": EPSILON,\n",
        "            \"weight_decay\": WEIGHT_DECAY,\n",
        "            \"momentum\": MOMENTUM,\n",
        "            \"centered\": CENTERED\n",
        "        }\n",
        "\n",
        "    elif optimizer_type == clients.OptimizerType.ADAGRAD:\n",
        "        config = {\n",
        "            \"lr\": LR,\n",
        "            \"weight_decay\": WEIGHT_DECAY,\n",
        "            \"eps\": EPSILON\n",
        "        }\n",
        "    else:\n",
        "        raise ValueError(f\"Unsupported optimizer type: {optimizer_type}\")\n",
        "\n",
        "    print(f\"Optimizer '{optimizer_type}' initialized successfully.\")\n",
        "    return config"
      ],
      "metadata": {
        "id": "FjV-eYsA1qdH"
      },
      "execution_count": null,
      "outputs": []
    },
    {
      "cell_type": "code",
      "source": [
        "def build_scheduler_config(scheduler_type):\n",
        "\n",
        "    if scheduler_type == clients.SchedulerType.COSINE:\n",
        "        config = {\n",
        "            \"T_max\": T_MAX,\n",
        "            \"eta_min\": ETA_MIN\n",
        "        }\n",
        "\n",
        "    elif scheduler_type == clients.SchedulerType.COSINE_RESTART:\n",
        "        config = {\n",
        "            \"T_0\": T_MAX,\n",
        "            \"T_mult\": 1,\n",
        "            \"eta_min\": ETA_MIN\n",
        "        }\n",
        "\n",
        "    elif scheduler_type == clients.SchedulerType.STEP:\n",
        "        config = {\n",
        "            \"step_size\": STEP_SIZE,\n",
        "            \"gamma\": GAMMA\n",
        "        }\n",
        "\n",
        "    elif scheduler_type == clients.SchedulerType.MULTISTEP:\n",
        "        config = {\n",
        "            \"milestones\": MILESTONES,\n",
        "            \"gamma\": GAMMA\n",
        "        }\n",
        "\n",
        "    elif scheduler_type == clients.SchedulerType.EXPONENTIAL:\n",
        "        config = {\n",
        "            \"gamma\": GAMMA\n",
        "        }\n",
        "\n",
        "    elif scheduler_type == clients.SchedulerType.REDUCE_ON_PLATEAU:\n",
        "        config = {\n",
        "            \"mode\": \"min\",\n",
        "            \"factor\": FACTOR,\n",
        "            \"patience\": PATIENCE,\n",
        "            \"threshold\": THRESHOLD\n",
        "        }\n",
        "\n",
        "    elif scheduler_type == clients.SchedulerType.CONSTANT:\n",
        "        config = {\n",
        "            \"factor\": 1.0,\n",
        "            \"total_iters\": TOTAL_ITERS\n",
        "        }\n",
        "\n",
        "    elif scheduler_type == clients.SchedulerType.LINEAR:\n",
        "        config = {\n",
        "            \"start_factor\": 0.5,\n",
        "            \"end_factor\": LR_END,\n",
        "            \"total_iters\": TOTAL_ITERS\n",
        "        }\n",
        "\n",
        "    else:\n",
        "        raise ValueError(f\"Unsupported scheduler type: {scheduler_type}\")\n",
        "\n",
        "    print(f\"Scheduler '{scheduler_type}' initialized successfully.\")\n",
        "    return config"
      ],
      "metadata": {
        "id": "dvNGxKWx12Ad"
      },
      "execution_count": null,
      "outputs": []
    },
    {
      "cell_type": "code",
      "source": [
        "def seed_everything(seed=42):\n",
        "    random.seed(seed)\n",
        "    np.random.seed(seed)\n",
        "    torch.manual_seed(seed)\n",
        "    torch.cuda.manual_seed_all(seed)\n",
        "    os.environ[\"PYTHONHASHSEED\"] = str(seed)\n",
        "    torch.backends.cudnn.deterministic = True\n",
        "    torch.backends.cudnn.benchmark = False\n",
        "\n",
        "seed_everything(42)"
      ],
      "metadata": {
        "id": "qbmrMF8AzgV6"
      },
      "execution_count": null,
      "outputs": []
    },
    {
      "cell_type": "code",
      "source": [
        "# THE WHOLE TRAINING SETTINGS ARE HERE!\n",
        "\n",
        "# GENERAL\n",
        "BATCH_SIZE = 32\n",
        "EPOCHS = 15\n",
        "VAL_SPLIT = 0.1\n",
        "DEVICE = torch.device(\"cuda\" if torch.cuda.is_available() else \"cpu\")\n",
        "BACKBONE_FREEZING = True\n",
        "\n",
        "# FL\n",
        "NUM_CLIENTS = 100\n",
        "NC = 50\n",
        "LOCAL_EPOCHS = 4\n",
        "NUM_ROUNDS = 8\n",
        "FRACTION_FIT = 0.1\n",
        "FRACTION_EVAL = 0.03\n",
        "CLIENT_TYPE = clients.ClientType.FEDPROX\n",
        "STRATEGY_TYPE = strategies.StrategiesType.FEDAVG\n",
        "IID = False\n",
        "\n",
        "# LOSS\n",
        "SMOOTHING=0.1\n",
        "\n",
        "# Optimizer Hyperparameters\n",
        "LR = 0.03\n",
        "MOMENTUM = 0.9\n",
        "WEIGHT_DECAY = 1e-4\n",
        "NESTEROV = False\n",
        "BETAS = (0.9, 0.999)\n",
        "EPSILON = 1e-8\n",
        "ALPHA = 0.99\n",
        "CENTERED = False\n",
        "OPTIMIZER_TYPE  = clients.OptimizerType.SGD\n",
        "\n",
        "# Scheduler Hyperparameters\n",
        "T_MAX = 8\n",
        "ETA_MIN = 1e-6\n",
        "STEP_SIZE = 30\n",
        "GAMMA = 0.1\n",
        "MILESTONES = [50, 75]\n",
        "FACTOR = 0.1\n",
        "PATIENCE = 5\n",
        "THRESHOLD = 1e-4\n",
        "TOTAL_ITERS = 10\n",
        "LR_END = 0.0\n",
        "SCHEDULER_TYPE  = clients.SchedulerType.COSINE\n",
        "\n",
        "# FedProx\n",
        "\n",
        "MU = 0.1\n",
        "\n",
        "# YOGI\n",
        "\n",
        "ETA = 0.01           # Learning rate for Yogi updates\n",
        "ETA_L = 0.0316      # Learning rate for local updates\n",
        "TAU = 0.1            # Adaptive learning parameter for Yogi\n",
        "BETA_1 = 0.9         # Momentum term (default value from the original paper)\n",
        "BETA_2 = 0.999       # Second momentum term (default value from the original paper)\n",
        "\n",
        "OPTIMIZER_CONFIG = build_optimizer_config(OPTIMIZER_TYPE)\n",
        "SCHEDULER_CONFIG = build_scheduler_config(SCHEDULER_TYPE)"
      ],
      "metadata": {
        "id": "1799ScT_ohcp",
        "colab": {
          "base_uri": "https://localhost:8080/"
        },
        "outputId": "fdebcd73-752e-4140-fcc8-bdba11f0981e"
      },
      "execution_count": null,
      "outputs": [
        {
          "output_type": "stream",
          "name": "stdout",
          "text": [
            "Optimizer 'OptimizerType.SGD' initialized successfully.\n",
            "Scheduler 'SchedulerType.COSINE' initialized successfully.\n"
          ]
        }
      ]
    },
    {
      "cell_type": "code",
      "execution_count": null,
      "metadata": {
        "colab": {
          "base_uri": "https://localhost:8080/"
        },
        "id": "dO_pxQucjrtp",
        "outputId": "596337e9-e176-4354-a9fe-36fc65b0e94e"
      },
      "outputs": [
        {
          "output_type": "stream",
          "name": "stdout",
          "text": [
            "Setup complete. IID and Non-IID splits created.\n"
          ]
        }
      ],
      "source": [
        "pipeline = data_preprocessing.CIFAR100Pipeline(val_split=VAL_SPLIT, use_augment=True)\n",
        "trainset, valset, testset = pipeline.run_pipeline()\n",
        "\n",
        "trainloader = DataLoader(trainset, batch_size=BATCH_SIZE, shuffle=True)\n",
        "valloader = DataLoader(valset, batch_size=BATCH_SIZE)\n",
        "testloader = DataLoader(testset, batch_size=BATCH_SIZE)\n",
        "\n",
        "# Apply sharding\n",
        "client_datasets_iid = data_utils.iid_split(trainset, NUM_CLIENTS)\n",
        "client_datasets_noniid = None\n",
        "if not IID:\n",
        "    client_datasets_noniid = data_utils.non_iid_split(trainset, NUM_CLIENTS, NC, 100)\n",
        "\n",
        "print(\"Setup complete. IID and Non-IID splits created.\")"
      ]
    },
    {
      "cell_type": "code",
      "source": [
        "# Create model\n",
        "def create_dino_vit_s16_for_cifar100(freezing=BACKBONE_FREEZING):\n",
        "    model = timm.create_model(\"vit_small_patch16_224_dino\", pretrained=True, num_classes=0)\n",
        "\n",
        "    # Replace the head with CIFAR-100 classification head\n",
        "    model.head = nn.Linear(model.num_features, 100)\n",
        "\n",
        "    if freezing:\n",
        "      # Freeze all parameters except head\n",
        "      for param in model.parameters():\n",
        "          param.requires_grad = False\n",
        "\n",
        "      # Unfreeze only the head\n",
        "      for param in model.head.parameters():\n",
        "          param.requires_grad = True\n",
        "\n",
        "    return model"
      ],
      "metadata": {
        "id": "1Q4llQU021yr"
      },
      "execution_count": null,
      "outputs": []
    },
    {
      "cell_type": "code",
      "source": [
        "!wandb login f8ad3703c9023ee3f86c7242a87d9280b6c031fb"
      ],
      "metadata": {
        "colab": {
          "base_uri": "https://localhost:8080/"
        },
        "id": "kgTCGG3-44cf",
        "outputId": "1d004aeb-6c66-4347-c8f2-e3370900cbad"
      },
      "execution_count": null,
      "outputs": [
        {
          "output_type": "stream",
          "name": "stdout",
          "text": [
            "\u001b[34m\u001b[1mwandb\u001b[0m: \u001b[33mWARNING\u001b[0m Using legacy-service, which is deprecated. If this is unintentional, you can fix it by ensuring you do not call `wandb.require('legacy-service')` and do not set the WANDB_X_REQUIRE_LEGACY_SERVICE environment variable.\n",
            "\u001b[34m\u001b[1mwandb\u001b[0m: Appending key for api.wandb.ai to your netrc file: /root/.netrc\n",
            "\u001b[34m\u001b[1mwandb\u001b[0m: W&B API key is configured. Use \u001b[1m`wandb login --relogin`\u001b[0m to force relogin\n"
          ]
        }
      ]
    },
    {
      "cell_type": "code",
      "source": [
        "data_distribution = \"IID_DATA\" if IID else \"NON_IID_DATA\"\n",
        "run_name = f\"FEDERATED_{data_distribution}_{datetime.now().strftime('%Y%m%d-%H%M%S')}\"\n",
        "\n",
        "if CLIENT_TYPE == clients.ClientType.STANDARD:\n",
        "    client_app = ClientApp(\n",
        "        client_fn=clients.build_client_fn(\n",
        "            use_iid=IID,\n",
        "            optimizer_type=OPTIMIZER_TYPE,\n",
        "            scheduler_type=SCHEDULER_TYPE,\n",
        "            optimizer_config=OPTIMIZER_CONFIG,\n",
        "            scheduler_config=SCHEDULER_CONFIG,\n",
        "            iid_partitions=client_datasets_iid,\n",
        "            non_iid_partitions=client_datasets_noniid,\n",
        "            model_fn=create_dino_vit_s16_for_cifar100,\n",
        "            device=DEVICE,\n",
        "            valset=valset,\n",
        "            local_epochs=LOCAL_EPOCHS,\n",
        "            batch_size=BATCH_SIZE\n",
        "        )\n",
        "    )\n",
        "    client_config = None\n",
        "else:\n",
        "    client_app = ClientApp(\n",
        "    client_fn=clients.build_client_fedprox_fn(\n",
        "        use_iid=IID,\n",
        "        optimizer_type=OPTIMIZER_TYPE,\n",
        "        scheduler_type=SCHEDULER_TYPE,\n",
        "        optimizer_config=OPTIMIZER_CONFIG,\n",
        "        scheduler_config=SCHEDULER_CONFIG,\n",
        "        iid_partitions=client_datasets_iid,\n",
        "        non_iid_partitions=client_datasets_noniid,\n",
        "        model_fn=create_dino_vit_s16_for_cifar100,\n",
        "        device=DEVICE,\n",
        "        valset=valset,\n",
        "        local_epochs=LOCAL_EPOCHS,\n",
        "        batch_size=BATCH_SIZE,\n",
        "        mu=MU\n",
        "    )\n",
        "    )\n",
        "    client_config = {\"mu\": MU}\n",
        "\n",
        "\n",
        "if STRATEGY_TYPE == strategies.StrategiesType.FEDAVG:\n",
        "    strategy_config = None\n",
        "else:\n",
        "    strategy_config = {\"eta\": ETA, \"eta_l\": ETA_L, \"tau\": TAU, \"beta_1\": BETA_1, \"beta_2\": BETA_2,}\n",
        "\n",
        "\n",
        "if not IID:\n",
        "  DataConfig = {\"use_iid\": IID, \"num_classes\": NC}\n",
        "else:\n",
        "  DataConfig = {\"use_iid\": IID}\n",
        "\n",
        "logger = FederatedWandBLogger(\n",
        "    project_name=\"federated-learning-project\",\n",
        "    run_name=run_name,\n",
        "    global_config={\n",
        "        # Federated Learning Configuration\n",
        "        \"data_config\": DataConfig,\n",
        "        \"local_epochs\": LOCAL_EPOCHS,\n",
        "        \"batch_size\": BATCH_SIZE,\n",
        "        \"num_clients\": NUM_CLIENTS,\n",
        "        \"fraction_fit\": FRACTION_FIT,\n",
        "        \"fraction_evaluate\": FRACTION_EVAL,\n",
        "        \"backbone_freezing\": BACKBONE_FREEZING,\n",
        "        \"client_type\": CLIENT_TYPE.value,\n",
        "        \"client_config\": client_config,\n",
        "        \"strategy_type\": STRATEGY_TYPE.value,\n",
        "        \"strategy_config\": strategy_config,\n",
        "        \"val_split\": VAL_SPLIT,\n",
        "\n",
        "        # Optimizer Configuration\n",
        "        \"optimizer\": OPTIMIZER_TYPE.value,\n",
        "        \"optimizer_config\": OPTIMIZER_CONFIG,\n",
        "\n",
        "        # Scheduler Configuration\n",
        "        \"scheduler\": SCHEDULER_TYPE.value,\n",
        "        \"scheduler_config\": SCHEDULER_CONFIG,\n",
        "    }\n",
        ")\n",
        "\n",
        "if STRATEGY_TYPE == strategies.StrategiesType.FEDAVG:\n",
        "    strategy = strategies.FedAvgStandard(\n",
        "        logger=logger,\n",
        "        fraction_fit=FRACTION_FIT,\n",
        "        min_fit_clients=int(FRACTION_FIT*NUM_CLIENTS),\n",
        "        min_evaluate_clients=int(FRACTION_EVAL*NUM_CLIENTS),\n",
        "        fraction_evaluate=FRACTION_EVAL,\n",
        "        min_available_clients=NUM_CLIENTS,\n",
        "        evaluate_metrics_aggregation_fn = lambda metrics: {\n",
        "            \"accuracy\": sum(num * m[\"val_accuracy\"] for num, m in metrics) / sum(num for num, _ in metrics)\n",
        "        }\n",
        "    )\n",
        "else:\n",
        "    strategy = strategies.FedYogiStandard(\n",
        "        logger=logger,\n",
        "        fraction_fit=FRACTION_FIT,\n",
        "        min_fit_clients=int(FRACTION_FIT*NUM_CLIENTS),\n",
        "        min_evaluate_clients=int(FRACTION_EVAL*NUM_CLIENTS),\n",
        "        fraction_evaluate=FRACTION_EVAL,\n",
        "        min_available_clients=NUM_CLIENTS,\n",
        "        eta=ETA,\n",
        "        eta_l =ETA_L,\n",
        "        tau=TAU,\n",
        "        beta_1=BETA_1,\n",
        "        beta_2=BETA_2,\n",
        "        evaluate_metrics_aggregation_fn = lambda metrics: {\n",
        "            \"accuracy\": sum(num * m[\"val_accuracy\"] for num, m in metrics) / sum(num for num, _ in metrics)\n",
        "        }\n",
        "    )\n",
        "\n",
        "def server_fn(context: Context) -> ServerAppComponents:\n",
        "    \"\"\"Construct components that set the ServerApp behaviour.\n",
        "\n",
        "    You can use the settings in `context.run_config` to parameterize the\n",
        "    construction of all elements (e.g the strategy or the number of rounds)\n",
        "    wrapped in the returned ServerAppComponents object.\n",
        "    \"\"\"\n",
        "    config = ServerConfig(num_rounds=NUM_ROUNDS)\n",
        "    return ServerAppComponents(strategy=strategy, config=config)\n",
        "\n",
        "server_app = ServerApp(server_fn=server_fn)"
      ],
      "metadata": {
        "id": "31KOm819XUko",
        "colab": {
          "base_uri": "https://localhost:8080/",
          "height": 191
        },
        "outputId": "72a12811-75e2-44b9-b943-94a195c549ee"
      },
      "execution_count": null,
      "outputs": [
        {
          "output_type": "stream",
          "name": "stderr",
          "text": [
            "/usr/local/lib/python3.11/dist-packages/notebook/utils.py:280: DeprecationWarning: distutils Version classes are deprecated. Use packaging.version instead.\n",
            "  return LooseVersion(v) >= LooseVersion(check)\n",
            "\u001b[34m\u001b[1mwandb\u001b[0m: Currently logged in as: \u001b[33ms339170\u001b[0m (\u001b[33mpolito-fl\u001b[0m) to \u001b[32mhttps://api.wandb.ai\u001b[0m. Use \u001b[1m`wandb login --relogin`\u001b[0m to force relogin\n",
            "/usr/local/lib/python3.11/dist-packages/wandb/analytics/sentry.py:259: DeprecationWarning: The `Scope.user` setter is deprecated in favor of `Scope.set_user()`.\n",
            "  self.scope.user = {\"email\": email}  # noqa\n"
          ]
        },
        {
          "output_type": "display_data",
          "data": {
            "text/plain": [
              "<IPython.core.display.HTML object>"
            ],
            "text/html": [
              "Tracking run with wandb version 0.19.10"
            ]
          },
          "metadata": {}
        },
        {
          "output_type": "display_data",
          "data": {
            "text/plain": [
              "<IPython.core.display.HTML object>"
            ],
            "text/html": [
              "Run data is saved locally in <code>/content/wandb/run-20250512_111709-653e9tlz</code>"
            ]
          },
          "metadata": {}
        },
        {
          "output_type": "display_data",
          "data": {
            "text/plain": [
              "<IPython.core.display.HTML object>"
            ],
            "text/html": [
              "Syncing run <strong><a href='https://wandb.ai/polito-fl/federated-learning-project/runs/653e9tlz' target=\"_blank\">FEDERATED_NON_IID_DATA_20250512-111708</a></strong> to <a href='https://wandb.ai/polito-fl/federated-learning-project' target=\"_blank\">Weights & Biases</a> (<a href='https://wandb.me/developer-guide' target=\"_blank\">docs</a>)<br>"
            ]
          },
          "metadata": {}
        },
        {
          "output_type": "display_data",
          "data": {
            "text/plain": [
              "<IPython.core.display.HTML object>"
            ],
            "text/html": [
              " View project at <a href='https://wandb.ai/polito-fl/federated-learning-project' target=\"_blank\">https://wandb.ai/polito-fl/federated-learning-project</a>"
            ]
          },
          "metadata": {}
        },
        {
          "output_type": "display_data",
          "data": {
            "text/plain": [
              "<IPython.core.display.HTML object>"
            ],
            "text/html": [
              " View run at <a href='https://wandb.ai/polito-fl/federated-learning-project/runs/653e9tlz' target=\"_blank\">https://wandb.ai/polito-fl/federated-learning-project/runs/653e9tlz</a>"
            ]
          },
          "metadata": {}
        }
      ]
    },
    {
      "cell_type": "code",
      "source": [
        "device = torch.device(\"cuda\" if torch.cuda.is_available() else \"cpu\")\n",
        "\n",
        "backend_config = {\"client_resources\": {\"num_cpus\": 1, \"num_gpus\": 0.0}}\n",
        "\n",
        "if device.type == \"cuda\":\n",
        "    backend_config = {\"client_resources\": {\"num_cpus\": 1, \"num_gpus\": 1.0}}"
      ],
      "metadata": {
        "id": "9To1c6PtSman"
      },
      "execution_count": null,
      "outputs": []
    },
    {
      "cell_type": "code",
      "source": [
        "run_simulation(\n",
        "    server_app=server_app,\n",
        "    client_app=client_app,\n",
        "    num_supernodes=NUM_CLIENTS,\n",
        "    backend_config=backend_config\n",
        ")"
      ],
      "metadata": {
        "colab": {
          "base_uri": "https://localhost:8080/",
          "height": 1000
        },
        "id": "VmOdfanrsuOM",
        "outputId": "6e6f5c3e-8124-4552-d2f1-68fac267eb7a"
      },
      "execution_count": null,
      "outputs": [
        {
          "output_type": "stream",
          "name": "stderr",
          "text": [
            "DEBUG:flwr:Asyncio event loop already running.\n",
            "\u001b[92mINFO \u001b[0m:      Starting Flower ServerApp, config: num_rounds=8, no round_timeout\n",
            "\u001b[92mINFO \u001b[0m:      \n",
            "\u001b[92mINFO \u001b[0m:      [INIT]\n",
            "\u001b[92mINFO \u001b[0m:      Requesting initial parameters from one random client\n",
            "\u001b[36m(pid=50957)\u001b[0m 2025-05-12 11:17:19.802809: E external/local_xla/xla/stream_executor/cuda/cuda_fft.cc:477] Unable to register cuFFT factory: Attempting to register factory for plugin cuFFT when one has already been registered\n",
            "\u001b[36m(pid=50957)\u001b[0m WARNING: All log messages before absl::InitializeLog() is called are written to STDERR\n",
            "\u001b[36m(pid=50957)\u001b[0m E0000 00:00:1747048639.840505   50957 cuda_dnn.cc:8310] Unable to register cuDNN factory: Attempting to register factory for plugin cuDNN when one has already been registered\n",
            "\u001b[36m(pid=50957)\u001b[0m E0000 00:00:1747048639.851141   50957 cuda_blas.cc:1418] Unable to register cuBLAS factory: Attempting to register factory for plugin cuBLAS when one has already been registered\n"
          ]
        },
        {
          "output_type": "stream",
          "name": "stdout",
          "text": [
            "\u001b[36m(ClientAppActor pid=50957)\u001b[0m LOG: Initializing client with CID=80\n",
            "\u001b[36m(ClientAppActor pid=50957)\u001b[0m 80-LOG: Data partition assigned to client 80 -> Non-IID\n"
          ]
        },
        {
          "output_type": "stream",
          "name": "stderr",
          "text": [
            "\u001b[36m(ClientAppActor pid=50957)\u001b[0m /usr/local/lib/python3.11/dist-packages/timm/models/_factory.py:126: UserWarning: Mapping deprecated model name vit_small_patch16_224_dino to current vit_small_patch16_224.dino.\n",
            "\u001b[36m(ClientAppActor pid=50957)\u001b[0m   model = create_fn(\n"
          ]
        },
        {
          "output_type": "stream",
          "name": "stdout",
          "text": [
            "\u001b[36m(ClientAppActor pid=50957)\u001b[0m 80-LOG: Model initialized for client 80\n",
            "\u001b[36m(ClientAppActor pid=50957)\u001b[0m 80-LOG: Dataloaders initialized for client 80\n"
          ]
        },
        {
          "output_type": "stream",
          "name": "stderr",
          "text": [
            "\u001b[36m(ClientAppActor pid=50957)\u001b[0m /content/clients.py:204: FutureWarning: `torch.cuda.amp.GradScaler(args...)` is deprecated. Please use `torch.amp.GradScaler('cuda', args...)` instead.\n",
            "\u001b[36m(ClientAppActor pid=50957)\u001b[0m   self.scaler = GradScaler()\n",
            "\u001b[92mINFO \u001b[0m:      Received initial parameters from one random client\n",
            "\u001b[92mINFO \u001b[0m:      Starting evaluation of initial global parameters\n",
            "\u001b[92mINFO \u001b[0m:      Evaluation returned no results (`None`)\n",
            "\u001b[92mINFO \u001b[0m:      \n",
            "\u001b[92mINFO \u001b[0m:      [ROUND 1]\n",
            "\u001b[92mINFO \u001b[0m:      configure_fit: strategy sampled 10 clients (out of 100)\n"
          ]
        },
        {
          "output_type": "stream",
          "name": "stdout",
          "text": [
            "\u001b[36m(ClientAppActor pid=50957)\u001b[0m LOG: Initializing client with CID=12\n",
            "\u001b[36m(ClientAppActor pid=50957)\u001b[0m 12-LOG: Data partition assigned to client 12 -> Non-IID\n",
            "\u001b[36m(ClientAppActor pid=50957)\u001b[0m 12-LOG: Model initialized for client 12\n",
            "\u001b[36m(ClientAppActor pid=50957)\u001b[0m 12-LOG: Dataloaders initialized for client 12\n",
            "\u001b[36m(ClientAppActor pid=50957)\u001b[0m 12-LOG: Starting local training round with FedProx (mu=0.1)\n",
            "\u001b[36m(ClientAppActor pid=50957)\u001b[0m 12-LOG: Starting epoch 1/4\n"
          ]
        },
        {
          "output_type": "stream",
          "name": "stderr",
          "text": [
            "\u001b[36m(ClientAppActor pid=50957)\u001b[0m /content/clients.py:453: FutureWarning: `torch.cuda.amp.autocast(args...)` is deprecated. Please use `torch.amp.autocast('cuda', args...)` instead.\n",
            "\u001b[36m(ClientAppActor pid=50957)\u001b[0m   with autocast():\n",
            "\u001b[36m(ClientAppActor pid=50957)\u001b[0m /usr/local/lib/python3.11/dist-packages/torch/optim/lr_scheduler.py:227: UserWarning: Detected call of `lr_scheduler.step()` before `optimizer.step()`. In PyTorch 1.1.0 and later, you should call them in the opposite order: `optimizer.step()` before `lr_scheduler.step()`.  Failure to do this will result in PyTorch skipping the first value of the learning rate schedule. See more details at https://pytorch.org/docs/stable/optim.html#how-to-adjust-learning-rate\n",
            "\u001b[36m(ClientAppActor pid=50957)\u001b[0m   warnings.warn(\n"
          ]
        },
        {
          "output_type": "stream",
          "name": "stdout",
          "text": [
            "\u001b[36m(ClientAppActor pid=50957)\u001b[0m 12-LOG: Starting epoch 2/4\n",
            "\u001b[36m(ClientAppActor pid=50957)\u001b[0m 12-LOG: Starting epoch 3/4\n",
            "\u001b[36m(ClientAppActor pid=50957)\u001b[0m 12-LOG: Starting epoch 4/4\n",
            "\u001b[36m(ClientAppActor pid=50957)\u001b[0m 12-LOG: Completed local training - Loss: 25.9132 | Accuracy: 0.5361\n",
            "\u001b[36m(ClientAppActor pid=50957)\u001b[0m LOG: Initializing client with CID=24\n",
            "\u001b[36m(ClientAppActor pid=50957)\u001b[0m 24-LOG: Data partition assigned to client 24 -> Non-IID\n",
            "\u001b[36m(ClientAppActor pid=50957)\u001b[0m 24-LOG: Model initialized for client 24\n",
            "\u001b[36m(ClientAppActor pid=50957)\u001b[0m 24-LOG: Dataloaders initialized for client 24\n",
            "\u001b[36m(ClientAppActor pid=50957)\u001b[0m 24-LOG: Starting local training round with FedProx (mu=0.1)\n",
            "\u001b[36m(ClientAppActor pid=50957)\u001b[0m 24-LOG: Starting epoch 1/4\n",
            "\u001b[36m(ClientAppActor pid=50957)\u001b[0m 24-LOG: Starting epoch 2/4\n",
            "\u001b[36m(ClientAppActor pid=50957)\u001b[0m 24-LOG: Starting epoch 3/4\n",
            "\u001b[36m(ClientAppActor pid=50957)\u001b[0m 24-LOG: Starting epoch 4/4\n",
            "\u001b[36m(ClientAppActor pid=50957)\u001b[0m 24-LOG: Completed local training - Loss: 27.1084 | Accuracy: 0.5140\n",
            "\u001b[36m(ClientAppActor pid=50957)\u001b[0m LOG: Initializing client with CID=41\n",
            "\u001b[36m(ClientAppActor pid=50957)\u001b[0m 41-LOG: Data partition assigned to client 41 -> Non-IID\n",
            "\u001b[36m(ClientAppActor pid=50957)\u001b[0m 41-LOG: Model initialized for client 41\n",
            "\u001b[36m(ClientAppActor pid=50957)\u001b[0m 41-LOG: Dataloaders initialized for client 41\n",
            "\u001b[36m(ClientAppActor pid=50957)\u001b[0m 41-LOG: Starting local training round with FedProx (mu=0.1)\n",
            "\u001b[36m(ClientAppActor pid=50957)\u001b[0m 41-LOG: Starting epoch 1/4\n",
            "\u001b[36m(ClientAppActor pid=50957)\u001b[0m 41-LOG: Starting epoch 2/4\n",
            "\u001b[36m(ClientAppActor pid=50957)\u001b[0m 41-LOG: Starting epoch 3/4\n",
            "\u001b[36m(ClientAppActor pid=50957)\u001b[0m 41-LOG: Starting epoch 4/4\n",
            "\u001b[36m(ClientAppActor pid=50957)\u001b[0m 41-LOG: Completed local training - Loss: 27.5965 | Accuracy: 0.4875\n",
            "\u001b[36m(ClientAppActor pid=50957)\u001b[0m LOG: Initializing client with CID=73\n",
            "\u001b[36m(ClientAppActor pid=50957)\u001b[0m 73-LOG: Data partition assigned to client 73 -> Non-IID\n",
            "\u001b[36m(ClientAppActor pid=50957)\u001b[0m 73-LOG: Model initialized for client 73\n",
            "\u001b[36m(ClientAppActor pid=50957)\u001b[0m 73-LOG: Dataloaders initialized for client 73\n",
            "\u001b[36m(ClientAppActor pid=50957)\u001b[0m 73-LOG: Starting local training round with FedProx (mu=0.1)\n",
            "\u001b[36m(ClientAppActor pid=50957)\u001b[0m 73-LOG: Starting epoch 1/4\n",
            "\u001b[36m(ClientAppActor pid=50957)\u001b[0m 73-LOG: Starting epoch 2/4\n",
            "\u001b[36m(ClientAppActor pid=50957)\u001b[0m 73-LOG: Starting epoch 3/4\n",
            "\u001b[36m(ClientAppActor pid=50957)\u001b[0m 73-LOG: Starting epoch 4/4\n",
            "\u001b[36m(ClientAppActor pid=50957)\u001b[0m 73-LOG: Completed local training - Loss: 28.3688 | Accuracy: 0.4808\n",
            "\u001b[36m(ClientAppActor pid=50957)\u001b[0m LOG: Initializing client with CID=78\n",
            "\u001b[36m(ClientAppActor pid=50957)\u001b[0m 78-LOG: Data partition assigned to client 78 -> Non-IID\n",
            "\u001b[36m(ClientAppActor pid=50957)\u001b[0m 78-LOG: Model initialized for client 78\n",
            "\u001b[36m(ClientAppActor pid=50957)\u001b[0m 78-LOG: Dataloaders initialized for client 78\n",
            "\u001b[36m(ClientAppActor pid=50957)\u001b[0m 78-LOG: Starting local training round with FedProx (mu=0.1)\n",
            "\u001b[36m(ClientAppActor pid=50957)\u001b[0m 78-LOG: Starting epoch 1/4\n",
            "\u001b[36m(ClientAppActor pid=50957)\u001b[0m 78-LOG: Starting epoch 2/4\n",
            "\u001b[36m(ClientAppActor pid=50957)\u001b[0m 78-LOG: Starting epoch 3/4\n",
            "\u001b[36m(ClientAppActor pid=50957)\u001b[0m 78-LOG: Starting epoch 4/4\n",
            "\u001b[36m(ClientAppActor pid=50957)\u001b[0m 78-LOG: Completed local training - Loss: 29.7271 | Accuracy: 0.4773\n",
            "\u001b[36m(ClientAppActor pid=50957)\u001b[0m LOG: Initializing client with CID=82\n",
            "\u001b[36m(ClientAppActor pid=50957)\u001b[0m 82-LOG: Data partition assigned to client 82 -> Non-IID\n",
            "\u001b[36m(ClientAppActor pid=50957)\u001b[0m 82-LOG: Model initialized for client 82\n",
            "\u001b[36m(ClientAppActor pid=50957)\u001b[0m 82-LOG: Dataloaders initialized for client 82\n",
            "\u001b[36m(ClientAppActor pid=50957)\u001b[0m 82-LOG: Starting local training round with FedProx (mu=0.1)\n",
            "\u001b[36m(ClientAppActor pid=50957)\u001b[0m 82-LOG: Starting epoch 1/4\n",
            "\u001b[36m(ClientAppActor pid=50957)\u001b[0m 82-LOG: Starting epoch 2/4\n",
            "\u001b[36m(ClientAppActor pid=50957)\u001b[0m 82-LOG: Starting epoch 3/4\n",
            "\u001b[36m(ClientAppActor pid=50957)\u001b[0m 82-LOG: Starting epoch 4/4\n",
            "\u001b[36m(ClientAppActor pid=50957)\u001b[0m 82-LOG: Completed local training - Loss: 33.0691 | Accuracy: 0.4635\n",
            "\u001b[36m(ClientAppActor pid=50957)\u001b[0m LOG: Initializing client with CID=13\n",
            "\u001b[36m(ClientAppActor pid=50957)\u001b[0m 13-LOG: Data partition assigned to client 13 -> Non-IID\n",
            "\u001b[36m(ClientAppActor pid=50957)\u001b[0m 13-LOG: Model initialized for client 13\n",
            "\u001b[36m(ClientAppActor pid=50957)\u001b[0m 13-LOG: Dataloaders initialized for client 13\n",
            "\u001b[36m(ClientAppActor pid=50957)\u001b[0m 13-LOG: Starting local training round with FedProx (mu=0.1)\n",
            "\u001b[36m(ClientAppActor pid=50957)\u001b[0m 13-LOG: Starting epoch 1/4\n",
            "\u001b[36m(ClientAppActor pid=50957)\u001b[0m 13-LOG: Starting epoch 2/4\n",
            "\u001b[36m(ClientAppActor pid=50957)\u001b[0m 13-LOG: Starting epoch 3/4\n",
            "\u001b[36m(ClientAppActor pid=50957)\u001b[0m 13-LOG: Starting epoch 4/4\n",
            "\u001b[36m(ClientAppActor pid=50957)\u001b[0m 13-LOG: Completed local training - Loss: 30.3583 | Accuracy: 0.4645\n",
            "\u001b[36m(ClientAppActor pid=50957)\u001b[0m LOG: Initializing client with CID=67\n",
            "\u001b[36m(ClientAppActor pid=50957)\u001b[0m 67-LOG: Data partition assigned to client 67 -> Non-IID\n",
            "\u001b[36m(ClientAppActor pid=50957)\u001b[0m 67-LOG: Model initialized for client 67\n",
            "\u001b[36m(ClientAppActor pid=50957)\u001b[0m 67-LOG: Dataloaders initialized for client 67\n",
            "\u001b[36m(ClientAppActor pid=50957)\u001b[0m 67-LOG: Starting local training round with FedProx (mu=0.1)\n",
            "\u001b[36m(ClientAppActor pid=50957)\u001b[0m 67-LOG: Starting epoch 1/4\n",
            "\u001b[36m(ClientAppActor pid=50957)\u001b[0m 67-LOG: Starting epoch 2/4\n",
            "\u001b[36m(ClientAppActor pid=50957)\u001b[0m 67-LOG: Starting epoch 3/4\n",
            "\u001b[36m(ClientAppActor pid=50957)\u001b[0m 67-LOG: Starting epoch 4/4\n",
            "\u001b[36m(ClientAppActor pid=50957)\u001b[0m 67-LOG: Completed local training - Loss: 25.5241 | Accuracy: 0.5292\n",
            "\u001b[36m(ClientAppActor pid=50957)\u001b[0m LOG: Initializing client with CID=36\n",
            "\u001b[36m(ClientAppActor pid=50957)\u001b[0m 36-LOG: Data partition assigned to client 36 -> Non-IID\n",
            "\u001b[36m(ClientAppActor pid=50957)\u001b[0m 36-LOG: Model initialized for client 36\n",
            "\u001b[36m(ClientAppActor pid=50957)\u001b[0m 36-LOG: Dataloaders initialized for client 36\n",
            "\u001b[36m(ClientAppActor pid=50957)\u001b[0m 36-LOG: Starting local training round with FedProx (mu=0.1)\n",
            "\u001b[36m(ClientAppActor pid=50957)\u001b[0m 36-LOG: Starting epoch 1/4\n",
            "\u001b[36m(ClientAppActor pid=50957)\u001b[0m 36-LOG: Starting epoch 2/4\n",
            "\u001b[36m(ClientAppActor pid=50957)\u001b[0m 36-LOG: Starting epoch 3/4\n",
            "\u001b[36m(ClientAppActor pid=50957)\u001b[0m 36-LOG: Starting epoch 4/4\n",
            "\u001b[36m(ClientAppActor pid=50957)\u001b[0m 36-LOG: Completed local training - Loss: 29.1367 | Accuracy: 0.4581\n",
            "\u001b[36m(ClientAppActor pid=50957)\u001b[0m LOG: Initializing client with CID=38\n",
            "\u001b[36m(ClientAppActor pid=50957)\u001b[0m 38-LOG: Data partition assigned to client 38 -> Non-IID\n",
            "\u001b[36m(ClientAppActor pid=50957)\u001b[0m 38-LOG: Model initialized for client 38\n",
            "\u001b[36m(ClientAppActor pid=50957)\u001b[0m 38-LOG: Dataloaders initialized for client 38\n",
            "\u001b[36m(ClientAppActor pid=50957)\u001b[0m 38-LOG: Starting local training round with FedProx (mu=0.1)\n",
            "\u001b[36m(ClientAppActor pid=50957)\u001b[0m 38-LOG: Starting epoch 1/4\n",
            "\u001b[36m(ClientAppActor pid=50957)\u001b[0m 38-LOG: Starting epoch 2/4\n",
            "\u001b[36m(ClientAppActor pid=50957)\u001b[0m 38-LOG: Starting epoch 3/4\n",
            "\u001b[36m(ClientAppActor pid=50957)\u001b[0m 38-LOG: Starting epoch 4/4\n",
            "\u001b[36m(ClientAppActor pid=50957)\u001b[0m 38-LOG: Completed local training - Loss: 25.4503 | Accuracy: 0.4948\n"
          ]
        },
        {
          "output_type": "stream",
          "name": "stderr",
          "text": [
            "\u001b[92mINFO \u001b[0m:      aggregate_fit: received 10 results and 0 failures\n",
            "\u001b[93mWARNING \u001b[0m:   No fit_metrics_aggregation_fn provided\n",
            "\u001b[92mINFO \u001b[0m:      configure_evaluate: strategy sampled 3 clients (out of 100)\n"
          ]
        },
        {
          "output_type": "stream",
          "name": "stdout",
          "text": [
            "\u001b[36m(ClientAppActor pid=50957)\u001b[0m LOG: Initializing client with CID=14\n",
            "\u001b[36m(ClientAppActor pid=50957)\u001b[0m 14-LOG: Data partition assigned to client 14 -> Non-IID\n",
            "\u001b[36m(ClientAppActor pid=50957)\u001b[0m 14-LOG: Model initialized for client 14\n",
            "\u001b[36m(ClientAppActor pid=50957)\u001b[0m 14-LOG: Dataloaders initialized for client 14\n",
            "\u001b[36m(ClientAppActor pid=50957)\u001b[0m 14-LOG: Starting evaluation\n",
            "\u001b[36m(ClientAppActor pid=50957)\u001b[0m 14-LOG: Evaluation completed - Val Loss: 10.1311 | Val Accuracy: 0.3090\n",
            "\u001b[36m(ClientAppActor pid=50957)\u001b[0m LOG: Initializing client with CID=20\n",
            "\u001b[36m(ClientAppActor pid=50957)\u001b[0m 20-LOG: Data partition assigned to client 20 -> Non-IID\n",
            "\u001b[36m(ClientAppActor pid=50957)\u001b[0m 20-LOG: Model initialized for client 20\n",
            "\u001b[36m(ClientAppActor pid=50957)\u001b[0m 20-LOG: Dataloaders initialized for client 20\n",
            "\u001b[36m(ClientAppActor pid=50957)\u001b[0m 20-LOG: Starting evaluation\n",
            "\u001b[36m(ClientAppActor pid=50957)\u001b[0m 20-LOG: Evaluation completed - Val Loss: 10.1311 | Val Accuracy: 0.3090\n",
            "\u001b[36m(ClientAppActor pid=50957)\u001b[0m LOG: Initializing client with CID=57\n",
            "\u001b[36m(ClientAppActor pid=50957)\u001b[0m 57-LOG: Data partition assigned to client 57 -> Non-IID\n",
            "\u001b[36m(ClientAppActor pid=50957)\u001b[0m 57-LOG: Model initialized for client 57\n",
            "\u001b[36m(ClientAppActor pid=50957)\u001b[0m 57-LOG: Dataloaders initialized for client 57\n",
            "\u001b[36m(ClientAppActor pid=50957)\u001b[0m 57-LOG: Starting evaluation\n"
          ]
        },
        {
          "output_type": "error",
          "ename": "KeyboardInterrupt",
          "evalue": "",
          "traceback": [
            "\u001b[0;31m---------------------------------------------------------------------------\u001b[0m",
            "\u001b[0;31mKeyboardInterrupt\u001b[0m                         Traceback (most recent call last)",
            "\u001b[0;32m/usr/local/lib/python3.11/dist-packages/flwr/server/superlink/fleet/vce/vce_api.py\u001b[0m in \u001b[0;36mrun_api\u001b[0;34m(app_fn, backend_fn, nodes_mapping, state_factory, node_info_stores, f_stop)\u001b[0m\n\u001b[1;32m    213\u001b[0m \u001b[0;34m\u001b[0m\u001b[0m\n\u001b[0;32m--> 214\u001b[0;31m         \u001b[0;32mwith\u001b[0m \u001b[0mThreadPoolExecutor\u001b[0m\u001b[0;34m(\u001b[0m\u001b[0;34m)\u001b[0m \u001b[0;32mas\u001b[0m \u001b[0mexecutor\u001b[0m\u001b[0;34m:\u001b[0m\u001b[0;34m\u001b[0m\u001b[0;34m\u001b[0m\u001b[0m\n\u001b[0m\u001b[1;32m    215\u001b[0m             _ = [\n",
            "\u001b[0;32m/usr/lib/python3.11/concurrent/futures/_base.py\u001b[0m in \u001b[0;36m__exit__\u001b[0;34m(self, exc_type, exc_val, exc_tb)\u001b[0m\n\u001b[1;32m    646\u001b[0m     \u001b[0;32mdef\u001b[0m \u001b[0m__exit__\u001b[0m\u001b[0;34m(\u001b[0m\u001b[0mself\u001b[0m\u001b[0;34m,\u001b[0m \u001b[0mexc_type\u001b[0m\u001b[0;34m,\u001b[0m \u001b[0mexc_val\u001b[0m\u001b[0;34m,\u001b[0m \u001b[0mexc_tb\u001b[0m\u001b[0;34m)\u001b[0m\u001b[0;34m:\u001b[0m\u001b[0;34m\u001b[0m\u001b[0;34m\u001b[0m\u001b[0m\n\u001b[0;32m--> 647\u001b[0;31m         \u001b[0mself\u001b[0m\u001b[0;34m.\u001b[0m\u001b[0mshutdown\u001b[0m\u001b[0;34m(\u001b[0m\u001b[0mwait\u001b[0m\u001b[0;34m=\u001b[0m\u001b[0;32mTrue\u001b[0m\u001b[0;34m)\u001b[0m\u001b[0;34m\u001b[0m\u001b[0;34m\u001b[0m\u001b[0m\n\u001b[0m\u001b[1;32m    648\u001b[0m         \u001b[0;32mreturn\u001b[0m \u001b[0;32mFalse\u001b[0m\u001b[0;34m\u001b[0m\u001b[0;34m\u001b[0m\u001b[0m\n",
            "\u001b[0;32m/usr/lib/python3.11/concurrent/futures/thread.py\u001b[0m in \u001b[0;36mshutdown\u001b[0;34m(self, wait, cancel_futures)\u001b[0m\n\u001b[1;32m    234\u001b[0m             \u001b[0;32mfor\u001b[0m \u001b[0mt\u001b[0m \u001b[0;32min\u001b[0m \u001b[0mself\u001b[0m\u001b[0;34m.\u001b[0m\u001b[0m_threads\u001b[0m\u001b[0;34m:\u001b[0m\u001b[0;34m\u001b[0m\u001b[0;34m\u001b[0m\u001b[0m\n\u001b[0;32m--> 235\u001b[0;31m                 \u001b[0mt\u001b[0m\u001b[0;34m.\u001b[0m\u001b[0mjoin\u001b[0m\u001b[0;34m(\u001b[0m\u001b[0;34m)\u001b[0m\u001b[0;34m\u001b[0m\u001b[0;34m\u001b[0m\u001b[0m\n\u001b[0m\u001b[1;32m    236\u001b[0m     \u001b[0mshutdown\u001b[0m\u001b[0;34m.\u001b[0m\u001b[0m__doc__\u001b[0m \u001b[0;34m=\u001b[0m \u001b[0m_base\u001b[0m\u001b[0;34m.\u001b[0m\u001b[0mExecutor\u001b[0m\u001b[0;34m.\u001b[0m\u001b[0mshutdown\u001b[0m\u001b[0;34m.\u001b[0m\u001b[0m__doc__\u001b[0m\u001b[0;34m\u001b[0m\u001b[0;34m\u001b[0m\u001b[0m\n",
            "\u001b[0;32m/usr/lib/python3.11/threading.py\u001b[0m in \u001b[0;36mjoin\u001b[0;34m(self, timeout)\u001b[0m\n\u001b[1;32m   1118\u001b[0m         \u001b[0;32mif\u001b[0m \u001b[0mtimeout\u001b[0m \u001b[0;32mis\u001b[0m \u001b[0;32mNone\u001b[0m\u001b[0;34m:\u001b[0m\u001b[0;34m\u001b[0m\u001b[0;34m\u001b[0m\u001b[0m\n\u001b[0;32m-> 1119\u001b[0;31m             \u001b[0mself\u001b[0m\u001b[0;34m.\u001b[0m\u001b[0m_wait_for_tstate_lock\u001b[0m\u001b[0;34m(\u001b[0m\u001b[0;34m)\u001b[0m\u001b[0;34m\u001b[0m\u001b[0;34m\u001b[0m\u001b[0m\n\u001b[0m\u001b[1;32m   1120\u001b[0m         \u001b[0;32melse\u001b[0m\u001b[0;34m:\u001b[0m\u001b[0;34m\u001b[0m\u001b[0;34m\u001b[0m\u001b[0m\n",
            "\u001b[0;32m/usr/lib/python3.11/threading.py\u001b[0m in \u001b[0;36m_wait_for_tstate_lock\u001b[0;34m(self, block, timeout)\u001b[0m\n\u001b[1;32m   1138\u001b[0m         \u001b[0;32mtry\u001b[0m\u001b[0;34m:\u001b[0m\u001b[0;34m\u001b[0m\u001b[0;34m\u001b[0m\u001b[0m\n\u001b[0;32m-> 1139\u001b[0;31m             \u001b[0;32mif\u001b[0m \u001b[0mlock\u001b[0m\u001b[0;34m.\u001b[0m\u001b[0macquire\u001b[0m\u001b[0;34m(\u001b[0m\u001b[0mblock\u001b[0m\u001b[0;34m,\u001b[0m \u001b[0mtimeout\u001b[0m\u001b[0;34m)\u001b[0m\u001b[0;34m:\u001b[0m\u001b[0;34m\u001b[0m\u001b[0;34m\u001b[0m\u001b[0m\n\u001b[0m\u001b[1;32m   1140\u001b[0m                 \u001b[0mlock\u001b[0m\u001b[0;34m.\u001b[0m\u001b[0mrelease\u001b[0m\u001b[0;34m(\u001b[0m\u001b[0;34m)\u001b[0m\u001b[0;34m\u001b[0m\u001b[0;34m\u001b[0m\u001b[0m\n",
            "\u001b[0;31mKeyboardInterrupt\u001b[0m: ",
            "\nDuring handling of the above exception, another exception occurred:\n",
            "\u001b[0;31mKeyboardInterrupt\u001b[0m                         Traceback (most recent call last)",
            "\u001b[0;32m/usr/local/lib/python3.11/dist-packages/flwr/simulation/run_simulation.py\u001b[0m in \u001b[0;36m_main_loop\u001b[0;34m(num_supernodes, backend_name, backend_config_stream, app_dir, is_app, enable_tf_gpu_growth, run, exit_event, flwr_dir, client_app, client_app_attr, server_app, server_app_attr, server_app_run_config)\u001b[0m\n\u001b[1;32m    369\u001b[0m         \u001b[0;31m# Start Simulation Engine\u001b[0m\u001b[0;34m\u001b[0m\u001b[0;34m\u001b[0m\u001b[0m\n\u001b[0;32m--> 370\u001b[0;31m         vce.start_vce(\n\u001b[0m\u001b[1;32m    371\u001b[0m             \u001b[0mnum_supernodes\u001b[0m\u001b[0;34m=\u001b[0m\u001b[0mnum_supernodes\u001b[0m\u001b[0;34m,\u001b[0m\u001b[0;34m\u001b[0m\u001b[0;34m\u001b[0m\u001b[0m\n",
            "\u001b[0;32m/usr/local/lib/python3.11/dist-packages/flwr/server/superlink/fleet/vce/vce_api.py\u001b[0m in \u001b[0;36mstart_vce\u001b[0;34m(backend_name, backend_config_json_stream, app_dir, is_app, f_stop, run, flwr_dir, client_app, client_app_attr, num_supernodes, state_factory, existing_nodes_mapping)\u001b[0m\n\u001b[1;32m    367\u001b[0m         \u001b[0;31m# Run main simulation loop\u001b[0m\u001b[0;34m\u001b[0m\u001b[0;34m\u001b[0m\u001b[0m\n\u001b[0;32m--> 368\u001b[0;31m         run_api(\n\u001b[0m\u001b[1;32m    369\u001b[0m             \u001b[0mapp_fn\u001b[0m\u001b[0;34m,\u001b[0m\u001b[0;34m\u001b[0m\u001b[0;34m\u001b[0m\u001b[0m\n",
            "\u001b[0;32m/usr/local/lib/python3.11/dist-packages/flwr/server/superlink/fleet/vce/vce_api.py\u001b[0m in \u001b[0;36mrun_api\u001b[0;34m(app_fn, backend_fn, nodes_mapping, state_factory, node_info_stores, f_stop)\u001b[0m\n\u001b[1;32m    244\u001b[0m         \u001b[0;31m# Terminate backend\u001b[0m\u001b[0;34m\u001b[0m\u001b[0;34m\u001b[0m\u001b[0m\n\u001b[0;32m--> 245\u001b[0;31m         \u001b[0mbackend\u001b[0m\u001b[0;34m.\u001b[0m\u001b[0mterminate\u001b[0m\u001b[0;34m(\u001b[0m\u001b[0;34m)\u001b[0m\u001b[0;34m\u001b[0m\u001b[0;34m\u001b[0m\u001b[0m\n\u001b[0m\u001b[1;32m    246\u001b[0m \u001b[0;34m\u001b[0m\u001b[0m\n",
            "\u001b[0;32m/usr/local/lib/python3.11/dist-packages/flwr/server/superlink/fleet/vce/backend/raybackend.py\u001b[0m in \u001b[0;36mterminate\u001b[0;34m(self)\u001b[0m\n\u001b[1;32m    192\u001b[0m             \u001b[0mself\u001b[0m\u001b[0;34m.\u001b[0m\u001b[0mpool\u001b[0m\u001b[0;34m.\u001b[0m\u001b[0mterminate_all_actors\u001b[0m\u001b[0;34m(\u001b[0m\u001b[0;34m)\u001b[0m\u001b[0;34m\u001b[0m\u001b[0;34m\u001b[0m\u001b[0m\n\u001b[0;32m--> 193\u001b[0;31m         \u001b[0mray\u001b[0m\u001b[0;34m.\u001b[0m\u001b[0mshutdown\u001b[0m\u001b[0;34m(\u001b[0m\u001b[0;34m)\u001b[0m\u001b[0;34m\u001b[0m\u001b[0;34m\u001b[0m\u001b[0m\n\u001b[0m\u001b[1;32m    194\u001b[0m         \u001b[0mlog\u001b[0m\u001b[0;34m(\u001b[0m\u001b[0mDEBUG\u001b[0m\u001b[0;34m,\u001b[0m \u001b[0;34m\"Terminated %s\"\u001b[0m\u001b[0;34m,\u001b[0m \u001b[0mself\u001b[0m\u001b[0;34m.\u001b[0m\u001b[0m__class__\u001b[0m\u001b[0;34m.\u001b[0m\u001b[0m__name__\u001b[0m\u001b[0;34m)\u001b[0m\u001b[0;34m\u001b[0m\u001b[0;34m\u001b[0m\u001b[0m\n",
            "\u001b[0;32m/usr/local/lib/python3.11/dist-packages/ray/_private/client_mode_hook.py\u001b[0m in \u001b[0;36mwrapper\u001b[0;34m(*args, **kwargs)\u001b[0m\n\u001b[1;32m    102\u001b[0m                 \u001b[0;32mreturn\u001b[0m \u001b[0mgetattr\u001b[0m\u001b[0;34m(\u001b[0m\u001b[0mray\u001b[0m\u001b[0;34m,\u001b[0m \u001b[0mfunc\u001b[0m\u001b[0;34m.\u001b[0m\u001b[0m__name__\u001b[0m\u001b[0;34m)\u001b[0m\u001b[0;34m(\u001b[0m\u001b[0;34m*\u001b[0m\u001b[0margs\u001b[0m\u001b[0;34m,\u001b[0m \u001b[0;34m**\u001b[0m\u001b[0mkwargs\u001b[0m\u001b[0;34m)\u001b[0m\u001b[0;34m\u001b[0m\u001b[0;34m\u001b[0m\u001b[0m\n\u001b[0;32m--> 103\u001b[0;31m         \u001b[0;32mreturn\u001b[0m \u001b[0mfunc\u001b[0m\u001b[0;34m(\u001b[0m\u001b[0;34m*\u001b[0m\u001b[0margs\u001b[0m\u001b[0;34m,\u001b[0m \u001b[0;34m**\u001b[0m\u001b[0mkwargs\u001b[0m\u001b[0;34m)\u001b[0m\u001b[0;34m\u001b[0m\u001b[0;34m\u001b[0m\u001b[0m\n\u001b[0m\u001b[1;32m    104\u001b[0m \u001b[0;34m\u001b[0m\u001b[0m\n",
            "\u001b[0;32m/usr/local/lib/python3.11/dist-packages/ray/_private/worker.py\u001b[0m in \u001b[0;36mshutdown\u001b[0;34m(_exiting_interpreter)\u001b[0m\n\u001b[1;32m   1859\u001b[0m             \u001b[0m_global_node\u001b[0m\u001b[0;34m.\u001b[0m\u001b[0mdestroy_external_storage\u001b[0m\u001b[0;34m(\u001b[0m\u001b[0;34m)\u001b[0m\u001b[0;34m\u001b[0m\u001b[0;34m\u001b[0m\u001b[0m\n\u001b[0;32m-> 1860\u001b[0;31m         \u001b[0m_global_node\u001b[0m\u001b[0;34m.\u001b[0m\u001b[0mkill_all_processes\u001b[0m\u001b[0;34m(\u001b[0m\u001b[0mcheck_alive\u001b[0m\u001b[0;34m=\u001b[0m\u001b[0;32mFalse\u001b[0m\u001b[0;34m,\u001b[0m \u001b[0mallow_graceful\u001b[0m\u001b[0;34m=\u001b[0m\u001b[0;32mTrue\u001b[0m\u001b[0;34m)\u001b[0m\u001b[0;34m\u001b[0m\u001b[0;34m\u001b[0m\u001b[0m\n\u001b[0m\u001b[1;32m   1861\u001b[0m         \u001b[0m_global_node\u001b[0m \u001b[0;34m=\u001b[0m \u001b[0;32mNone\u001b[0m\u001b[0;34m\u001b[0m\u001b[0;34m\u001b[0m\u001b[0m\n",
            "\u001b[0;32m/usr/local/lib/python3.11/dist-packages/ray/_private/node.py\u001b[0m in \u001b[0;36mkill_all_processes\u001b[0;34m(self, check_alive, allow_graceful, wait)\u001b[0m\n\u001b[1;32m   1621\u001b[0m         \u001b[0;32mif\u001b[0m \u001b[0mray_constants\u001b[0m\u001b[0;34m.\u001b[0m\u001b[0mPROCESS_TYPE_RAYLET\u001b[0m \u001b[0;32min\u001b[0m \u001b[0mself\u001b[0m\u001b[0;34m.\u001b[0m\u001b[0mall_processes\u001b[0m\u001b[0;34m:\u001b[0m\u001b[0;34m\u001b[0m\u001b[0;34m\u001b[0m\u001b[0m\n\u001b[0;32m-> 1622\u001b[0;31m             self._kill_process_type(\n\u001b[0m\u001b[1;32m   1623\u001b[0m                 \u001b[0mray_constants\u001b[0m\u001b[0;34m.\u001b[0m\u001b[0mPROCESS_TYPE_RAYLET\u001b[0m\u001b[0;34m,\u001b[0m\u001b[0;34m\u001b[0m\u001b[0;34m\u001b[0m\u001b[0m\n",
            "\u001b[0;32m/usr/local/lib/python3.11/dist-packages/ray/_private/node.py\u001b[0m in \u001b[0;36m_kill_process_type\u001b[0;34m(self, process_type, allow_graceful, check_alive, wait)\u001b[0m\n\u001b[1;32m   1442\u001b[0m         \u001b[0;32mwith\u001b[0m \u001b[0mself\u001b[0m\u001b[0;34m.\u001b[0m\u001b[0mremoval_lock\u001b[0m\u001b[0;34m:\u001b[0m\u001b[0;34m\u001b[0m\u001b[0;34m\u001b[0m\u001b[0m\n\u001b[0;32m-> 1443\u001b[0;31m             self._kill_process_impl(\n\u001b[0m\u001b[1;32m   1444\u001b[0m                 \u001b[0mprocess_type\u001b[0m\u001b[0;34m,\u001b[0m\u001b[0;34m\u001b[0m\u001b[0;34m\u001b[0m\u001b[0m\n",
            "\u001b[0;32m/usr/local/lib/python3.11/dist-packages/ray/_private/node.py\u001b[0m in \u001b[0;36m_kill_process_impl\u001b[0;34m(self, process_type, allow_graceful, check_alive, wait)\u001b[0m\n\u001b[1;32m   1498\u001b[0m                 \u001b[0;32mtry\u001b[0m\u001b[0;34m:\u001b[0m\u001b[0;34m\u001b[0m\u001b[0;34m\u001b[0m\u001b[0m\n\u001b[0;32m-> 1499\u001b[0;31m                     \u001b[0mprocess\u001b[0m\u001b[0;34m.\u001b[0m\u001b[0mwait\u001b[0m\u001b[0;34m(\u001b[0m\u001b[0mtimeout_seconds\u001b[0m\u001b[0;34m)\u001b[0m\u001b[0;34m\u001b[0m\u001b[0;34m\u001b[0m\u001b[0m\n\u001b[0m\u001b[1;32m   1500\u001b[0m                 \u001b[0;32mexcept\u001b[0m \u001b[0msubprocess\u001b[0m\u001b[0;34m.\u001b[0m\u001b[0mTimeoutExpired\u001b[0m\u001b[0;34m:\u001b[0m\u001b[0;34m\u001b[0m\u001b[0;34m\u001b[0m\u001b[0m\n",
            "\u001b[0;32m/usr/lib/python3.11/subprocess.py\u001b[0m in \u001b[0;36mwait\u001b[0;34m(self, timeout)\u001b[0m\n\u001b[1;32m   1263\u001b[0m         \u001b[0;32mtry\u001b[0m\u001b[0;34m:\u001b[0m\u001b[0;34m\u001b[0m\u001b[0;34m\u001b[0m\u001b[0m\n\u001b[0;32m-> 1264\u001b[0;31m             \u001b[0;32mreturn\u001b[0m \u001b[0mself\u001b[0m\u001b[0;34m.\u001b[0m\u001b[0m_wait\u001b[0m\u001b[0;34m(\u001b[0m\u001b[0mtimeout\u001b[0m\u001b[0;34m=\u001b[0m\u001b[0mtimeout\u001b[0m\u001b[0;34m)\u001b[0m\u001b[0;34m\u001b[0m\u001b[0;34m\u001b[0m\u001b[0m\n\u001b[0m\u001b[1;32m   1265\u001b[0m         \u001b[0;32mexcept\u001b[0m \u001b[0mKeyboardInterrupt\u001b[0m\u001b[0;34m:\u001b[0m\u001b[0;34m\u001b[0m\u001b[0;34m\u001b[0m\u001b[0m\n",
            "\u001b[0;32m/usr/lib/python3.11/subprocess.py\u001b[0m in \u001b[0;36m_wait\u001b[0;34m(self, timeout)\u001b[0m\n\u001b[1;32m   2046\u001b[0m                     \u001b[0mdelay\u001b[0m \u001b[0;34m=\u001b[0m \u001b[0mmin\u001b[0m\u001b[0;34m(\u001b[0m\u001b[0mdelay\u001b[0m \u001b[0;34m*\u001b[0m \u001b[0;36m2\u001b[0m\u001b[0;34m,\u001b[0m \u001b[0mremaining\u001b[0m\u001b[0;34m,\u001b[0m \u001b[0;36m.05\u001b[0m\u001b[0;34m)\u001b[0m\u001b[0;34m\u001b[0m\u001b[0;34m\u001b[0m\u001b[0m\n\u001b[0;32m-> 2047\u001b[0;31m                     \u001b[0mtime\u001b[0m\u001b[0;34m.\u001b[0m\u001b[0msleep\u001b[0m\u001b[0;34m(\u001b[0m\u001b[0mdelay\u001b[0m\u001b[0;34m)\u001b[0m\u001b[0;34m\u001b[0m\u001b[0;34m\u001b[0m\u001b[0m\n\u001b[0m\u001b[1;32m   2048\u001b[0m             \u001b[0;32melse\u001b[0m\u001b[0;34m:\u001b[0m\u001b[0;34m\u001b[0m\u001b[0;34m\u001b[0m\u001b[0m\n",
            "\u001b[0;31mKeyboardInterrupt\u001b[0m: ",
            "\nDuring handling of the above exception, another exception occurred:\n",
            "\u001b[0;31mKeyboardInterrupt\u001b[0m                         Traceback (most recent call last)",
            "\u001b[0;32m<ipython-input-12-0b11303766f6>\u001b[0m in \u001b[0;36m<cell line: 0>\u001b[0;34m()\u001b[0m\n\u001b[0;32m----> 1\u001b[0;31m run_simulation(\n\u001b[0m\u001b[1;32m      2\u001b[0m     \u001b[0mserver_app\u001b[0m\u001b[0;34m=\u001b[0m\u001b[0mserver_app\u001b[0m\u001b[0;34m,\u001b[0m\u001b[0;34m\u001b[0m\u001b[0;34m\u001b[0m\u001b[0m\n\u001b[1;32m      3\u001b[0m     \u001b[0mclient_app\u001b[0m\u001b[0;34m=\u001b[0m\u001b[0mclient_app\u001b[0m\u001b[0;34m,\u001b[0m\u001b[0;34m\u001b[0m\u001b[0;34m\u001b[0m\u001b[0m\n\u001b[1;32m      4\u001b[0m     \u001b[0mnum_supernodes\u001b[0m\u001b[0;34m=\u001b[0m\u001b[0mNUM_CLIENTS\u001b[0m\u001b[0;34m,\u001b[0m\u001b[0;34m\u001b[0m\u001b[0;34m\u001b[0m\u001b[0m\n\u001b[1;32m      5\u001b[0m     \u001b[0mbackend_config\u001b[0m\u001b[0;34m=\u001b[0m\u001b[0mbackend_config\u001b[0m\u001b[0;34m\u001b[0m\u001b[0;34m\u001b[0m\u001b[0m\n",
            "\u001b[0;32m/usr/local/lib/python3.11/dist-packages/flwr/simulation/run_simulation.py\u001b[0m in \u001b[0;36mrun_simulation\u001b[0;34m(server_app, client_app, num_supernodes, backend_name, backend_config, enable_tf_gpu_growth, verbose_logging)\u001b[0m\n\u001b[1;32m    209\u001b[0m         )\n\u001b[1;32m    210\u001b[0m \u001b[0;34m\u001b[0m\u001b[0m\n\u001b[0;32m--> 211\u001b[0;31m     _ = _run_simulation(\n\u001b[0m\u001b[1;32m    212\u001b[0m         \u001b[0mnum_supernodes\u001b[0m\u001b[0;34m=\u001b[0m\u001b[0mnum_supernodes\u001b[0m\u001b[0;34m,\u001b[0m\u001b[0;34m\u001b[0m\u001b[0;34m\u001b[0m\u001b[0m\n\u001b[1;32m    213\u001b[0m         \u001b[0mclient_app\u001b[0m\u001b[0;34m=\u001b[0m\u001b[0mclient_app\u001b[0m\u001b[0;34m,\u001b[0m\u001b[0;34m\u001b[0m\u001b[0;34m\u001b[0m\u001b[0m\n",
            "\u001b[0;32m/usr/local/lib/python3.11/dist-packages/flwr/simulation/run_simulation.py\u001b[0m in \u001b[0;36m_run_simulation\u001b[0;34m(num_supernodes, exit_event, client_app, server_app, backend_name, backend_config, client_app_attr, server_app_attr, server_app_run_config, app_dir, flwr_dir, run, enable_tf_gpu_growth, verbose_logging, is_app)\u001b[0m\n\u001b[1;32m    508\u001b[0m             \u001b[0mlogger\u001b[0m \u001b[0;34m=\u001b[0m \u001b[0mset_logger_propagation\u001b[0m\u001b[0;34m(\u001b[0m\u001b[0mlogger\u001b[0m\u001b[0;34m,\u001b[0m \u001b[0;32mFalse\u001b[0m\u001b[0;34m)\u001b[0m\u001b[0;34m\u001b[0m\u001b[0;34m\u001b[0m\u001b[0m\n\u001b[1;32m    509\u001b[0m \u001b[0;34m\u001b[0m\u001b[0m\n\u001b[0;32m--> 510\u001b[0;31m         \u001b[0mupdated_context\u001b[0m \u001b[0;34m=\u001b[0m \u001b[0m_main_loop\u001b[0m\u001b[0;34m(\u001b[0m\u001b[0;34m*\u001b[0m\u001b[0margs\u001b[0m\u001b[0;34m)\u001b[0m\u001b[0;34m\u001b[0m\u001b[0;34m\u001b[0m\u001b[0m\n\u001b[0m\u001b[1;32m    511\u001b[0m     \u001b[0;32mreturn\u001b[0m \u001b[0mupdated_context\u001b[0m\u001b[0;34m\u001b[0m\u001b[0;34m\u001b[0m\u001b[0m\n\u001b[1;32m    512\u001b[0m \u001b[0;34m\u001b[0m\u001b[0m\n",
            "\u001b[0;32m/usr/local/lib/python3.11/dist-packages/flwr/simulation/run_simulation.py\u001b[0m in \u001b[0;36m_main_loop\u001b[0;34m(num_supernodes, backend_name, backend_config_stream, app_dir, is_app, enable_tf_gpu_growth, run, exit_event, flwr_dir, client_app, client_app_attr, server_app, server_app_attr, server_app_run_config)\u001b[0m\n\u001b[1;32m    404\u001b[0m         )\n\u001b[1;32m    405\u001b[0m         \u001b[0;32mif\u001b[0m \u001b[0mserverapp_th\u001b[0m\u001b[0;34m:\u001b[0m\u001b[0;34m\u001b[0m\u001b[0;34m\u001b[0m\u001b[0m\n\u001b[0;32m--> 406\u001b[0;31m             \u001b[0mserverapp_th\u001b[0m\u001b[0;34m.\u001b[0m\u001b[0mjoin\u001b[0m\u001b[0;34m(\u001b[0m\u001b[0;34m)\u001b[0m\u001b[0;34m\u001b[0m\u001b[0;34m\u001b[0m\u001b[0m\n\u001b[0m\u001b[1;32m    407\u001b[0m             \u001b[0;32mif\u001b[0m \u001b[0mserver_app_thread_has_exception\u001b[0m\u001b[0;34m.\u001b[0m\u001b[0mis_set\u001b[0m\u001b[0;34m(\u001b[0m\u001b[0;34m)\u001b[0m\u001b[0;34m:\u001b[0m\u001b[0;34m\u001b[0m\u001b[0;34m\u001b[0m\u001b[0m\n\u001b[1;32m    408\u001b[0m                 \u001b[0;32mraise\u001b[0m \u001b[0mRuntimeError\u001b[0m\u001b[0;34m(\u001b[0m\u001b[0;34m\"Exception in ServerApp thread\"\u001b[0m\u001b[0;34m)\u001b[0m\u001b[0;34m\u001b[0m\u001b[0;34m\u001b[0m\u001b[0m\n",
            "\u001b[0;32m/usr/lib/python3.11/threading.py\u001b[0m in \u001b[0;36mjoin\u001b[0;34m(self, timeout)\u001b[0m\n\u001b[1;32m   1117\u001b[0m \u001b[0;34m\u001b[0m\u001b[0m\n\u001b[1;32m   1118\u001b[0m         \u001b[0;32mif\u001b[0m \u001b[0mtimeout\u001b[0m \u001b[0;32mis\u001b[0m \u001b[0;32mNone\u001b[0m\u001b[0;34m:\u001b[0m\u001b[0;34m\u001b[0m\u001b[0;34m\u001b[0m\u001b[0m\n\u001b[0;32m-> 1119\u001b[0;31m             \u001b[0mself\u001b[0m\u001b[0;34m.\u001b[0m\u001b[0m_wait_for_tstate_lock\u001b[0m\u001b[0;34m(\u001b[0m\u001b[0;34m)\u001b[0m\u001b[0;34m\u001b[0m\u001b[0;34m\u001b[0m\u001b[0m\n\u001b[0m\u001b[1;32m   1120\u001b[0m         \u001b[0;32melse\u001b[0m\u001b[0;34m:\u001b[0m\u001b[0;34m\u001b[0m\u001b[0;34m\u001b[0m\u001b[0m\n\u001b[1;32m   1121\u001b[0m             \u001b[0;31m# the behavior of a negative timeout isn't documented, but\u001b[0m\u001b[0;34m\u001b[0m\u001b[0;34m\u001b[0m\u001b[0m\n",
            "\u001b[0;32m/usr/lib/python3.11/threading.py\u001b[0m in \u001b[0;36m_wait_for_tstate_lock\u001b[0;34m(self, block, timeout)\u001b[0m\n\u001b[1;32m   1137\u001b[0m \u001b[0;34m\u001b[0m\u001b[0m\n\u001b[1;32m   1138\u001b[0m         \u001b[0;32mtry\u001b[0m\u001b[0;34m:\u001b[0m\u001b[0;34m\u001b[0m\u001b[0;34m\u001b[0m\u001b[0m\n\u001b[0;32m-> 1139\u001b[0;31m             \u001b[0;32mif\u001b[0m \u001b[0mlock\u001b[0m\u001b[0;34m.\u001b[0m\u001b[0macquire\u001b[0m\u001b[0;34m(\u001b[0m\u001b[0mblock\u001b[0m\u001b[0;34m,\u001b[0m \u001b[0mtimeout\u001b[0m\u001b[0;34m)\u001b[0m\u001b[0;34m:\u001b[0m\u001b[0;34m\u001b[0m\u001b[0;34m\u001b[0m\u001b[0m\n\u001b[0m\u001b[1;32m   1140\u001b[0m                 \u001b[0mlock\u001b[0m\u001b[0;34m.\u001b[0m\u001b[0mrelease\u001b[0m\u001b[0;34m(\u001b[0m\u001b[0;34m)\u001b[0m\u001b[0;34m\u001b[0m\u001b[0;34m\u001b[0m\u001b[0m\n\u001b[1;32m   1141\u001b[0m                 \u001b[0mself\u001b[0m\u001b[0;34m.\u001b[0m\u001b[0m_stop\u001b[0m\u001b[0;34m(\u001b[0m\u001b[0;34m)\u001b[0m\u001b[0;34m\u001b[0m\u001b[0;34m\u001b[0m\u001b[0m\n",
            "\u001b[0;31mKeyboardInterrupt\u001b[0m: "
          ]
        }
      ]
    },
    {
      "cell_type": "code",
      "source": [
        "final_parameters = strategy.latest_parameters\n",
        "\n",
        "# Convert Flower parameters to list of numpy arrays\n",
        "ndarrays = parameters_to_ndarrays(final_parameters)\n",
        "\n",
        "# Load them into a PyTorch model\n",
        "iid_model = create_dino_vit_s16_for_cifar100()\n",
        "iid_model.to(device)\n",
        "state_dict = OrderedDict(\n",
        "    (key, torch.tensor(val)) for key, val in zip(iid_model.state_dict().keys(), ndarrays)\n",
        ")\n",
        "iid_model.load_state_dict(state_dict)\n",
        "\n",
        "correct, total, loss_total = 0, 0, 0.0\n",
        "criterion = torch.nn.CrossEntropyLoss()\n",
        "\n",
        "with torch.no_grad():\n",
        "    for images, labels in testloader:\n",
        "        images, labels = images.to(device), labels.to(device)\n",
        "        outputs = iid_model(images)\n",
        "        loss = criterion(outputs, labels)\n",
        "\n",
        "        loss_total += loss.item() * labels.size(0)\n",
        "        _, predicted = torch.max(outputs, 1)\n",
        "        total += labels.size(0)\n",
        "        correct += (predicted == labels).sum().item()\n",
        "\n",
        "test_loss = loss_total / total\n",
        "test_accuracy = correct / total\n",
        "\n",
        "logger.log_global_metrics({\n",
        "    \"test_loss\": test_loss,\n",
        "    \"test_accuracy\": test_accuracy\n",
        "}, round_number=NUM_ROUNDS)\n",
        "\n",
        "model_save_path = \"final_federated_model.pth\"\n",
        "torch.save(iid_model.state_dict(), model_save_path)\n",
        "\n",
        "logger.log_model(iid_model, path=model_save_path)\n",
        "\n",
        "logger.finish()\n",
        "\n",
        "print(f\"✅ Test Accuracy: {test_accuracy:.4f} | Test Loss: {test_loss:.4f}\")"
      ],
      "metadata": {
        "id": "LmlarjszyoTm"
      },
      "execution_count": null,
      "outputs": []
    },
    {
      "cell_type": "code",
      "source": [],
      "metadata": {
        "id": "iyXTpniJcQAX"
      },
      "execution_count": null,
      "outputs": []
    }
  ]
}