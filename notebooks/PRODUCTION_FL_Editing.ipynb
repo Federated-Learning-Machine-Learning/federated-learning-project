{
  "nbformat": 4,
  "nbformat_minor": 0,
  "metadata": {
    "colab": {
      "provenance": [],
      "gpuType": "T4"
    },
    "kernelspec": {
      "name": "python3",
      "display_name": "Python 3"
    },
    "language_info": {
      "name": "python"
    },
    "accelerator": "GPU"
  },
  "cells": [
    {
      "cell_type": "code",
      "source": [
        "!pip install -q flwr torch torchvision tensorboard\n",
        "!pip install -U \"flwr[simulation]\"\n",
        "!pip install timm"
      ],
      "metadata": {
        "colab": {
          "base_uri": "https://localhost:8080/"
        },
        "id": "fXzQZhEOm54h",
        "outputId": "652c8024-cfb5-4399-d4bd-70cc6238b1e0"
      },
      "execution_count": null,
      "outputs": [
        {
          "output_type": "stream",
          "name": "stdout",
          "text": [
            "\u001b[2K   \u001b[90m━━━━━━━━━━━━━━━━━━━━━━━━━━━━━━━━━━━━━━━━\u001b[0m \u001b[32m540.0/540.0 kB\u001b[0m \u001b[31m9.6 MB/s\u001b[0m eta \u001b[36m0:00:00\u001b[0m\n",
            "\u001b[2K   \u001b[90m━━━━━━━━━━━━━━━━━━━━━━━━━━━━━━━━━━━━━━━━\u001b[0m \u001b[32m363.4/363.4 MB\u001b[0m \u001b[31m4.2 MB/s\u001b[0m eta \u001b[36m0:00:00\u001b[0m\n",
            "\u001b[2K   \u001b[90m━━━━━━━━━━━━━━━━━━━━━━━━━━━━━━━━━━━━━━━━\u001b[0m \u001b[32m13.8/13.8 MB\u001b[0m \u001b[31m100.8 MB/s\u001b[0m eta \u001b[36m0:00:00\u001b[0m\n",
            "\u001b[2K   \u001b[90m━━━━━━━━━━━━━━━━━━━━━━━━━━━━━━━━━━━━━━━━\u001b[0m \u001b[32m24.6/24.6 MB\u001b[0m \u001b[31m94.4 MB/s\u001b[0m eta \u001b[36m0:00:00\u001b[0m\n",
            "\u001b[2K   \u001b[90m━━━━━━━━━━━━━━━━━━━━━━━━━━━━━━━━━━━━━━━━\u001b[0m \u001b[32m883.7/883.7 kB\u001b[0m \u001b[31m58.7 MB/s\u001b[0m eta \u001b[36m0:00:00\u001b[0m\n",
            "\u001b[2K   \u001b[90m━━━━━━━━━━━━━━━━━━━━━━━━━━━━━━━━━━━━━━━━\u001b[0m \u001b[32m664.8/664.8 MB\u001b[0m \u001b[31m2.9 MB/s\u001b[0m eta \u001b[36m0:00:00\u001b[0m\n",
            "\u001b[2K   \u001b[90m━━━━━━━━━━━━━━━━━━━━━━━━━━━━━━━━━━━━━━━━\u001b[0m \u001b[32m211.5/211.5 MB\u001b[0m \u001b[31m6.4 MB/s\u001b[0m eta \u001b[36m0:00:00\u001b[0m\n",
            "\u001b[2K   \u001b[90m━━━━━━━━━━━━━━━━━━━━━━━━━━━━━━━━━━━━━━━━\u001b[0m \u001b[32m56.3/56.3 MB\u001b[0m \u001b[31m11.9 MB/s\u001b[0m eta \u001b[36m0:00:00\u001b[0m\n",
            "\u001b[2K   \u001b[90m━━━━━━━━━━━━━━━━━━━━━━━━━━━━━━━━━━━━━━━━\u001b[0m \u001b[32m127.9/127.9 MB\u001b[0m \u001b[31m7.4 MB/s\u001b[0m eta \u001b[36m0:00:00\u001b[0m\n",
            "\u001b[2K   \u001b[90m━━━━━━━━━━━━━━━━━━━━━━━━━━━━━━━━━━━━━━━━\u001b[0m \u001b[32m207.5/207.5 MB\u001b[0m \u001b[31m6.4 MB/s\u001b[0m eta \u001b[36m0:00:00\u001b[0m\n",
            "\u001b[2K   \u001b[90m━━━━━━━━━━━━━━━━━━━━━━━━━━━━━━━━━━━━━━━━\u001b[0m \u001b[32m21.1/21.1 MB\u001b[0m \u001b[31m82.6 MB/s\u001b[0m eta \u001b[36m0:00:00\u001b[0m\n",
            "\u001b[2K   \u001b[90m━━━━━━━━━━━━━━━━━━━━━━━━━━━━━━━━━━━━━━━━\u001b[0m \u001b[32m4.2/4.2 MB\u001b[0m \u001b[31m85.3 MB/s\u001b[0m eta \u001b[36m0:00:00\u001b[0m\n",
            "\u001b[2K   \u001b[90m━━━━━━━━━━━━━━━━━━━━━━━━━━━━━━━━━━━━━━━━\u001b[0m \u001b[32m294.6/294.6 kB\u001b[0m \u001b[31m25.1 MB/s\u001b[0m eta \u001b[36m0:00:00\u001b[0m\n",
            "\u001b[2K   \u001b[90m━━━━━━━━━━━━━━━━━━━━━━━━━━━━━━━━━━━━━━━━\u001b[0m \u001b[32m2.3/2.3 MB\u001b[0m \u001b[31m75.9 MB/s\u001b[0m eta \u001b[36m0:00:00\u001b[0m\n",
            "\u001b[2K   \u001b[90m━━━━━━━━━━━━━━━━━━━━━━━━━━━━━━━━━━━━━━━━\u001b[0m \u001b[32m236.0/236.0 kB\u001b[0m \u001b[31m23.2 MB/s\u001b[0m eta \u001b[36m0:00:00\u001b[0m\n",
            "\u001b[2K   \u001b[90m━━━━━━━━━━━━━━━━━━━━━━━━━━━━━━━━━━━━━━━━\u001b[0m \u001b[32m47.3/47.3 kB\u001b[0m \u001b[31m4.4 MB/s\u001b[0m eta \u001b[36m0:00:00\u001b[0m\n",
            "\u001b[?25h\u001b[31mERROR: pip's dependency resolver does not currently take into account all the packages that are installed. This behaviour is the source of the following dependency conflicts.\n",
            "pydrive2 1.21.3 requires cryptography<44, but you have cryptography 44.0.3 which is incompatible.\n",
            "pyopenssl 24.2.1 requires cryptography<44,>=41.0.5, but you have cryptography 44.0.3 which is incompatible.\n",
            "grpcio-status 1.71.0 requires protobuf<6.0dev,>=5.26.1, but you have protobuf 4.25.7 which is incompatible.\n",
            "ydf 0.11.0 requires protobuf<6.0.0,>=5.29.1, but you have protobuf 4.25.7 which is incompatible.\u001b[0m\u001b[31m\n",
            "\u001b[0mRequirement already satisfied: flwr[simulation] in /usr/local/lib/python3.11/dist-packages (1.18.0)\n",
            "Requirement already satisfied: cryptography<45.0.0,>=44.0.1 in /usr/local/lib/python3.11/dist-packages (from flwr[simulation]) (44.0.3)\n",
            "Requirement already satisfied: grpcio!=1.65.0,<2.0.0,>=1.62.3 in /usr/local/lib/python3.11/dist-packages (from flwr[simulation]) (1.71.0)\n",
            "Requirement already satisfied: iterators<0.0.3,>=0.0.2 in /usr/local/lib/python3.11/dist-packages (from flwr[simulation]) (0.0.2)\n",
            "Requirement already satisfied: numpy<3.0.0,>=1.26.0 in /usr/local/lib/python3.11/dist-packages (from flwr[simulation]) (2.0.2)\n",
            "Requirement already satisfied: pathspec<0.13.0,>=0.12.1 in /usr/local/lib/python3.11/dist-packages (from flwr[simulation]) (0.12.1)\n",
            "Requirement already satisfied: protobuf<5.0.0,>=4.21.6 in /usr/local/lib/python3.11/dist-packages (from flwr[simulation]) (4.25.7)\n",
            "Requirement already satisfied: pycryptodome<4.0.0,>=3.18.0 in /usr/local/lib/python3.11/dist-packages (from flwr[simulation]) (3.22.0)\n",
            "Requirement already satisfied: pyyaml<7.0.0,>=6.0.2 in /usr/local/lib/python3.11/dist-packages (from flwr[simulation]) (6.0.2)\n",
            "Collecting ray==2.31.0 (from flwr[simulation])\n",
            "  Downloading ray-2.31.0-cp311-cp311-manylinux2014_x86_64.whl.metadata (13 kB)\n",
            "Requirement already satisfied: requests<3.0.0,>=2.31.0 in /usr/local/lib/python3.11/dist-packages (from flwr[simulation]) (2.32.3)\n",
            "Requirement already satisfied: rich<14.0.0,>=13.5.0 in /usr/local/lib/python3.11/dist-packages (from flwr[simulation]) (13.9.4)\n",
            "Requirement already satisfied: tomli<3.0.0,>=2.0.1 in /usr/local/lib/python3.11/dist-packages (from flwr[simulation]) (2.2.1)\n",
            "Requirement already satisfied: tomli-w<2.0.0,>=1.0.0 in /usr/local/lib/python3.11/dist-packages (from flwr[simulation]) (1.2.0)\n",
            "Requirement already satisfied: typer<0.13.0,>=0.12.5 in /usr/local/lib/python3.11/dist-packages (from flwr[simulation]) (0.12.5)\n",
            "Requirement already satisfied: click>=7.0 in /usr/local/lib/python3.11/dist-packages (from ray==2.31.0->flwr[simulation]) (8.1.8)\n",
            "Requirement already satisfied: filelock in /usr/local/lib/python3.11/dist-packages (from ray==2.31.0->flwr[simulation]) (3.18.0)\n",
            "Requirement already satisfied: jsonschema in /usr/local/lib/python3.11/dist-packages (from ray==2.31.0->flwr[simulation]) (4.23.0)\n",
            "Requirement already satisfied: msgpack<2.0.0,>=1.0.0 in /usr/local/lib/python3.11/dist-packages (from ray==2.31.0->flwr[simulation]) (1.1.0)\n",
            "Requirement already satisfied: packaging in /usr/local/lib/python3.11/dist-packages (from ray==2.31.0->flwr[simulation]) (24.2)\n",
            "Requirement already satisfied: aiosignal in /usr/local/lib/python3.11/dist-packages (from ray==2.31.0->flwr[simulation]) (1.3.2)\n",
            "Requirement already satisfied: frozenlist in /usr/local/lib/python3.11/dist-packages (from ray==2.31.0->flwr[simulation]) (1.6.0)\n",
            "Requirement already satisfied: cffi>=1.12 in /usr/local/lib/python3.11/dist-packages (from cryptography<45.0.0,>=44.0.1->flwr[simulation]) (1.17.1)\n",
            "Requirement already satisfied: charset-normalizer<4,>=2 in /usr/local/lib/python3.11/dist-packages (from requests<3.0.0,>=2.31.0->flwr[simulation]) (3.4.1)\n",
            "Requirement already satisfied: idna<4,>=2.5 in /usr/local/lib/python3.11/dist-packages (from requests<3.0.0,>=2.31.0->flwr[simulation]) (3.10)\n",
            "Requirement already satisfied: urllib3<3,>=1.21.1 in /usr/local/lib/python3.11/dist-packages (from requests<3.0.0,>=2.31.0->flwr[simulation]) (2.4.0)\n",
            "Requirement already satisfied: certifi>=2017.4.17 in /usr/local/lib/python3.11/dist-packages (from requests<3.0.0,>=2.31.0->flwr[simulation]) (2025.4.26)\n",
            "Requirement already satisfied: markdown-it-py>=2.2.0 in /usr/local/lib/python3.11/dist-packages (from rich<14.0.0,>=13.5.0->flwr[simulation]) (3.0.0)\n",
            "Requirement already satisfied: pygments<3.0.0,>=2.13.0 in /usr/local/lib/python3.11/dist-packages (from rich<14.0.0,>=13.5.0->flwr[simulation]) (2.19.1)\n",
            "Requirement already satisfied: typing-extensions>=3.7.4.3 in /usr/local/lib/python3.11/dist-packages (from typer<0.13.0,>=0.12.5->flwr[simulation]) (4.13.2)\n",
            "Requirement already satisfied: shellingham>=1.3.0 in /usr/local/lib/python3.11/dist-packages (from typer<0.13.0,>=0.12.5->flwr[simulation]) (1.5.4)\n",
            "Requirement already satisfied: pycparser in /usr/local/lib/python3.11/dist-packages (from cffi>=1.12->cryptography<45.0.0,>=44.0.1->flwr[simulation]) (2.22)\n",
            "Requirement already satisfied: mdurl~=0.1 in /usr/local/lib/python3.11/dist-packages (from markdown-it-py>=2.2.0->rich<14.0.0,>=13.5.0->flwr[simulation]) (0.1.2)\n",
            "Requirement already satisfied: attrs>=22.2.0 in /usr/local/lib/python3.11/dist-packages (from jsonschema->ray==2.31.0->flwr[simulation]) (25.3.0)\n",
            "Requirement already satisfied: jsonschema-specifications>=2023.03.6 in /usr/local/lib/python3.11/dist-packages (from jsonschema->ray==2.31.0->flwr[simulation]) (2025.4.1)\n",
            "Requirement already satisfied: referencing>=0.28.4 in /usr/local/lib/python3.11/dist-packages (from jsonschema->ray==2.31.0->flwr[simulation]) (0.36.2)\n",
            "Requirement already satisfied: rpds-py>=0.7.1 in /usr/local/lib/python3.11/dist-packages (from jsonschema->ray==2.31.0->flwr[simulation]) (0.24.0)\n",
            "Downloading ray-2.31.0-cp311-cp311-manylinux2014_x86_64.whl (66.7 MB)\n",
            "\u001b[2K   \u001b[90m━━━━━━━━━━━━━━━━━━━━━━━━━━━━━━━━━━━━━━━━\u001b[0m \u001b[32m66.7/66.7 MB\u001b[0m \u001b[31m12.1 MB/s\u001b[0m eta \u001b[36m0:00:00\u001b[0m\n",
            "\u001b[?25hInstalling collected packages: ray\n",
            "Successfully installed ray-2.31.0\n",
            "Requirement already satisfied: timm in /usr/local/lib/python3.11/dist-packages (1.0.15)\n",
            "Requirement already satisfied: torch in /usr/local/lib/python3.11/dist-packages (from timm) (2.6.0+cu124)\n",
            "Requirement already satisfied: torchvision in /usr/local/lib/python3.11/dist-packages (from timm) (0.21.0+cu124)\n",
            "Requirement already satisfied: pyyaml in /usr/local/lib/python3.11/dist-packages (from timm) (6.0.2)\n",
            "Requirement already satisfied: huggingface_hub in /usr/local/lib/python3.11/dist-packages (from timm) (0.30.2)\n",
            "Requirement already satisfied: safetensors in /usr/local/lib/python3.11/dist-packages (from timm) (0.5.3)\n",
            "Requirement already satisfied: filelock in /usr/local/lib/python3.11/dist-packages (from huggingface_hub->timm) (3.18.0)\n",
            "Requirement already satisfied: fsspec>=2023.5.0 in /usr/local/lib/python3.11/dist-packages (from huggingface_hub->timm) (2025.3.2)\n",
            "Requirement already satisfied: packaging>=20.9 in /usr/local/lib/python3.11/dist-packages (from huggingface_hub->timm) (24.2)\n",
            "Requirement already satisfied: requests in /usr/local/lib/python3.11/dist-packages (from huggingface_hub->timm) (2.32.3)\n",
            "Requirement already satisfied: tqdm>=4.42.1 in /usr/local/lib/python3.11/dist-packages (from huggingface_hub->timm) (4.67.1)\n",
            "Requirement already satisfied: typing-extensions>=3.7.4.3 in /usr/local/lib/python3.11/dist-packages (from huggingface_hub->timm) (4.13.2)\n",
            "Requirement already satisfied: networkx in /usr/local/lib/python3.11/dist-packages (from torch->timm) (3.4.2)\n",
            "Requirement already satisfied: jinja2 in /usr/local/lib/python3.11/dist-packages (from torch->timm) (3.1.6)\n",
            "Requirement already satisfied: nvidia-cuda-nvrtc-cu12==12.4.127 in /usr/local/lib/python3.11/dist-packages (from torch->timm) (12.4.127)\n",
            "Requirement already satisfied: nvidia-cuda-runtime-cu12==12.4.127 in /usr/local/lib/python3.11/dist-packages (from torch->timm) (12.4.127)\n",
            "Requirement already satisfied: nvidia-cuda-cupti-cu12==12.4.127 in /usr/local/lib/python3.11/dist-packages (from torch->timm) (12.4.127)\n",
            "Requirement already satisfied: nvidia-cudnn-cu12==9.1.0.70 in /usr/local/lib/python3.11/dist-packages (from torch->timm) (9.1.0.70)\n",
            "Requirement already satisfied: nvidia-cublas-cu12==12.4.5.8 in /usr/local/lib/python3.11/dist-packages (from torch->timm) (12.4.5.8)\n",
            "Requirement already satisfied: nvidia-cufft-cu12==11.2.1.3 in /usr/local/lib/python3.11/dist-packages (from torch->timm) (11.2.1.3)\n",
            "Requirement already satisfied: nvidia-curand-cu12==10.3.5.147 in /usr/local/lib/python3.11/dist-packages (from torch->timm) (10.3.5.147)\n",
            "Requirement already satisfied: nvidia-cusolver-cu12==11.6.1.9 in /usr/local/lib/python3.11/dist-packages (from torch->timm) (11.6.1.9)\n",
            "Requirement already satisfied: nvidia-cusparse-cu12==12.3.1.170 in /usr/local/lib/python3.11/dist-packages (from torch->timm) (12.3.1.170)\n",
            "Requirement already satisfied: nvidia-cusparselt-cu12==0.6.2 in /usr/local/lib/python3.11/dist-packages (from torch->timm) (0.6.2)\n",
            "Requirement already satisfied: nvidia-nccl-cu12==2.21.5 in /usr/local/lib/python3.11/dist-packages (from torch->timm) (2.21.5)\n",
            "Requirement already satisfied: nvidia-nvtx-cu12==12.4.127 in /usr/local/lib/python3.11/dist-packages (from torch->timm) (12.4.127)\n",
            "Requirement already satisfied: nvidia-nvjitlink-cu12==12.4.127 in /usr/local/lib/python3.11/dist-packages (from torch->timm) (12.4.127)\n",
            "Requirement already satisfied: triton==3.2.0 in /usr/local/lib/python3.11/dist-packages (from torch->timm) (3.2.0)\n",
            "Requirement already satisfied: sympy==1.13.1 in /usr/local/lib/python3.11/dist-packages (from torch->timm) (1.13.1)\n",
            "Requirement already satisfied: mpmath<1.4,>=1.1.0 in /usr/local/lib/python3.11/dist-packages (from sympy==1.13.1->torch->timm) (1.3.0)\n",
            "Requirement already satisfied: numpy in /usr/local/lib/python3.11/dist-packages (from torchvision->timm) (2.0.2)\n",
            "Requirement already satisfied: pillow!=8.3.*,>=5.3.0 in /usr/local/lib/python3.11/dist-packages (from torchvision->timm) (11.2.1)\n",
            "Requirement already satisfied: MarkupSafe>=2.0 in /usr/local/lib/python3.11/dist-packages (from jinja2->torch->timm) (3.0.2)\n",
            "Requirement already satisfied: charset-normalizer<4,>=2 in /usr/local/lib/python3.11/dist-packages (from requests->huggingface_hub->timm) (3.4.1)\n",
            "Requirement already satisfied: idna<4,>=2.5 in /usr/local/lib/python3.11/dist-packages (from requests->huggingface_hub->timm) (3.10)\n",
            "Requirement already satisfied: urllib3<3,>=1.21.1 in /usr/local/lib/python3.11/dist-packages (from requests->huggingface_hub->timm) (2.4.0)\n",
            "Requirement already satisfied: certifi>=2017.4.17 in /usr/local/lib/python3.11/dist-packages (from requests->huggingface_hub->timm) (2025.4.26)\n"
          ]
        }
      ]
    },
    {
      "cell_type": "code",
      "source": [
        "from datetime import datetime\n",
        "from functools import partial\n",
        "from flwr.server import ServerConfig\n",
        "import random\n",
        "import numpy as np\n",
        "import torch.nn as nn\n",
        "from torchvision import transforms\n",
        "import timm\n",
        "import torch\n",
        "import os\n",
        "import torchvision\n",
        "import torchvision.transforms as transforms\n",
        "from torch.utils.data import random_split, DataLoader\n",
        "from torch.utils.tensorboard import SummaryWriter\n",
        "import flwr as fl\n",
        "from flwr.simulation import run_simulation\n",
        "from flwr.common import Context\n",
        "from flwr.server import ServerApp, ServerAppComponents, ServerConfig\n",
        "from flwr.client import ClientApp\n",
        "from flwr.common import parameters_to_ndarrays\n",
        "from collections import OrderedDict\n",
        "from wandb_logger import FederatedWandBLogger\n",
        "import data_utils\n",
        "import clients\n",
        "import strategies\n",
        "import data_preprocessing"
      ],
      "metadata": {
        "id": "5Xp1pUuaE6mR"
      },
      "execution_count": null,
      "outputs": []
    },
    {
      "cell_type": "code",
      "source": [
        "def build_optimizer_config(optimizer_type):\n",
        "    if optimizer_type == clients.OptimizerType.SGD:\n",
        "        config = {\n",
        "            \"lr\": LR,\n",
        "            \"momentum\": MOMENTUM,\n",
        "            \"weight_decay\": WEIGHT_DECAY,\n",
        "            \"nesterov\": NESTEROV\n",
        "        }\n",
        "\n",
        "    elif optimizer_type == clients.OptimizerType.SSGD:\n",
        "        config = {\n",
        "            \"lr\": LR,\n",
        "            \"momentum\": MOMENTUM,\n",
        "            \"weight_decay\": WEIGHT_DECAY,\n",
        "        }\n",
        "\n",
        "\n",
        "    elif optimizer_type == clients.OptimizerType.ADAM:\n",
        "        config = {\n",
        "            \"lr\": LR,\n",
        "            \"betas\": BETAS,\n",
        "            \"weight_decay\": WEIGHT_DECAY,\n",
        "            \"eps\": EPSILON\n",
        "        }\n",
        "\n",
        "    elif optimizer_type == clients.OptimizerType.ADAMW:\n",
        "        config = {\n",
        "            \"lr\": LR,\n",
        "            \"betas\": BETAS,\n",
        "            \"weight_decay\": WEIGHT_DECAY\n",
        "        }\n",
        "\n",
        "    elif optimizer_type == clients.OptimizerType.RMSPROP:\n",
        "        config = {\n",
        "            \"lr\": LR,\n",
        "            \"alpha\": ALPHA,\n",
        "            \"eps\": EPSILON,\n",
        "            \"weight_decay\": WEIGHT_DECAY,\n",
        "            \"momentum\": MOMENTUM,\n",
        "            \"centered\": CENTERED\n",
        "        }\n",
        "\n",
        "    elif optimizer_type == clients.OptimizerType.ADAGRAD:\n",
        "        config = {\n",
        "            \"lr\": LR,\n",
        "            \"weight_decay\": WEIGHT_DECAY,\n",
        "            \"eps\": EPSILON\n",
        "        }\n",
        "    else:\n",
        "        raise ValueError(f\"Unsupported optimizer type: {optimizer_type}\")\n",
        "\n",
        "    print(f\"Optimizer '{optimizer_type}' initialized successfully.\")\n",
        "    return config"
      ],
      "metadata": {
        "id": "HOv-t1R19VaF"
      },
      "execution_count": null,
      "outputs": []
    },
    {
      "cell_type": "code",
      "source": [
        "def build_scheduler_config(scheduler_type):\n",
        "\n",
        "    if scheduler_type == clients.SchedulerType.COSINE:\n",
        "        config = {\n",
        "            \"T_max\": T_MAX,\n",
        "            \"eta_min\": ETA_MIN\n",
        "        }\n",
        "\n",
        "    elif scheduler_type == clients.SchedulerType.COSINE_RESTART:\n",
        "        config = {\n",
        "            \"T_0\": T_MAX,\n",
        "            \"T_mult\": 1,\n",
        "            \"eta_min\": ETA_MIN\n",
        "        }\n",
        "\n",
        "    elif scheduler_type == clients.SchedulerType.STEP:\n",
        "        config = {\n",
        "            \"step_size\": STEP_SIZE,\n",
        "            \"gamma\": GAMMA\n",
        "        }\n",
        "\n",
        "    elif scheduler_type == clients.SchedulerType.MULTISTEP:\n",
        "        config = {\n",
        "            \"milestones\": MILESTONES,\n",
        "            \"gamma\": GAMMA\n",
        "        }\n",
        "\n",
        "    elif scheduler_type == clients.SchedulerType.EXPONENTIAL:\n",
        "        config = {\n",
        "            \"gamma\": GAMMA\n",
        "        }\n",
        "\n",
        "    elif scheduler_type == clients.SchedulerType.REDUCE_ON_PLATEAU:\n",
        "        config = {\n",
        "            \"mode\": \"min\",\n",
        "            \"factor\": FACTOR,\n",
        "            \"patience\": PATIENCE,\n",
        "            \"threshold\": THRESHOLD\n",
        "        }\n",
        "\n",
        "    elif scheduler_type == clients.SchedulerType.CONSTANT:\n",
        "        config = {\n",
        "            \"factor\": 1.0,\n",
        "            \"total_iters\": TOTAL_ITERS\n",
        "        }\n",
        "\n",
        "    elif scheduler_type == clients.SchedulerType.LINEAR:\n",
        "        config = {\n",
        "            \"start_factor\": 0.5,\n",
        "            \"end_factor\": LR_END,\n",
        "            \"total_iters\": TOTAL_ITERS\n",
        "        }\n",
        "\n",
        "    else:\n",
        "        raise ValueError(f\"Unsupported scheduler type: {scheduler_type}\")\n",
        "\n",
        "    print(f\"Scheduler '{scheduler_type}' initialized successfully.\")\n",
        "    return config"
      ],
      "metadata": {
        "id": "On2yMJDV9L6v"
      },
      "execution_count": null,
      "outputs": []
    },
    {
      "cell_type": "code",
      "source": [
        "def seed_everything(seed=42):\n",
        "    random.seed(seed)\n",
        "    np.random.seed(seed)\n",
        "    torch.manual_seed(seed)\n",
        "    torch.cuda.manual_seed_all(seed)\n",
        "    os.environ[\"PYTHONHASHSEED\"] = str(seed)\n",
        "    torch.backends.cudnn.deterministic = True\n",
        "    torch.backends.cudnn.benchmark = False\n",
        "\n",
        "seed_everything(42)"
      ],
      "metadata": {
        "id": "qbmrMF8AzgV6"
      },
      "execution_count": null,
      "outputs": []
    },
    {
      "cell_type": "code",
      "source": [
        "# THE WHOLE TRAINING SETTINGS ARE HERE!\n",
        "\n",
        "# GENERAL\n",
        "BATCH_SIZE = 256\n",
        "EPOCHS = 15\n",
        "VAL_SPLIT = 0.1\n",
        "DEVICE = torch.device(\"cuda\" if torch.cuda.is_available() else \"cpu\")\n",
        "BACKBONE_FREEZING = True\n",
        "\n",
        "# FL\n",
        "NUM_CLIENTS = 5\n",
        "NC = 20\n",
        "LOCAL_EPOCHS = 5\n",
        "NUM_ROUNDS = 3\n",
        "FRACTION_FIT = 1\n",
        "IID = True\n",
        "\n",
        "# LOSS\n",
        "SMOOTHING=0.1\n",
        "\n",
        "# Optimizer Hyperparameters\n",
        "LR = 0.01\n",
        "MOMENTUM = 0.9\n",
        "WEIGHT_DECAY = 0.0005\n",
        "NESTEROV = False\n",
        "BETAS = (0.9, 0.999)\n",
        "EPSILON = 1e-8\n",
        "ALPHA = 0.99\n",
        "CENTERED = False\n",
        "# do not change this\n",
        "OPTIMIZER_TYPE  = clients.OptimizerType.SSGD\n",
        "\n",
        "# Scheduler Hyperparameters\n",
        "T_MAX = 100\n",
        "ETA_MIN = 0.0\n",
        "STEP_SIZE = 30\n",
        "GAMMA = 0.1\n",
        "MILESTONES = [50, 75]\n",
        "FACTOR = 0.1\n",
        "PATIENCE = 5\n",
        "THRESHOLD = 1e-4\n",
        "TOTAL_ITERS = 10\n",
        "LR_END = 0.0\n",
        "SCHEDULER_TYPE  = clients.SchedulerType.COSINE\n",
        "\n",
        "TALOS_CONFIG = {\n",
        "    \"final_sparsity\": 0.3,\n",
        "    \"num_batches\": 3,\n",
        "    \"rounds\": 2\n",
        "}\n",
        "\n",
        "OPTIMIZER_CONFIG = build_optimizer_config(OPTIMIZER_TYPE)\n",
        "SCHEDULER_CONFIG = build_scheduler_config(SCHEDULER_TYPE)"
      ],
      "metadata": {
        "id": "1799ScT_ohcp",
        "colab": {
          "base_uri": "https://localhost:8080/"
        },
        "outputId": "e9989b77-2610-4532-f7ca-59307bae04d3"
      },
      "execution_count": null,
      "outputs": [
        {
          "output_type": "stream",
          "name": "stdout",
          "text": [
            "Optimizer 'OptimizerType.SSGD' initialized successfully.\n",
            "Scheduler 'SchedulerType.COSINE' initialized successfully.\n"
          ]
        }
      ]
    },
    {
      "cell_type": "code",
      "execution_count": null,
      "metadata": {
        "colab": {
          "base_uri": "https://localhost:8080/"
        },
        "id": "dO_pxQucjrtp",
        "outputId": "ee27baa2-d350-48f8-9452-b8c2ae5c5f7b"
      },
      "outputs": [
        {
          "output_type": "stream",
          "name": "stderr",
          "text": [
            "100%|██████████| 169M/169M [00:05<00:00, 31.5MB/s]\n"
          ]
        },
        {
          "output_type": "stream",
          "name": "stdout",
          "text": [
            "Setup complete. IID and Non-IID splits created.\n"
          ]
        }
      ],
      "source": [
        "pipeline = data_preprocessing.CIFAR100Pipeline(val_split=VAL_SPLIT, use_augment=True)\n",
        "trainset, valset, testset = pipeline.run_pipeline()\n",
        "\n",
        "trainloader = DataLoader(trainset, batch_size=BATCH_SIZE, shuffle=True)\n",
        "valloader = DataLoader(valset, batch_size=BATCH_SIZE)\n",
        "testloader = DataLoader(testset, batch_size=BATCH_SIZE)\n",
        "\n",
        "# Apply sharding\n",
        "client_datasets_iid = data_utils.iid_split(trainset, NUM_CLIENTS)\n",
        "client_datasets_noniid = data_utils.non_iid_split(trainset, NUM_CLIENTS, NC, 100)\n",
        "\n",
        "print(\"Setup complete. IID and Non-IID splits created.\")"
      ]
    },
    {
      "cell_type": "code",
      "source": [
        "# Create model\n",
        "def create_dino_vit_s16_for_cifar100(freezing=BACKBONE_FREEZING):\n",
        "    model = timm.create_model(\"vit_small_patch16_224_dino\", pretrained=True, num_classes=0)\n",
        "\n",
        "    # Replace the head with CIFAR-100 classification head\n",
        "    model.head = nn.Linear(model.num_features, 100)\n",
        "\n",
        "    if freezing:\n",
        "      # Freeze all parameters except head\n",
        "      for param in model.parameters():\n",
        "          param.requires_grad = False\n",
        "\n",
        "      # Unfreeze only the head\n",
        "      for param in model.head.parameters():\n",
        "          param.requires_grad = True\n",
        "\n",
        "    return model"
      ],
      "metadata": {
        "id": "1Q4llQU021yr"
      },
      "execution_count": null,
      "outputs": []
    },
    {
      "cell_type": "code",
      "source": [
        "!wandb login f8ad3703c9023ee3f86c7242a87d9280b6c031fb"
      ],
      "metadata": {
        "colab": {
          "base_uri": "https://localhost:8080/"
        },
        "id": "L_sfWIx8_SRu",
        "outputId": "a1cd16a7-f25b-4131-f0d9-16a2ceb0da31"
      },
      "execution_count": null,
      "outputs": [
        {
          "output_type": "stream",
          "name": "stdout",
          "text": [
            "\u001b[34m\u001b[1mwandb\u001b[0m: \u001b[33mWARNING\u001b[0m Using legacy-service, which is deprecated. If this is unintentional, you can fix it by ensuring you do not call `wandb.require('legacy-service')` and do not set the WANDB_X_REQUIRE_LEGACY_SERVICE environment variable.\n",
            "\u001b[34m\u001b[1mwandb\u001b[0m: No netrc file found, creating one.\n",
            "\u001b[34m\u001b[1mwandb\u001b[0m: Appending key for api.wandb.ai to your netrc file: /root/.netrc\n",
            "\u001b[34m\u001b[1mwandb\u001b[0m: W&B API key is configured. Use \u001b[1m`wandb login --relogin`\u001b[0m to force relogin\n"
          ]
        }
      ]
    },
    {
      "cell_type": "code",
      "source": [
        "data_distribution = \"IID_DATA\" if IID else \"NON_IID_DATA\"\n",
        "run_name = f\"FEDERATED_{data_distribution}_TALOS_{datetime.now().strftime('%Y%m%d-%H%M%S')}\"\n",
        "\n",
        "client_app = ClientApp(\n",
        "    client_fn=clients.build_client_talos_fn(\n",
        "        use_iid=IID,\n",
        "        scheduler_type=SCHEDULER_TYPE,\n",
        "        optimizer_config=OPTIMIZER_CONFIG,\n",
        "        scheduler_config=SCHEDULER_CONFIG,\n",
        "        iid_partitions=client_datasets_iid,\n",
        "        non_iid_partitions=client_datasets_noniid,\n",
        "        model_fn=create_dino_vit_s16_for_cifar100,\n",
        "        device=DEVICE,\n",
        "        valset=valset,\n",
        "        batch_size=BATCH_SIZE,\n",
        "        local_epochs=LOCAL_EPOCHS,\n",
        "        talos_config=TALOS_CONFIG\n",
        "    )\n",
        ")\n",
        "\n",
        "logger = FederatedWandBLogger(\n",
        "    project_name=\"federated-learning-project\",\n",
        "    run_name=run_name,\n",
        "    global_config={\n",
        "        # Federated Learning Configuration\n",
        "        \"use_iid\": IID,\n",
        "        \"local_epochs\": LOCAL_EPOCHS,\n",
        "        \"batch_size\": BATCH_SIZE,\n",
        "        \"num_clients\": NUM_CLIENTS,\n",
        "        \"fraction_fit\": FRACTION_FIT,\n",
        "        \"fraction_evaluate\": FRACTION_FIT,\n",
        "        \"num_rounds\": NUM_ROUNDS,\n",
        "        \"backbone_freezing\": BACKBONE_FREEZING,\n",
        "\n",
        "        # Optimizer Configuration\n",
        "        \"optimizer\": OPTIMIZER_TYPE.value,\n",
        "        \"optimizer_config\": OPTIMIZER_CONFIG,\n",
        "\n",
        "        # Scheduler Configuration\n",
        "        \"scheduler\": SCHEDULER_TYPE.value,\n",
        "        \"scheduler_config\": SCHEDULER_CONFIG,\n",
        "\n",
        "        \"talos_config\": TALOS_CONFIG,\n",
        "    }\n",
        ")\n",
        "\n",
        "strategy = strategies.FedAvgStandard(\n",
        "    logger=logger,\n",
        "    fraction_fit=FRACTION_FIT,\n",
        "    min_fit_clients=int(FRACTION_FIT*NUM_CLIENTS),\n",
        "    min_evaluate_clients=int(FRACTION_FIT*NUM_CLIENTS),\n",
        "    fraction_evaluate=FRACTION_FIT,\n",
        "    min_available_clients=NUM_CLIENTS,\n",
        "    evaluate_metrics_aggregation_fn = lambda metrics: {\n",
        "        \"accuracy\": sum(num * m[\"val_accuracy\"] for num, m in metrics) / sum(num for num, _ in metrics)\n",
        "    }\n",
        ")\n",
        "\n",
        "def server_fn(context: Context) -> ServerAppComponents:\n",
        "    \"\"\"Construct components that set the ServerApp behaviour.\n",
        "\n",
        "    You can use the settings in `context.run_config` to parameterize the\n",
        "    construction of all elements (e.g the strategy or the number of rounds)\n",
        "    wrapped in the returned ServerAppComponents object.\n",
        "    \"\"\"\n",
        "    config = ServerConfig(num_rounds=NUM_ROUNDS)\n",
        "    return ServerAppComponents(strategy=strategy, config=config)\n",
        "\n",
        "\n",
        "server_app = ServerApp(server_fn=server_fn)"
      ],
      "metadata": {
        "id": "31KOm819XUko",
        "colab": {
          "base_uri": "https://localhost:8080/",
          "height": 245
        },
        "outputId": "c720901b-e0c3-48e4-ff43-037053efd039"
      },
      "execution_count": null,
      "outputs": [
        {
          "output_type": "display_data",
          "data": {
            "text/plain": [
              "<IPython.core.display.HTML object>"
            ],
            "text/html": [
              "Finishing previous runs because reinit is set to 'default'."
            ]
          },
          "metadata": {}
        },
        {
          "output_type": "display_data",
          "data": {
            "text/plain": [
              "<IPython.core.display.HTML object>"
            ],
            "text/html": []
          },
          "metadata": {}
        },
        {
          "output_type": "display_data",
          "data": {
            "text/plain": [
              "<IPython.core.display.HTML object>"
            ],
            "text/html": [
              " View run <strong style=\"color:#cdcd00\">FEDERATED_IID_DATA_TALOS_20250511-154421</strong> at: <a href='https://wandb.ai/polito-fl/federated-learning-project/runs/a9vpxysv' target=\"_blank\">https://wandb.ai/polito-fl/federated-learning-project/runs/a9vpxysv</a><br> View project at: <a href='https://wandb.ai/polito-fl/federated-learning-project' target=\"_blank\">https://wandb.ai/polito-fl/federated-learning-project</a><br>Synced 5 W&B file(s), 0 media file(s), 0 artifact file(s) and 0 other file(s)"
            ]
          },
          "metadata": {}
        },
        {
          "output_type": "display_data",
          "data": {
            "text/plain": [
              "<IPython.core.display.HTML object>"
            ],
            "text/html": [
              "Find logs at: <code>./wandb/run-20250511_154421-a9vpxysv/logs</code>"
            ]
          },
          "metadata": {}
        },
        {
          "output_type": "stream",
          "name": "stderr",
          "text": [
            "/usr/local/lib/python3.11/dist-packages/wandb/analytics/sentry.py:259: DeprecationWarning: The `Scope.user` setter is deprecated in favor of `Scope.set_user()`.\n",
            "  self.scope.user = {\"email\": email}  # noqa\n"
          ]
        },
        {
          "output_type": "display_data",
          "data": {
            "text/plain": [
              "<IPython.core.display.HTML object>"
            ],
            "text/html": [
              "Tracking run with wandb version 0.19.10"
            ]
          },
          "metadata": {}
        },
        {
          "output_type": "display_data",
          "data": {
            "text/plain": [
              "<IPython.core.display.HTML object>"
            ],
            "text/html": [
              "Run data is saved locally in <code>/content/wandb/run-20250511_154522-sla0dxlm</code>"
            ]
          },
          "metadata": {}
        },
        {
          "output_type": "display_data",
          "data": {
            "text/plain": [
              "<IPython.core.display.HTML object>"
            ],
            "text/html": [
              "Syncing run <strong><a href='https://wandb.ai/polito-fl/federated-learning-project/runs/sla0dxlm' target=\"_blank\">FEDERATED_IID_DATA_TALOS_20250511-154522</a></strong> to <a href='https://wandb.ai/polito-fl/federated-learning-project' target=\"_blank\">Weights & Biases</a> (<a href='https://wandb.me/developer-guide' target=\"_blank\">docs</a>)<br>"
            ]
          },
          "metadata": {}
        },
        {
          "output_type": "display_data",
          "data": {
            "text/plain": [
              "<IPython.core.display.HTML object>"
            ],
            "text/html": [
              " View project at <a href='https://wandb.ai/polito-fl/federated-learning-project' target=\"_blank\">https://wandb.ai/polito-fl/federated-learning-project</a>"
            ]
          },
          "metadata": {}
        },
        {
          "output_type": "display_data",
          "data": {
            "text/plain": [
              "<IPython.core.display.HTML object>"
            ],
            "text/html": [
              " View run at <a href='https://wandb.ai/polito-fl/federated-learning-project/runs/sla0dxlm' target=\"_blank\">https://wandb.ai/polito-fl/federated-learning-project/runs/sla0dxlm</a>"
            ]
          },
          "metadata": {}
        }
      ]
    },
    {
      "cell_type": "code",
      "source": [
        "device = torch.device(\"cuda\" if torch.cuda.is_available() else \"cpu\")\n",
        "\n",
        "backend_config = {\"client_resources\": {\"num_cpus\": 1, \"num_gpus\": 0.0}}\n",
        "\n",
        "if device.type == \"cuda\":\n",
        "    backend_config = {\"client_resources\": {\"num_cpus\": 1, \"num_gpus\": 1.0}}"
      ],
      "metadata": {
        "id": "9To1c6PtSman"
      },
      "execution_count": null,
      "outputs": []
    },
    {
      "cell_type": "code",
      "source": [
        "import importlib\n",
        "\n",
        "importlib.reload(clients)"
      ],
      "metadata": {
        "colab": {
          "base_uri": "https://localhost:8080/"
        },
        "id": "rWIiyxQJNujw",
        "outputId": "1dc810ed-2c23-4ab7-b9aa-750fd6c23038"
      },
      "execution_count": null,
      "outputs": [
        {
          "output_type": "execute_result",
          "data": {
            "text/plain": [
              "<module 'clients' from '/content/clients.py'>"
            ]
          },
          "metadata": {},
          "execution_count": 13
        }
      ]
    },
    {
      "cell_type": "code",
      "source": [
        "run_simulation(\n",
        "    server_app=server_app,\n",
        "    client_app=client_app,\n",
        "    num_supernodes=NUM_CLIENTS,\n",
        "    backend_config=backend_config\n",
        ")"
      ],
      "metadata": {
        "colab": {
          "base_uri": "https://localhost:8080/",
          "height": 1000
        },
        "id": "VmOdfanrsuOM",
        "outputId": "04501fa0-9da0-4674-8b23-bd625a1e9f59"
      },
      "execution_count": null,
      "outputs": [
        {
          "output_type": "stream",
          "name": "stderr",
          "text": [
            "\u001b[92mINFO \u001b[0m:      Starting Flower ServerApp, config: num_rounds=3, no round_timeout\n",
            "\u001b[92mINFO \u001b[0m:      \n",
            "\u001b[92mINFO \u001b[0m:      [INIT]\n",
            "\u001b[92mINFO \u001b[0m:      Requesting initial parameters from one random client\n",
            "\u001b[36m(pid=3165)\u001b[0m 2025-05-11 15:45:31.574259: E external/local_xla/xla/stream_executor/cuda/cuda_fft.cc:477] Unable to register cuFFT factory: Attempting to register factory for plugin cuFFT when one has already been registered\n",
            "\u001b[36m(pid=3165)\u001b[0m WARNING: All log messages before absl::InitializeLog() is called are written to STDERR\n",
            "\u001b[36m(pid=3165)\u001b[0m E0000 00:00:1746978331.597226    3165 cuda_dnn.cc:8310] Unable to register cuDNN factory: Attempting to register factory for plugin cuDNN when one has already been registered\n",
            "\u001b[36m(pid=3165)\u001b[0m E0000 00:00:1746978331.603611    3165 cuda_blas.cc:1418] Unable to register cuBLAS factory: Attempting to register factory for plugin cuBLAS when one has already been registered\n"
          ]
        },
        {
          "output_type": "stream",
          "name": "stdout",
          "text": [
            "\u001b[36m(ClientAppActor pid=3165)\u001b[0m LOG: Initializing client with CID=0\n",
            "\u001b[36m(ClientAppActor pid=3165)\u001b[0m 0-LOG: Data partition assigned to client 0 -> IID\n"
          ]
        },
        {
          "output_type": "stream",
          "name": "stderr",
          "text": [
            "\u001b[36m(ClientAppActor pid=3165)\u001b[0m /usr/local/lib/python3.11/dist-packages/timm/models/_factory.py:126: UserWarning: Mapping deprecated model name vit_small_patch16_224_dino to current vit_small_patch16_224.dino.\n",
            "\u001b[36m(ClientAppActor pid=3165)\u001b[0m   model = create_fn(\n"
          ]
        },
        {
          "output_type": "stream",
          "name": "stdout",
          "text": [
            "\u001b[36m(ClientAppActor pid=3165)\u001b[0m 0-LOG: Model initialized for client 0\n",
            "\u001b[36m(ClientAppActor pid=3165)\u001b[0m 0-LOG: Dataloaders initialized for client 0\n",
            "\u001b[36m(ClientAppActor pid=3165)\u001b[0m 🟢 Found model head. Pruning will be applied to the head only.\n",
            "\u001b[36m(ClientAppActor pid=3165)\u001b[0m 0-LOG: Starting TaLoS Mask Calibration\n",
            "\u001b[36m(ClientAppActor pid=3165)\u001b[0m 🔎 Starting multi-round calibration for the model head only.\n",
            "\u001b[36m(ClientAppActor pid=3165)\u001b[0m 🌀 Calibration Round 1/2\n"
          ]
        },
        {
          "output_type": "stream",
          "name": "stderr",
          "text": [
            "\u001b[36m(ClientAppActor pid=3165)\u001b[0m /content/clients.py:412: FutureWarning: `torch.cuda.amp.GradScaler(args...)` is deprecated. Please use `torch.amp.GradScaler('cuda', args...)` instead.\n",
            "\u001b[36m(ClientAppActor pid=3165)\u001b[0m   self.scaler = GradScaler()\n",
            "\u001b[36m(ClientAppActor pid=3165)\u001b[0m /content/editing.py:73: FutureWarning: `torch.cuda.amp.autocast(args...)` is deprecated. Please use `torch.amp.autocast('cuda', args...)` instead.\n",
            "\u001b[36m(ClientAppActor pid=3165)\u001b[0m   with autocast():\n"
          ]
        },
        {
          "output_type": "stream",
          "name": "stdout",
          "text": [
            "\u001b[36m(ClientAppActor pid=3165)\u001b[0m ✅ Mask updated with 15.00% sparsity\n",
            "\u001b[36m(ClientAppActor pid=3165)\u001b[0m 🌀 Calibration Round 2/2\n",
            "\u001b[36m(ClientAppActor pid=3165)\u001b[0m ✅ Mask updated with 30.00% sparsity\n"
          ]
        },
        {
          "output_type": "stream",
          "name": "stderr",
          "text": [
            "\u001b[92mINFO \u001b[0m:      Received initial parameters from one random client\n",
            "\u001b[92mINFO \u001b[0m:      Starting evaluation of initial global parameters\n",
            "\u001b[92mINFO \u001b[0m:      Evaluation returned no results (`None`)\n",
            "\u001b[92mINFO \u001b[0m:      \n",
            "\u001b[92mINFO \u001b[0m:      [ROUND 1]\n",
            "\u001b[92mINFO \u001b[0m:      configure_fit: strategy sampled 5 clients (out of 5)\n"
          ]
        },
        {
          "output_type": "stream",
          "name": "stdout",
          "text": [
            "\u001b[36m(ClientAppActor pid=3165)\u001b[0m LOG: Initializing client with CID=0\n",
            "\u001b[36m(ClientAppActor pid=3165)\u001b[0m 0-LOG: Data partition assigned to client 0 -> IID\n",
            "\u001b[36m(ClientAppActor pid=3165)\u001b[0m 0-LOG: Model initialized for client 0\n",
            "\u001b[36m(ClientAppActor pid=3165)\u001b[0m 0-LOG: Dataloaders initialized for client 0\n",
            "\u001b[36m(ClientAppActor pid=3165)\u001b[0m 🟢 Found model head. Pruning will be applied to the head only.\n",
            "\u001b[36m(ClientAppActor pid=3165)\u001b[0m 0-LOG: Starting TaLoS Mask Calibration\n",
            "\u001b[36m(ClientAppActor pid=3165)\u001b[0m 🔎 Starting multi-round calibration for the model head only.\n",
            "\u001b[36m(ClientAppActor pid=3165)\u001b[0m 🌀 Calibration Round 1/2\n",
            "\u001b[36m(ClientAppActor pid=3165)\u001b[0m ✅ Mask updated with 15.00% sparsity\n",
            "\u001b[36m(ClientAppActor pid=3165)\u001b[0m 🌀 Calibration Round 2/2\n",
            "\u001b[36m(ClientAppActor pid=3165)\u001b[0m ✅ Mask updated with 30.00% sparsity\n",
            "\u001b[36m(ClientAppActor pid=3165)\u001b[0m 0-LOG: Starting local training round with TaLoS\n",
            "\u001b[36m(ClientAppActor pid=3165)\u001b[0m 0-LOG: Starting epoch 1/5\n"
          ]
        },
        {
          "output_type": "stream",
          "name": "stderr",
          "text": [
            "\u001b[36m(ClientAppActor pid=3165)\u001b[0m /content/clients.py:466: FutureWarning: `torch.cuda.amp.autocast(args...)` is deprecated. Please use `torch.amp.autocast('cuda', args...)` instead.\n",
            "\u001b[36m(ClientAppActor pid=3165)\u001b[0m   with autocast():\n"
          ]
        },
        {
          "output_type": "stream",
          "name": "stdout",
          "text": [
            "\u001b[36m(ClientAppActor pid=3165)\u001b[0m 0-LOG: Starting epoch 2/5\n",
            "\u001b[36m(ClientAppActor pid=3165)\u001b[0m 0-LOG: Starting epoch 3/5\n",
            "\u001b[36m(ClientAppActor pid=3165)\u001b[0m 0-LOG: Starting epoch 4/5\n",
            "\u001b[36m(ClientAppActor pid=3165)\u001b[0m 0-LOG: Starting epoch 5/5\n",
            "\u001b[36m(ClientAppActor pid=3165)\u001b[0m 0-LOG: Completed local training - Loss: 1.5825 | Accuracy: 0.6316\n",
            "\u001b[36m(ClientAppActor pid=3165)\u001b[0m LOG: Initializing client with CID=1\n",
            "\u001b[36m(ClientAppActor pid=3165)\u001b[0m 1-LOG: Data partition assigned to client 1 -> IID\n",
            "\u001b[36m(ClientAppActor pid=3165)\u001b[0m 1-LOG: Model initialized for client 1\n",
            "\u001b[36m(ClientAppActor pid=3165)\u001b[0m 1-LOG: Dataloaders initialized for client 1\n",
            "\u001b[36m(ClientAppActor pid=3165)\u001b[0m 🟢 Found model head. Pruning will be applied to the head only.\n",
            "\u001b[36m(ClientAppActor pid=3165)\u001b[0m 1-LOG: Starting TaLoS Mask Calibration\n",
            "\u001b[36m(ClientAppActor pid=3165)\u001b[0m 🔎 Starting multi-round calibration for the model head only.\n",
            "\u001b[36m(ClientAppActor pid=3165)\u001b[0m 🌀 Calibration Round 1/2\n",
            "\u001b[36m(ClientAppActor pid=3165)\u001b[0m ✅ Mask updated with 15.00% sparsity\n",
            "\u001b[36m(ClientAppActor pid=3165)\u001b[0m 🌀 Calibration Round 2/2\n",
            "\u001b[36m(ClientAppActor pid=3165)\u001b[0m ✅ Mask updated with 30.00% sparsity\n",
            "\u001b[36m(ClientAppActor pid=3165)\u001b[0m 1-LOG: Starting local training round with TaLoS\n",
            "\u001b[36m(ClientAppActor pid=3165)\u001b[0m 1-LOG: Starting epoch 1/5\n",
            "\u001b[36m(ClientAppActor pid=3165)\u001b[0m 1-LOG: Starting epoch 2/5\n",
            "\u001b[36m(ClientAppActor pid=3165)\u001b[0m 1-LOG: Starting epoch 3/5\n",
            "\u001b[36m(ClientAppActor pid=3165)\u001b[0m 1-LOG: Starting epoch 4/5\n",
            "\u001b[36m(ClientAppActor pid=3165)\u001b[0m 1-LOG: Starting epoch 5/5\n",
            "\u001b[36m(ClientAppActor pid=3165)\u001b[0m 1-LOG: Completed local training - Loss: 1.5324 | Accuracy: 0.6436\n",
            "\u001b[36m(ClientAppActor pid=3165)\u001b[0m LOG: Initializing client with CID=2\n",
            "\u001b[36m(ClientAppActor pid=3165)\u001b[0m 2-LOG: Data partition assigned to client 2 -> IID\n",
            "\u001b[36m(ClientAppActor pid=3165)\u001b[0m 2-LOG: Model initialized for client 2\n",
            "\u001b[36m(ClientAppActor pid=3165)\u001b[0m 2-LOG: Dataloaders initialized for client 2\n",
            "\u001b[36m(ClientAppActor pid=3165)\u001b[0m 🟢 Found model head. Pruning will be applied to the head only.\n",
            "\u001b[36m(ClientAppActor pid=3165)\u001b[0m 2-LOG: Starting TaLoS Mask Calibration\n",
            "\u001b[36m(ClientAppActor pid=3165)\u001b[0m 🔎 Starting multi-round calibration for the model head only.\n",
            "\u001b[36m(ClientAppActor pid=3165)\u001b[0m 🌀 Calibration Round 1/2\n",
            "\u001b[36m(ClientAppActor pid=3165)\u001b[0m ✅ Mask updated with 15.00% sparsity\n",
            "\u001b[36m(ClientAppActor pid=3165)\u001b[0m 🌀 Calibration Round 2/2\n",
            "\u001b[36m(ClientAppActor pid=3165)\u001b[0m ✅ Mask updated with 30.00% sparsity\n",
            "\u001b[36m(ClientAppActor pid=3165)\u001b[0m 2-LOG: Starting local training round with TaLoS\n",
            "\u001b[36m(ClientAppActor pid=3165)\u001b[0m 2-LOG: Starting epoch 1/5\n",
            "\u001b[36m(ClientAppActor pid=3165)\u001b[0m 2-LOG: Starting epoch 2/5\n",
            "\u001b[36m(ClientAppActor pid=3165)\u001b[0m 2-LOG: Starting epoch 3/5\n",
            "\u001b[36m(ClientAppActor pid=3165)\u001b[0m 2-LOG: Starting epoch 4/5\n",
            "\u001b[36m(ClientAppActor pid=3165)\u001b[0m 2-LOG: Starting epoch 5/5\n",
            "\u001b[36m(ClientAppActor pid=3165)\u001b[0m 2-LOG: Completed local training - Loss: 1.6377 | Accuracy: 0.6318\n",
            "\u001b[36m(ClientAppActor pid=3165)\u001b[0m LOG: Initializing client with CID=3\n",
            "\u001b[36m(ClientAppActor pid=3165)\u001b[0m 3-LOG: Data partition assigned to client 3 -> IID\n",
            "\u001b[36m(ClientAppActor pid=3165)\u001b[0m 3-LOG: Model initialized for client 3\n",
            "\u001b[36m(ClientAppActor pid=3165)\u001b[0m 3-LOG: Dataloaders initialized for client 3\n",
            "\u001b[36m(ClientAppActor pid=3165)\u001b[0m 🟢 Found model head. Pruning will be applied to the head only.\n",
            "\u001b[36m(ClientAppActor pid=3165)\u001b[0m 3-LOG: Starting TaLoS Mask Calibration\n",
            "\u001b[36m(ClientAppActor pid=3165)\u001b[0m 🔎 Starting multi-round calibration for the model head only.\n",
            "\u001b[36m(ClientAppActor pid=3165)\u001b[0m 🌀 Calibration Round 1/2\n",
            "\u001b[36m(ClientAppActor pid=3165)\u001b[0m ✅ Mask updated with 15.00% sparsity\n",
            "\u001b[36m(ClientAppActor pid=3165)\u001b[0m 🌀 Calibration Round 2/2\n",
            "\u001b[36m(ClientAppActor pid=3165)\u001b[0m ✅ Mask updated with 30.00% sparsity\n",
            "\u001b[36m(ClientAppActor pid=3165)\u001b[0m 3-LOG: Starting local training round with TaLoS\n",
            "\u001b[36m(ClientAppActor pid=3165)\u001b[0m 3-LOG: Starting epoch 1/5\n",
            "\u001b[36m(ClientAppActor pid=3165)\u001b[0m 3-LOG: Starting epoch 2/5\n",
            "\u001b[36m(ClientAppActor pid=3165)\u001b[0m 3-LOG: Starting epoch 3/5\n",
            "\u001b[36m(ClientAppActor pid=3165)\u001b[0m 3-LOG: Starting epoch 4/5\n",
            "\u001b[36m(ClientAppActor pid=3165)\u001b[0m 3-LOG: Starting epoch 5/5\n",
            "\u001b[36m(ClientAppActor pid=3165)\u001b[0m 3-LOG: Completed local training - Loss: 1.6162 | Accuracy: 0.6252\n",
            "\u001b[36m(ClientAppActor pid=3165)\u001b[0m LOG: Initializing client with CID=4\n",
            "\u001b[36m(ClientAppActor pid=3165)\u001b[0m 4-LOG: Data partition assigned to client 4 -> IID\n",
            "\u001b[36m(ClientAppActor pid=3165)\u001b[0m 4-LOG: Model initialized for client 4\n",
            "\u001b[36m(ClientAppActor pid=3165)\u001b[0m 4-LOG: Dataloaders initialized for client 4\n",
            "\u001b[36m(ClientAppActor pid=3165)\u001b[0m 🟢 Found model head. Pruning will be applied to the head only.\n",
            "\u001b[36m(ClientAppActor pid=3165)\u001b[0m 4-LOG: Starting TaLoS Mask Calibration\n",
            "\u001b[36m(ClientAppActor pid=3165)\u001b[0m 🔎 Starting multi-round calibration for the model head only.\n",
            "\u001b[36m(ClientAppActor pid=3165)\u001b[0m 🌀 Calibration Round 1/2\n",
            "\u001b[36m(ClientAppActor pid=3165)\u001b[0m ✅ Mask updated with 15.00% sparsity\n",
            "\u001b[36m(ClientAppActor pid=3165)\u001b[0m 🌀 Calibration Round 2/2\n",
            "\u001b[36m(ClientAppActor pid=3165)\u001b[0m ✅ Mask updated with 30.00% sparsity\n",
            "\u001b[36m(ClientAppActor pid=3165)\u001b[0m 4-LOG: Starting local training round with TaLoS\n",
            "\u001b[36m(ClientAppActor pid=3165)\u001b[0m 4-LOG: Starting epoch 1/5\n",
            "\u001b[36m(ClientAppActor pid=3165)\u001b[0m 4-LOG: Starting epoch 2/5\n",
            "\u001b[36m(ClientAppActor pid=3165)\u001b[0m 4-LOG: Starting epoch 3/5\n",
            "\u001b[36m(ClientAppActor pid=3165)\u001b[0m 4-LOG: Starting epoch 4/5\n",
            "\u001b[36m(ClientAppActor pid=3165)\u001b[0m 4-LOG: Starting epoch 5/5\n",
            "\u001b[36m(ClientAppActor pid=3165)\u001b[0m 4-LOG: Completed local training - Loss: 1.5556 | Accuracy: 0.6408\n"
          ]
        },
        {
          "output_type": "stream",
          "name": "stderr",
          "text": [
            "\u001b[92mINFO \u001b[0m:      aggregate_fit: received 5 results and 0 failures\n",
            "\u001b[93mWARNING \u001b[0m:   No fit_metrics_aggregation_fn provided\n",
            "\u001b[92mINFO \u001b[0m:      configure_evaluate: strategy sampled 5 clients (out of 5)\n"
          ]
        },
        {
          "output_type": "stream",
          "name": "stdout",
          "text": [
            "\u001b[36m(ClientAppActor pid=3165)\u001b[0m LOG: Initializing client with CID=2\n",
            "\u001b[36m(ClientAppActor pid=3165)\u001b[0m 2-LOG: Data partition assigned to client 2 -> IID\n",
            "\u001b[36m(ClientAppActor pid=3165)\u001b[0m 2-LOG: Model initialized for client 2\n",
            "\u001b[36m(ClientAppActor pid=3165)\u001b[0m 2-LOG: Dataloaders initialized for client 2\n",
            "\u001b[36m(ClientAppActor pid=3165)\u001b[0m 🟢 Found model head. Pruning will be applied to the head only.\n",
            "\u001b[36m(ClientAppActor pid=3165)\u001b[0m 2-LOG: Starting TaLoS Mask Calibration\n",
            "\u001b[36m(ClientAppActor pid=3165)\u001b[0m 🔎 Starting multi-round calibration for the model head only.\n",
            "\u001b[36m(ClientAppActor pid=3165)\u001b[0m 🌀 Calibration Round 1/2\n",
            "\u001b[36m(ClientAppActor pid=3165)\u001b[0m ✅ Mask updated with 15.00% sparsity\n",
            "\u001b[36m(ClientAppActor pid=3165)\u001b[0m 🌀 Calibration Round 2/2\n",
            "\u001b[36m(ClientAppActor pid=3165)\u001b[0m ✅ Mask updated with 30.00% sparsity\n",
            "\u001b[36m(ClientAppActor pid=3165)\u001b[0m 2-LOG: Starting evaluation\n",
            "\u001b[36m(ClientAppActor pid=3165)\u001b[0m 2-LOG: Evaluation completed - Val Loss: 0.9582 | Val Accuracy: 0.7166\n",
            "\u001b[36m(ClientAppActor pid=3165)\u001b[0m LOG: Initializing client with CID=3\n",
            "\u001b[36m(ClientAppActor pid=3165)\u001b[0m 3-LOG: Data partition assigned to client 3 -> IID\n",
            "\u001b[36m(ClientAppActor pid=3165)\u001b[0m 3-LOG: Model initialized for client 3\n",
            "\u001b[36m(ClientAppActor pid=3165)\u001b[0m 3-LOG: Dataloaders initialized for client 3\n",
            "\u001b[36m(ClientAppActor pid=3165)\u001b[0m 🟢 Found model head. Pruning will be applied to the head only.\n",
            "\u001b[36m(ClientAppActor pid=3165)\u001b[0m 3-LOG: Starting TaLoS Mask Calibration\n",
            "\u001b[36m(ClientAppActor pid=3165)\u001b[0m 🔎 Starting multi-round calibration for the model head only.\n",
            "\u001b[36m(ClientAppActor pid=3165)\u001b[0m 🌀 Calibration Round 1/2\n",
            "\u001b[36m(ClientAppActor pid=3165)\u001b[0m ✅ Mask updated with 15.00% sparsity\n",
            "\u001b[36m(ClientAppActor pid=3165)\u001b[0m 🌀 Calibration Round 2/2\n",
            "\u001b[36m(ClientAppActor pid=3165)\u001b[0m ✅ Mask updated with 30.00% sparsity\n",
            "\u001b[36m(ClientAppActor pid=3165)\u001b[0m 3-LOG: Starting evaluation\n",
            "\u001b[36m(ClientAppActor pid=3165)\u001b[0m 3-LOG: Evaluation completed - Val Loss: 0.9582 | Val Accuracy: 0.7166\n",
            "\u001b[36m(ClientAppActor pid=3165)\u001b[0m LOG: Initializing client with CID=0\n",
            "\u001b[36m(ClientAppActor pid=3165)\u001b[0m 0-LOG: Data partition assigned to client 0 -> IID\n",
            "\u001b[36m(ClientAppActor pid=3165)\u001b[0m 0-LOG: Model initialized for client 0\n",
            "\u001b[36m(ClientAppActor pid=3165)\u001b[0m 0-LOG: Dataloaders initialized for client 0\n",
            "\u001b[36m(ClientAppActor pid=3165)\u001b[0m 🟢 Found model head. Pruning will be applied to the head only.\n",
            "\u001b[36m(ClientAppActor pid=3165)\u001b[0m 0-LOG: Starting TaLoS Mask Calibration\n",
            "\u001b[36m(ClientAppActor pid=3165)\u001b[0m 🔎 Starting multi-round calibration for the model head only.\n",
            "\u001b[36m(ClientAppActor pid=3165)\u001b[0m 🌀 Calibration Round 1/2\n",
            "\u001b[36m(ClientAppActor pid=3165)\u001b[0m ✅ Mask updated with 15.00% sparsity\n",
            "\u001b[36m(ClientAppActor pid=3165)\u001b[0m 🌀 Calibration Round 2/2\n",
            "\u001b[36m(ClientAppActor pid=3165)\u001b[0m ✅ Mask updated with 30.00% sparsity\n",
            "\u001b[36m(ClientAppActor pid=3165)\u001b[0m 0-LOG: Starting evaluation\n",
            "\u001b[36m(ClientAppActor pid=3165)\u001b[0m 0-LOG: Evaluation completed - Val Loss: 0.9582 | Val Accuracy: 0.7166\n",
            "\u001b[36m(ClientAppActor pid=3165)\u001b[0m LOG: Initializing client with CID=4\n",
            "\u001b[36m(ClientAppActor pid=3165)\u001b[0m 4-LOG: Data partition assigned to client 4 -> IID\n",
            "\u001b[36m(ClientAppActor pid=3165)\u001b[0m 4-LOG: Model initialized for client 4\n",
            "\u001b[36m(ClientAppActor pid=3165)\u001b[0m 4-LOG: Dataloaders initialized for client 4\n",
            "\u001b[36m(ClientAppActor pid=3165)\u001b[0m 🟢 Found model head. Pruning will be applied to the head only.\n",
            "\u001b[36m(ClientAppActor pid=3165)\u001b[0m 4-LOG: Starting TaLoS Mask Calibration\n",
            "\u001b[36m(ClientAppActor pid=3165)\u001b[0m 🔎 Starting multi-round calibration for the model head only.\n",
            "\u001b[36m(ClientAppActor pid=3165)\u001b[0m 🌀 Calibration Round 1/2\n",
            "\u001b[36m(ClientAppActor pid=3165)\u001b[0m ✅ Mask updated with 15.00% sparsity\n",
            "\u001b[36m(ClientAppActor pid=3165)\u001b[0m 🌀 Calibration Round 2/2\n",
            "\u001b[36m(ClientAppActor pid=3165)\u001b[0m ✅ Mask updated with 30.00% sparsity\n",
            "\u001b[36m(ClientAppActor pid=3165)\u001b[0m 4-LOG: Starting evaluation\n",
            "\u001b[36m(ClientAppActor pid=3165)\u001b[0m 4-LOG: Evaluation completed - Val Loss: 0.9582 | Val Accuracy: 0.7166\n",
            "\u001b[36m(ClientAppActor pid=3165)\u001b[0m LOG: Initializing client with CID=1\n",
            "\u001b[36m(ClientAppActor pid=3165)\u001b[0m 1-LOG: Data partition assigned to client 1 -> IID\n",
            "\u001b[36m(ClientAppActor pid=3165)\u001b[0m 1-LOG: Model initialized for client 1\n",
            "\u001b[36m(ClientAppActor pid=3165)\u001b[0m 1-LOG: Dataloaders initialized for client 1\n",
            "\u001b[36m(ClientAppActor pid=3165)\u001b[0m 🟢 Found model head. Pruning will be applied to the head only.\n",
            "\u001b[36m(ClientAppActor pid=3165)\u001b[0m 1-LOG: Starting TaLoS Mask Calibration\n",
            "\u001b[36m(ClientAppActor pid=3165)\u001b[0m 🔎 Starting multi-round calibration for the model head only.\n",
            "\u001b[36m(ClientAppActor pid=3165)\u001b[0m 🌀 Calibration Round 1/2\n",
            "\u001b[36m(ClientAppActor pid=3165)\u001b[0m ✅ Mask updated with 15.00% sparsity\n",
            "\u001b[36m(ClientAppActor pid=3165)\u001b[0m 🌀 Calibration Round 2/2\n",
            "\u001b[36m(ClientAppActor pid=3165)\u001b[0m ✅ Mask updated with 30.00% sparsity\n",
            "\u001b[36m(ClientAppActor pid=3165)\u001b[0m 1-LOG: Starting evaluation\n"
          ]
        },
        {
          "output_type": "stream",
          "name": "stderr",
          "text": [
            "\u001b[92mINFO \u001b[0m:      aggregate_evaluate: received 5 results and 0 failures\n",
            "\u001b[92mINFO \u001b[0m:      \n",
            "\u001b[92mINFO \u001b[0m:      [ROUND 2]\n",
            "\u001b[92mINFO \u001b[0m:      configure_fit: strategy sampled 5 clients (out of 5)\n"
          ]
        },
        {
          "output_type": "stream",
          "name": "stdout",
          "text": [
            "\u001b[36m(ClientAppActor pid=3165)\u001b[0m 1-LOG: Evaluation completed - Val Loss: 0.9582 | Val Accuracy: 0.7166\n",
            "\u001b[36m(ClientAppActor pid=3165)\u001b[0m LOG: Initializing client with CID=0\n",
            "\u001b[36m(ClientAppActor pid=3165)\u001b[0m 0-LOG: Data partition assigned to client 0 -> IID\n",
            "\u001b[36m(ClientAppActor pid=3165)\u001b[0m 0-LOG: Model initialized for client 0\n",
            "\u001b[36m(ClientAppActor pid=3165)\u001b[0m 0-LOG: Dataloaders initialized for client 0\n",
            "\u001b[36m(ClientAppActor pid=3165)\u001b[0m 🟢 Found model head. Pruning will be applied to the head only.\n",
            "\u001b[36m(ClientAppActor pid=3165)\u001b[0m 0-LOG: Starting TaLoS Mask Calibration\n",
            "\u001b[36m(ClientAppActor pid=3165)\u001b[0m 🔎 Starting multi-round calibration for the model head only.\n",
            "\u001b[36m(ClientAppActor pid=3165)\u001b[0m 🌀 Calibration Round 1/2\n",
            "\u001b[36m(ClientAppActor pid=3165)\u001b[0m ✅ Mask updated with 15.00% sparsity\n",
            "\u001b[36m(ClientAppActor pid=3165)\u001b[0m 🌀 Calibration Round 2/2\n",
            "\u001b[36m(ClientAppActor pid=3165)\u001b[0m ✅ Mask updated with 30.00% sparsity\n",
            "\u001b[36m(ClientAppActor pid=3165)\u001b[0m 0-LOG: Starting local training round with TaLoS\n",
            "\u001b[36m(ClientAppActor pid=3165)\u001b[0m 0-LOG: Starting epoch 1/5\n",
            "\u001b[36m(ClientAppActor pid=3165)\u001b[0m 0-LOG: Starting epoch 2/5\n",
            "\u001b[36m(ClientAppActor pid=3165)\u001b[0m 0-LOG: Starting epoch 3/5\n",
            "\u001b[36m(ClientAppActor pid=3165)\u001b[0m 0-LOG: Starting epoch 4/5\n",
            "\u001b[36m(ClientAppActor pid=3165)\u001b[0m 0-LOG: Starting epoch 5/5\n",
            "\u001b[36m(ClientAppActor pid=3165)\u001b[0m 0-LOG: Completed local training - Loss: 0.6923 | Accuracy: 0.7901\n",
            "\u001b[36m(ClientAppActor pid=3165)\u001b[0m LOG: Initializing client with CID=1\n",
            "\u001b[36m(ClientAppActor pid=3165)\u001b[0m 1-LOG: Data partition assigned to client 1 -> IID\n",
            "\u001b[36m(ClientAppActor pid=3165)\u001b[0m 1-LOG: Model initialized for client 1\n",
            "\u001b[36m(ClientAppActor pid=3165)\u001b[0m 1-LOG: Dataloaders initialized for client 1\n",
            "\u001b[36m(ClientAppActor pid=3165)\u001b[0m 🟢 Found model head. Pruning will be applied to the head only.\n",
            "\u001b[36m(ClientAppActor pid=3165)\u001b[0m 1-LOG: Starting TaLoS Mask Calibration\n",
            "\u001b[36m(ClientAppActor pid=3165)\u001b[0m 🔎 Starting multi-round calibration for the model head only.\n",
            "\u001b[36m(ClientAppActor pid=3165)\u001b[0m 🌀 Calibration Round 1/2\n",
            "\u001b[36m(ClientAppActor pid=3165)\u001b[0m ✅ Mask updated with 15.00% sparsity\n",
            "\u001b[36m(ClientAppActor pid=3165)\u001b[0m 🌀 Calibration Round 2/2\n",
            "\u001b[36m(ClientAppActor pid=3165)\u001b[0m ✅ Mask updated with 30.00% sparsity\n",
            "\u001b[36m(ClientAppActor pid=3165)\u001b[0m 1-LOG: Starting local training round with TaLoS\n",
            "\u001b[36m(ClientAppActor pid=3165)\u001b[0m 1-LOG: Starting epoch 1/5\n",
            "\u001b[36m(ClientAppActor pid=3165)\u001b[0m 1-LOG: Starting epoch 2/5\n",
            "\u001b[36m(ClientAppActor pid=3165)\u001b[0m 1-LOG: Starting epoch 3/5\n",
            "\u001b[36m(ClientAppActor pid=3165)\u001b[0m 1-LOG: Starting epoch 4/5\n",
            "\u001b[36m(ClientAppActor pid=3165)\u001b[0m 1-LOG: Starting epoch 5/5\n",
            "\u001b[36m(ClientAppActor pid=3165)\u001b[0m 1-LOG: Completed local training - Loss: 0.6876 | Accuracy: 0.7946\n",
            "\u001b[36m(ClientAppActor pid=3165)\u001b[0m LOG: Initializing client with CID=2\n",
            "\u001b[36m(ClientAppActor pid=3165)\u001b[0m 2-LOG: Data partition assigned to client 2 -> IID\n",
            "\u001b[36m(ClientAppActor pid=3165)\u001b[0m 2-LOG: Model initialized for client 2\n",
            "\u001b[36m(ClientAppActor pid=3165)\u001b[0m 2-LOG: Dataloaders initialized for client 2\n",
            "\u001b[36m(ClientAppActor pid=3165)\u001b[0m 🟢 Found model head. Pruning will be applied to the head only.\n",
            "\u001b[36m(ClientAppActor pid=3165)\u001b[0m 2-LOG: Starting TaLoS Mask Calibration\n",
            "\u001b[36m(ClientAppActor pid=3165)\u001b[0m 🔎 Starting multi-round calibration for the model head only.\n",
            "\u001b[36m(ClientAppActor pid=3165)\u001b[0m 🌀 Calibration Round 1/2\n",
            "\u001b[36m(ClientAppActor pid=3165)\u001b[0m ✅ Mask updated with 15.00% sparsity\n",
            "\u001b[36m(ClientAppActor pid=3165)\u001b[0m 🌀 Calibration Round 2/2\n",
            "\u001b[36m(ClientAppActor pid=3165)\u001b[0m ✅ Mask updated with 30.00% sparsity\n",
            "\u001b[36m(ClientAppActor pid=3165)\u001b[0m 2-LOG: Starting local training round with TaLoS\n",
            "\u001b[36m(ClientAppActor pid=3165)\u001b[0m 2-LOG: Starting epoch 1/5\n",
            "\u001b[36m(ClientAppActor pid=3165)\u001b[0m 2-LOG: Starting epoch 2/5\n",
            "\u001b[36m(ClientAppActor pid=3165)\u001b[0m 2-LOG: Starting epoch 3/5\n",
            "\u001b[36m(ClientAppActor pid=3165)\u001b[0m 2-LOG: Starting epoch 4/5\n",
            "\u001b[36m(ClientAppActor pid=3165)\u001b[0m 2-LOG: Starting epoch 5/5\n",
            "\u001b[36m(ClientAppActor pid=3165)\u001b[0m 2-LOG: Completed local training - Loss: 0.7352 | Accuracy: 0.7832\n",
            "\u001b[36m(ClientAppActor pid=3165)\u001b[0m LOG: Initializing client with CID=3\n",
            "\u001b[36m(ClientAppActor pid=3165)\u001b[0m 3-LOG: Data partition assigned to client 3 -> IID\n",
            "\u001b[36m(ClientAppActor pid=3165)\u001b[0m 3-LOG: Model initialized for client 3\n",
            "\u001b[36m(ClientAppActor pid=3165)\u001b[0m 3-LOG: Dataloaders initialized for client 3\n",
            "\u001b[36m(ClientAppActor pid=3165)\u001b[0m 🟢 Found model head. Pruning will be applied to the head only.\n",
            "\u001b[36m(ClientAppActor pid=3165)\u001b[0m 3-LOG: Starting TaLoS Mask Calibration\n",
            "\u001b[36m(ClientAppActor pid=3165)\u001b[0m 🔎 Starting multi-round calibration for the model head only.\n",
            "\u001b[36m(ClientAppActor pid=3165)\u001b[0m 🌀 Calibration Round 1/2\n",
            "\u001b[36m(ClientAppActor pid=3165)\u001b[0m ✅ Mask updated with 15.00% sparsity\n",
            "\u001b[36m(ClientAppActor pid=3165)\u001b[0m 🌀 Calibration Round 2/2\n",
            "\u001b[36m(ClientAppActor pid=3165)\u001b[0m ✅ Mask updated with 30.00% sparsity\n",
            "\u001b[36m(ClientAppActor pid=3165)\u001b[0m 3-LOG: Starting local training round with TaLoS\n",
            "\u001b[36m(ClientAppActor pid=3165)\u001b[0m 3-LOG: Starting epoch 1/5\n",
            "\u001b[36m(ClientAppActor pid=3165)\u001b[0m 3-LOG: Starting epoch 2/5\n",
            "\u001b[36m(ClientAppActor pid=3165)\u001b[0m 3-LOG: Starting epoch 3/5\n",
            "\u001b[36m(ClientAppActor pid=3165)\u001b[0m 3-LOG: Starting epoch 4/5\n",
            "\u001b[36m(ClientAppActor pid=3165)\u001b[0m 3-LOG: Starting epoch 5/5\n",
            "\u001b[36m(ClientAppActor pid=3165)\u001b[0m 3-LOG: Completed local training - Loss: 0.7065 | Accuracy: 0.7882\n",
            "\u001b[36m(ClientAppActor pid=3165)\u001b[0m LOG: Initializing client with CID=4\n",
            "\u001b[36m(ClientAppActor pid=3165)\u001b[0m 4-LOG: Data partition assigned to client 4 -> IID\n",
            "\u001b[36m(ClientAppActor pid=3165)\u001b[0m 4-LOG: Model initialized for client 4\n",
            "\u001b[36m(ClientAppActor pid=3165)\u001b[0m 4-LOG: Dataloaders initialized for client 4\n",
            "\u001b[36m(ClientAppActor pid=3165)\u001b[0m 🟢 Found model head. Pruning will be applied to the head only.\n",
            "\u001b[36m(ClientAppActor pid=3165)\u001b[0m 4-LOG: Starting TaLoS Mask Calibration\n",
            "\u001b[36m(ClientAppActor pid=3165)\u001b[0m 🔎 Starting multi-round calibration for the model head only.\n",
            "\u001b[36m(ClientAppActor pid=3165)\u001b[0m 🌀 Calibration Round 1/2\n",
            "\u001b[36m(ClientAppActor pid=3165)\u001b[0m ✅ Mask updated with 15.00% sparsity\n",
            "\u001b[36m(ClientAppActor pid=3165)\u001b[0m 🌀 Calibration Round 2/2\n",
            "\u001b[36m(ClientAppActor pid=3165)\u001b[0m ✅ Mask updated with 30.00% sparsity\n",
            "\u001b[36m(ClientAppActor pid=3165)\u001b[0m 4-LOG: Starting local training round with TaLoS\n",
            "\u001b[36m(ClientAppActor pid=3165)\u001b[0m 4-LOG: Starting epoch 1/5\n",
            "\u001b[36m(ClientAppActor pid=3165)\u001b[0m 4-LOG: Starting epoch 2/5\n",
            "\u001b[36m(ClientAppActor pid=3165)\u001b[0m 4-LOG: Starting epoch 3/5\n",
            "\u001b[36m(ClientAppActor pid=3165)\u001b[0m 4-LOG: Starting epoch 4/5\n",
            "\u001b[36m(ClientAppActor pid=3165)\u001b[0m 4-LOG: Starting epoch 5/5\n",
            "\u001b[36m(ClientAppActor pid=3165)\u001b[0m 4-LOG: Completed local training - Loss: 0.6955 | Accuracy: 0.7914\n"
          ]
        },
        {
          "output_type": "stream",
          "name": "stderr",
          "text": [
            "\u001b[92mINFO \u001b[0m:      aggregate_fit: received 5 results and 0 failures\n",
            "\u001b[92mINFO \u001b[0m:      configure_evaluate: strategy sampled 5 clients (out of 5)\n"
          ]
        },
        {
          "output_type": "stream",
          "name": "stdout",
          "text": [
            "\u001b[36m(ClientAppActor pid=3165)\u001b[0m LOG: Initializing client with CID=0\n",
            "\u001b[36m(ClientAppActor pid=3165)\u001b[0m 0-LOG: Data partition assigned to client 0 -> IID\n",
            "\u001b[36m(ClientAppActor pid=3165)\u001b[0m 0-LOG: Model initialized for client 0\n",
            "\u001b[36m(ClientAppActor pid=3165)\u001b[0m 0-LOG: Dataloaders initialized for client 0\n",
            "\u001b[36m(ClientAppActor pid=3165)\u001b[0m 🟢 Found model head. Pruning will be applied to the head only.\n",
            "\u001b[36m(ClientAppActor pid=3165)\u001b[0m 0-LOG: Starting TaLoS Mask Calibration\n",
            "\u001b[36m(ClientAppActor pid=3165)\u001b[0m 🔎 Starting multi-round calibration for the model head only.\n",
            "\u001b[36m(ClientAppActor pid=3165)\u001b[0m 🌀 Calibration Round 1/2\n",
            "\u001b[36m(ClientAppActor pid=3165)\u001b[0m ✅ Mask updated with 15.00% sparsity\n",
            "\u001b[36m(ClientAppActor pid=3165)\u001b[0m 🌀 Calibration Round 2/2\n",
            "\u001b[36m(ClientAppActor pid=3165)\u001b[0m ✅ Mask updated with 30.00% sparsity\n",
            "\u001b[36m(ClientAppActor pid=3165)\u001b[0m 0-LOG: Starting evaluation\n",
            "\u001b[36m(ClientAppActor pid=3165)\u001b[0m 0-LOG: Evaluation completed - Val Loss: 0.8759 | Val Accuracy: 0.7428\n",
            "\u001b[36m(ClientAppActor pid=3165)\u001b[0m LOG: Initializing client with CID=1\n",
            "\u001b[36m(ClientAppActor pid=3165)\u001b[0m 1-LOG: Data partition assigned to client 1 -> IID\n",
            "\u001b[36m(ClientAppActor pid=3165)\u001b[0m 1-LOG: Model initialized for client 1\n",
            "\u001b[36m(ClientAppActor pid=3165)\u001b[0m 1-LOG: Dataloaders initialized for client 1\n",
            "\u001b[36m(ClientAppActor pid=3165)\u001b[0m 🟢 Found model head. Pruning will be applied to the head only.\n",
            "\u001b[36m(ClientAppActor pid=3165)\u001b[0m 1-LOG: Starting TaLoS Mask Calibration\n",
            "\u001b[36m(ClientAppActor pid=3165)\u001b[0m 🔎 Starting multi-round calibration for the model head only.\n",
            "\u001b[36m(ClientAppActor pid=3165)\u001b[0m 🌀 Calibration Round 1/2\n",
            "\u001b[36m(ClientAppActor pid=3165)\u001b[0m ✅ Mask updated with 15.00% sparsity\n",
            "\u001b[36m(ClientAppActor pid=3165)\u001b[0m 🌀 Calibration Round 2/2\n",
            "\u001b[36m(ClientAppActor pid=3165)\u001b[0m ✅ Mask updated with 30.00% sparsity\n",
            "\u001b[36m(ClientAppActor pid=3165)\u001b[0m 1-LOG: Starting evaluation\n",
            "\u001b[36m(ClientAppActor pid=3165)\u001b[0m 1-LOG: Evaluation completed - Val Loss: 0.8759 | Val Accuracy: 0.7428\n",
            "\u001b[36m(ClientAppActor pid=3165)\u001b[0m LOG: Initializing client with CID=2\n",
            "\u001b[36m(ClientAppActor pid=3165)\u001b[0m 2-LOG: Data partition assigned to client 2 -> IID\n",
            "\u001b[36m(ClientAppActor pid=3165)\u001b[0m 2-LOG: Model initialized for client 2\n",
            "\u001b[36m(ClientAppActor pid=3165)\u001b[0m 2-LOG: Dataloaders initialized for client 2\n",
            "\u001b[36m(ClientAppActor pid=3165)\u001b[0m 🟢 Found model head. Pruning will be applied to the head only.\n",
            "\u001b[36m(ClientAppActor pid=3165)\u001b[0m 2-LOG: Starting TaLoS Mask Calibration\n",
            "\u001b[36m(ClientAppActor pid=3165)\u001b[0m 🔎 Starting multi-round calibration for the model head only.\n",
            "\u001b[36m(ClientAppActor pid=3165)\u001b[0m 🌀 Calibration Round 1/2\n",
            "\u001b[36m(ClientAppActor pid=3165)\u001b[0m ✅ Mask updated with 15.00% sparsity\n",
            "\u001b[36m(ClientAppActor pid=3165)\u001b[0m 🌀 Calibration Round 2/2\n",
            "\u001b[36m(ClientAppActor pid=3165)\u001b[0m ✅ Mask updated with 30.00% sparsity\n",
            "\u001b[36m(ClientAppActor pid=3165)\u001b[0m 2-LOG: Starting evaluation\n",
            "\u001b[36m(ClientAppActor pid=3165)\u001b[0m 2-LOG: Evaluation completed - Val Loss: 0.8759 | Val Accuracy: 0.7428\n",
            "\u001b[36m(ClientAppActor pid=3165)\u001b[0m LOG: Initializing client with CID=3\n",
            "\u001b[36m(ClientAppActor pid=3165)\u001b[0m 3-LOG: Data partition assigned to client 3 -> IID\n",
            "\u001b[36m(ClientAppActor pid=3165)\u001b[0m 3-LOG: Model initialized for client 3\n",
            "\u001b[36m(ClientAppActor pid=3165)\u001b[0m 3-LOG: Dataloaders initialized for client 3\n",
            "\u001b[36m(ClientAppActor pid=3165)\u001b[0m 🟢 Found model head. Pruning will be applied to the head only.\n",
            "\u001b[36m(ClientAppActor pid=3165)\u001b[0m 3-LOG: Starting TaLoS Mask Calibration\n",
            "\u001b[36m(ClientAppActor pid=3165)\u001b[0m 🔎 Starting multi-round calibration for the model head only.\n",
            "\u001b[36m(ClientAppActor pid=3165)\u001b[0m 🌀 Calibration Round 1/2\n",
            "\u001b[36m(ClientAppActor pid=3165)\u001b[0m ✅ Mask updated with 15.00% sparsity\n",
            "\u001b[36m(ClientAppActor pid=3165)\u001b[0m 🌀 Calibration Round 2/2\n",
            "\u001b[36m(ClientAppActor pid=3165)\u001b[0m ✅ Mask updated with 30.00% sparsity\n",
            "\u001b[36m(ClientAppActor pid=3165)\u001b[0m 3-LOG: Starting evaluation\n",
            "\u001b[36m(ClientAppActor pid=3165)\u001b[0m 3-LOG: Evaluation completed - Val Loss: 0.8759 | Val Accuracy: 0.7428\n",
            "\u001b[36m(ClientAppActor pid=3165)\u001b[0m LOG: Initializing client with CID=4\n",
            "\u001b[36m(ClientAppActor pid=3165)\u001b[0m 4-LOG: Data partition assigned to client 4 -> IID\n",
            "\u001b[36m(ClientAppActor pid=3165)\u001b[0m 4-LOG: Model initialized for client 4\n",
            "\u001b[36m(ClientAppActor pid=3165)\u001b[0m 4-LOG: Dataloaders initialized for client 4\n",
            "\u001b[36m(ClientAppActor pid=3165)\u001b[0m 🟢 Found model head. Pruning will be applied to the head only.\n",
            "\u001b[36m(ClientAppActor pid=3165)\u001b[0m 4-LOG: Starting TaLoS Mask Calibration\n",
            "\u001b[36m(ClientAppActor pid=3165)\u001b[0m 🔎 Starting multi-round calibration for the model head only.\n",
            "\u001b[36m(ClientAppActor pid=3165)\u001b[0m 🌀 Calibration Round 1/2\n",
            "\u001b[36m(ClientAppActor pid=3165)\u001b[0m ✅ Mask updated with 15.00% sparsity\n",
            "\u001b[36m(ClientAppActor pid=3165)\u001b[0m 🌀 Calibration Round 2/2\n",
            "\u001b[36m(ClientAppActor pid=3165)\u001b[0m ✅ Mask updated with 30.00% sparsity\n",
            "\u001b[36m(ClientAppActor pid=3165)\u001b[0m 4-LOG: Starting evaluation\n"
          ]
        },
        {
          "output_type": "stream",
          "name": "stderr",
          "text": [
            "\u001b[92mINFO \u001b[0m:      aggregate_evaluate: received 5 results and 0 failures\n",
            "\u001b[92mINFO \u001b[0m:      \n",
            "\u001b[92mINFO \u001b[0m:      [ROUND 3]\n",
            "\u001b[92mINFO \u001b[0m:      configure_fit: strategy sampled 5 clients (out of 5)\n"
          ]
        },
        {
          "output_type": "stream",
          "name": "stdout",
          "text": [
            "\u001b[36m(ClientAppActor pid=3165)\u001b[0m 4-LOG: Evaluation completed - Val Loss: 0.8759 | Val Accuracy: 0.7428\n",
            "\u001b[36m(ClientAppActor pid=3165)\u001b[0m LOG: Initializing client with CID=0\n",
            "\u001b[36m(ClientAppActor pid=3165)\u001b[0m 0-LOG: Data partition assigned to client 0 -> IID\n",
            "\u001b[36m(ClientAppActor pid=3165)\u001b[0m 0-LOG: Model initialized for client 0\n",
            "\u001b[36m(ClientAppActor pid=3165)\u001b[0m 0-LOG: Dataloaders initialized for client 0\n",
            "\u001b[36m(ClientAppActor pid=3165)\u001b[0m 🟢 Found model head. Pruning will be applied to the head only.\n",
            "\u001b[36m(ClientAppActor pid=3165)\u001b[0m 0-LOG: Starting TaLoS Mask Calibration\n",
            "\u001b[36m(ClientAppActor pid=3165)\u001b[0m 🔎 Starting multi-round calibration for the model head only.\n",
            "\u001b[36m(ClientAppActor pid=3165)\u001b[0m 🌀 Calibration Round 1/2\n",
            "\u001b[36m(ClientAppActor pid=3165)\u001b[0m ✅ Mask updated with 15.00% sparsity\n",
            "\u001b[36m(ClientAppActor pid=3165)\u001b[0m 🌀 Calibration Round 2/2\n",
            "\u001b[36m(ClientAppActor pid=3165)\u001b[0m ✅ Mask updated with 30.00% sparsity\n",
            "\u001b[36m(ClientAppActor pid=3165)\u001b[0m 0-LOG: Starting local training round with TaLoS\n",
            "\u001b[36m(ClientAppActor pid=3165)\u001b[0m 0-LOG: Starting epoch 1/5\n",
            "\u001b[36m(ClientAppActor pid=3165)\u001b[0m 0-LOG: Starting epoch 2/5\n",
            "\u001b[36m(ClientAppActor pid=3165)\u001b[0m 0-LOG: Starting epoch 3/5\n",
            "\u001b[36m(ClientAppActor pid=3165)\u001b[0m 0-LOG: Starting epoch 4/5\n"
          ]
        },
        {
          "output_type": "error",
          "ename": "KeyboardInterrupt",
          "evalue": "",
          "traceback": [
            "\u001b[0;31m---------------------------------------------------------------------------\u001b[0m",
            "\u001b[0;31mKeyboardInterrupt\u001b[0m                         Traceback (most recent call last)",
            "\u001b[0;32m/usr/local/lib/python3.11/dist-packages/flwr/simulation/run_simulation.py\u001b[0m in \u001b[0;36m_main_loop\u001b[0;34m(num_supernodes, backend_name, backend_config_stream, app_dir, is_app, enable_tf_gpu_growth, run, exit_event, flwr_dir, client_app, client_app_attr, server_app, server_app_attr, server_app_run_config)\u001b[0m\n\u001b[1;32m    369\u001b[0m         \u001b[0;31m# Start Simulation Engine\u001b[0m\u001b[0;34m\u001b[0m\u001b[0;34m\u001b[0m\u001b[0m\n\u001b[0;32m--> 370\u001b[0;31m         vce.start_vce(\n\u001b[0m\u001b[1;32m    371\u001b[0m             \u001b[0mnum_supernodes\u001b[0m\u001b[0;34m=\u001b[0m\u001b[0mnum_supernodes\u001b[0m\u001b[0;34m,\u001b[0m\u001b[0;34m\u001b[0m\u001b[0;34m\u001b[0m\u001b[0m\n",
            "\u001b[0;32m/usr/local/lib/python3.11/dist-packages/flwr/server/superlink/fleet/vce/vce_api.py\u001b[0m in \u001b[0;36mstart_vce\u001b[0;34m(backend_name, backend_config_json_stream, app_dir, is_app, f_stop, run, flwr_dir, client_app, client_app_attr, num_supernodes, state_factory, existing_nodes_mapping)\u001b[0m\n\u001b[1;32m    367\u001b[0m         \u001b[0;31m# Run main simulation loop\u001b[0m\u001b[0;34m\u001b[0m\u001b[0;34m\u001b[0m\u001b[0m\n\u001b[0;32m--> 368\u001b[0;31m         run_api(\n\u001b[0m\u001b[1;32m    369\u001b[0m             \u001b[0mapp_fn\u001b[0m\u001b[0;34m,\u001b[0m\u001b[0;34m\u001b[0m\u001b[0;34m\u001b[0m\u001b[0m\n",
            "\u001b[0;32m/usr/local/lib/python3.11/dist-packages/flwr/server/superlink/fleet/vce/vce_api.py\u001b[0m in \u001b[0;36mrun_api\u001b[0;34m(app_fn, backend_fn, nodes_mapping, state_factory, node_info_stores, f_stop)\u001b[0m\n\u001b[1;32m    213\u001b[0m \u001b[0;34m\u001b[0m\u001b[0m\n\u001b[0;32m--> 214\u001b[0;31m         \u001b[0;32mwith\u001b[0m \u001b[0mThreadPoolExecutor\u001b[0m\u001b[0;34m(\u001b[0m\u001b[0;34m)\u001b[0m \u001b[0;32mas\u001b[0m \u001b[0mexecutor\u001b[0m\u001b[0;34m:\u001b[0m\u001b[0;34m\u001b[0m\u001b[0;34m\u001b[0m\u001b[0m\n\u001b[0m\u001b[1;32m    215\u001b[0m             _ = [\n",
            "\u001b[0;32m/usr/lib/python3.11/concurrent/futures/_base.py\u001b[0m in \u001b[0;36m__exit__\u001b[0;34m(self, exc_type, exc_val, exc_tb)\u001b[0m\n\u001b[1;32m    646\u001b[0m     \u001b[0;32mdef\u001b[0m \u001b[0m__exit__\u001b[0m\u001b[0;34m(\u001b[0m\u001b[0mself\u001b[0m\u001b[0;34m,\u001b[0m \u001b[0mexc_type\u001b[0m\u001b[0;34m,\u001b[0m \u001b[0mexc_val\u001b[0m\u001b[0;34m,\u001b[0m \u001b[0mexc_tb\u001b[0m\u001b[0;34m)\u001b[0m\u001b[0;34m:\u001b[0m\u001b[0;34m\u001b[0m\u001b[0;34m\u001b[0m\u001b[0m\n\u001b[0;32m--> 647\u001b[0;31m         \u001b[0mself\u001b[0m\u001b[0;34m.\u001b[0m\u001b[0mshutdown\u001b[0m\u001b[0;34m(\u001b[0m\u001b[0mwait\u001b[0m\u001b[0;34m=\u001b[0m\u001b[0;32mTrue\u001b[0m\u001b[0;34m)\u001b[0m\u001b[0;34m\u001b[0m\u001b[0;34m\u001b[0m\u001b[0m\n\u001b[0m\u001b[1;32m    648\u001b[0m         \u001b[0;32mreturn\u001b[0m \u001b[0;32mFalse\u001b[0m\u001b[0;34m\u001b[0m\u001b[0;34m\u001b[0m\u001b[0m\n",
            "\u001b[0;32m/usr/lib/python3.11/concurrent/futures/thread.py\u001b[0m in \u001b[0;36mshutdown\u001b[0;34m(self, wait, cancel_futures)\u001b[0m\n\u001b[1;32m    234\u001b[0m             \u001b[0;32mfor\u001b[0m \u001b[0mt\u001b[0m \u001b[0;32min\u001b[0m \u001b[0mself\u001b[0m\u001b[0;34m.\u001b[0m\u001b[0m_threads\u001b[0m\u001b[0;34m:\u001b[0m\u001b[0;34m\u001b[0m\u001b[0;34m\u001b[0m\u001b[0m\n\u001b[0;32m--> 235\u001b[0;31m                 \u001b[0mt\u001b[0m\u001b[0;34m.\u001b[0m\u001b[0mjoin\u001b[0m\u001b[0;34m(\u001b[0m\u001b[0;34m)\u001b[0m\u001b[0;34m\u001b[0m\u001b[0;34m\u001b[0m\u001b[0m\n\u001b[0m\u001b[1;32m    236\u001b[0m     \u001b[0mshutdown\u001b[0m\u001b[0;34m.\u001b[0m\u001b[0m__doc__\u001b[0m \u001b[0;34m=\u001b[0m \u001b[0m_base\u001b[0m\u001b[0;34m.\u001b[0m\u001b[0mExecutor\u001b[0m\u001b[0;34m.\u001b[0m\u001b[0mshutdown\u001b[0m\u001b[0;34m.\u001b[0m\u001b[0m__doc__\u001b[0m\u001b[0;34m\u001b[0m\u001b[0;34m\u001b[0m\u001b[0m\n",
            "\u001b[0;32m/usr/lib/python3.11/threading.py\u001b[0m in \u001b[0;36mjoin\u001b[0;34m(self, timeout)\u001b[0m\n\u001b[1;32m   1118\u001b[0m         \u001b[0;32mif\u001b[0m \u001b[0mtimeout\u001b[0m \u001b[0;32mis\u001b[0m \u001b[0;32mNone\u001b[0m\u001b[0;34m:\u001b[0m\u001b[0;34m\u001b[0m\u001b[0;34m\u001b[0m\u001b[0m\n\u001b[0;32m-> 1119\u001b[0;31m             \u001b[0mself\u001b[0m\u001b[0;34m.\u001b[0m\u001b[0m_wait_for_tstate_lock\u001b[0m\u001b[0;34m(\u001b[0m\u001b[0;34m)\u001b[0m\u001b[0;34m\u001b[0m\u001b[0;34m\u001b[0m\u001b[0m\n\u001b[0m\u001b[1;32m   1120\u001b[0m         \u001b[0;32melse\u001b[0m\u001b[0;34m:\u001b[0m\u001b[0;34m\u001b[0m\u001b[0;34m\u001b[0m\u001b[0m\n",
            "\u001b[0;32m/usr/lib/python3.11/threading.py\u001b[0m in \u001b[0;36m_wait_for_tstate_lock\u001b[0;34m(self, block, timeout)\u001b[0m\n\u001b[1;32m   1138\u001b[0m         \u001b[0;32mtry\u001b[0m\u001b[0;34m:\u001b[0m\u001b[0;34m\u001b[0m\u001b[0;34m\u001b[0m\u001b[0m\n\u001b[0;32m-> 1139\u001b[0;31m             \u001b[0;32mif\u001b[0m \u001b[0mlock\u001b[0m\u001b[0;34m.\u001b[0m\u001b[0macquire\u001b[0m\u001b[0;34m(\u001b[0m\u001b[0mblock\u001b[0m\u001b[0;34m,\u001b[0m \u001b[0mtimeout\u001b[0m\u001b[0;34m)\u001b[0m\u001b[0;34m:\u001b[0m\u001b[0;34m\u001b[0m\u001b[0;34m\u001b[0m\u001b[0m\n\u001b[0m\u001b[1;32m   1140\u001b[0m                 \u001b[0mlock\u001b[0m\u001b[0;34m.\u001b[0m\u001b[0mrelease\u001b[0m\u001b[0;34m(\u001b[0m\u001b[0;34m)\u001b[0m\u001b[0;34m\u001b[0m\u001b[0;34m\u001b[0m\u001b[0m\n",
            "\u001b[0;31mKeyboardInterrupt\u001b[0m: ",
            "\nDuring handling of the above exception, another exception occurred:\n",
            "\u001b[0;31mKeyboardInterrupt\u001b[0m                         Traceback (most recent call last)",
            "\u001b[0;32m<ipython-input-21-0b11303766f6>\u001b[0m in \u001b[0;36m<cell line: 0>\u001b[0;34m()\u001b[0m\n\u001b[0;32m----> 1\u001b[0;31m run_simulation(\n\u001b[0m\u001b[1;32m      2\u001b[0m     \u001b[0mserver_app\u001b[0m\u001b[0;34m=\u001b[0m\u001b[0mserver_app\u001b[0m\u001b[0;34m,\u001b[0m\u001b[0;34m\u001b[0m\u001b[0;34m\u001b[0m\u001b[0m\n\u001b[1;32m      3\u001b[0m     \u001b[0mclient_app\u001b[0m\u001b[0;34m=\u001b[0m\u001b[0mclient_app\u001b[0m\u001b[0;34m,\u001b[0m\u001b[0;34m\u001b[0m\u001b[0;34m\u001b[0m\u001b[0m\n\u001b[1;32m      4\u001b[0m     \u001b[0mnum_supernodes\u001b[0m\u001b[0;34m=\u001b[0m\u001b[0mNUM_CLIENTS\u001b[0m\u001b[0;34m,\u001b[0m\u001b[0;34m\u001b[0m\u001b[0;34m\u001b[0m\u001b[0m\n\u001b[1;32m      5\u001b[0m     \u001b[0mbackend_config\u001b[0m\u001b[0;34m=\u001b[0m\u001b[0mbackend_config\u001b[0m\u001b[0;34m\u001b[0m\u001b[0;34m\u001b[0m\u001b[0m\n",
            "\u001b[0;32m/usr/local/lib/python3.11/dist-packages/flwr/simulation/run_simulation.py\u001b[0m in \u001b[0;36mrun_simulation\u001b[0;34m(server_app, client_app, num_supernodes, backend_name, backend_config, enable_tf_gpu_growth, verbose_logging)\u001b[0m\n\u001b[1;32m    209\u001b[0m         )\n\u001b[1;32m    210\u001b[0m \u001b[0;34m\u001b[0m\u001b[0m\n\u001b[0;32m--> 211\u001b[0;31m     _ = _run_simulation(\n\u001b[0m\u001b[1;32m    212\u001b[0m         \u001b[0mnum_supernodes\u001b[0m\u001b[0;34m=\u001b[0m\u001b[0mnum_supernodes\u001b[0m\u001b[0;34m,\u001b[0m\u001b[0;34m\u001b[0m\u001b[0;34m\u001b[0m\u001b[0m\n\u001b[1;32m    213\u001b[0m         \u001b[0mclient_app\u001b[0m\u001b[0;34m=\u001b[0m\u001b[0mclient_app\u001b[0m\u001b[0;34m,\u001b[0m\u001b[0;34m\u001b[0m\u001b[0;34m\u001b[0m\u001b[0m\n",
            "\u001b[0;32m/usr/local/lib/python3.11/dist-packages/flwr/simulation/run_simulation.py\u001b[0m in \u001b[0;36m_run_simulation\u001b[0;34m(num_supernodes, exit_event, client_app, server_app, backend_name, backend_config, client_app_attr, server_app_attr, server_app_run_config, app_dir, flwr_dir, run, enable_tf_gpu_growth, verbose_logging, is_app)\u001b[0m\n\u001b[1;32m    508\u001b[0m             \u001b[0mlogger\u001b[0m \u001b[0;34m=\u001b[0m \u001b[0mset_logger_propagation\u001b[0m\u001b[0;34m(\u001b[0m\u001b[0mlogger\u001b[0m\u001b[0;34m,\u001b[0m \u001b[0;32mFalse\u001b[0m\u001b[0;34m)\u001b[0m\u001b[0;34m\u001b[0m\u001b[0;34m\u001b[0m\u001b[0m\n\u001b[1;32m    509\u001b[0m \u001b[0;34m\u001b[0m\u001b[0m\n\u001b[0;32m--> 510\u001b[0;31m         \u001b[0mupdated_context\u001b[0m \u001b[0;34m=\u001b[0m \u001b[0m_main_loop\u001b[0m\u001b[0;34m(\u001b[0m\u001b[0;34m*\u001b[0m\u001b[0margs\u001b[0m\u001b[0;34m)\u001b[0m\u001b[0;34m\u001b[0m\u001b[0;34m\u001b[0m\u001b[0m\n\u001b[0m\u001b[1;32m    511\u001b[0m     \u001b[0;32mreturn\u001b[0m \u001b[0mupdated_context\u001b[0m\u001b[0;34m\u001b[0m\u001b[0;34m\u001b[0m\u001b[0m\n\u001b[1;32m    512\u001b[0m \u001b[0;34m\u001b[0m\u001b[0m\n",
            "\u001b[0;32m/usr/local/lib/python3.11/dist-packages/flwr/simulation/run_simulation.py\u001b[0m in \u001b[0;36m_main_loop\u001b[0;34m(num_supernodes, backend_name, backend_config_stream, app_dir, is_app, enable_tf_gpu_growth, run, exit_event, flwr_dir, client_app, client_app_attr, server_app, server_app_attr, server_app_run_config)\u001b[0m\n\u001b[1;32m    404\u001b[0m         )\n\u001b[1;32m    405\u001b[0m         \u001b[0;32mif\u001b[0m \u001b[0mserverapp_th\u001b[0m\u001b[0;34m:\u001b[0m\u001b[0;34m\u001b[0m\u001b[0;34m\u001b[0m\u001b[0m\n\u001b[0;32m--> 406\u001b[0;31m             \u001b[0mserverapp_th\u001b[0m\u001b[0;34m.\u001b[0m\u001b[0mjoin\u001b[0m\u001b[0;34m(\u001b[0m\u001b[0;34m)\u001b[0m\u001b[0;34m\u001b[0m\u001b[0;34m\u001b[0m\u001b[0m\n\u001b[0m\u001b[1;32m    407\u001b[0m             \u001b[0;32mif\u001b[0m \u001b[0mserver_app_thread_has_exception\u001b[0m\u001b[0;34m.\u001b[0m\u001b[0mis_set\u001b[0m\u001b[0;34m(\u001b[0m\u001b[0;34m)\u001b[0m\u001b[0;34m:\u001b[0m\u001b[0;34m\u001b[0m\u001b[0;34m\u001b[0m\u001b[0m\n\u001b[1;32m    408\u001b[0m                 \u001b[0;32mraise\u001b[0m \u001b[0mRuntimeError\u001b[0m\u001b[0;34m(\u001b[0m\u001b[0;34m\"Exception in ServerApp thread\"\u001b[0m\u001b[0;34m)\u001b[0m\u001b[0;34m\u001b[0m\u001b[0;34m\u001b[0m\u001b[0m\n",
            "\u001b[0;32m/usr/lib/python3.11/threading.py\u001b[0m in \u001b[0;36mjoin\u001b[0;34m(self, timeout)\u001b[0m\n\u001b[1;32m   1117\u001b[0m \u001b[0;34m\u001b[0m\u001b[0m\n\u001b[1;32m   1118\u001b[0m         \u001b[0;32mif\u001b[0m \u001b[0mtimeout\u001b[0m \u001b[0;32mis\u001b[0m \u001b[0;32mNone\u001b[0m\u001b[0;34m:\u001b[0m\u001b[0;34m\u001b[0m\u001b[0;34m\u001b[0m\u001b[0m\n\u001b[0;32m-> 1119\u001b[0;31m             \u001b[0mself\u001b[0m\u001b[0;34m.\u001b[0m\u001b[0m_wait_for_tstate_lock\u001b[0m\u001b[0;34m(\u001b[0m\u001b[0;34m)\u001b[0m\u001b[0;34m\u001b[0m\u001b[0;34m\u001b[0m\u001b[0m\n\u001b[0m\u001b[1;32m   1120\u001b[0m         \u001b[0;32melse\u001b[0m\u001b[0;34m:\u001b[0m\u001b[0;34m\u001b[0m\u001b[0;34m\u001b[0m\u001b[0m\n\u001b[1;32m   1121\u001b[0m             \u001b[0;31m# the behavior of a negative timeout isn't documented, but\u001b[0m\u001b[0;34m\u001b[0m\u001b[0;34m\u001b[0m\u001b[0m\n",
            "\u001b[0;32m/usr/lib/python3.11/threading.py\u001b[0m in \u001b[0;36m_wait_for_tstate_lock\u001b[0;34m(self, block, timeout)\u001b[0m\n\u001b[1;32m   1137\u001b[0m \u001b[0;34m\u001b[0m\u001b[0m\n\u001b[1;32m   1138\u001b[0m         \u001b[0;32mtry\u001b[0m\u001b[0;34m:\u001b[0m\u001b[0;34m\u001b[0m\u001b[0;34m\u001b[0m\u001b[0m\n\u001b[0;32m-> 1139\u001b[0;31m             \u001b[0;32mif\u001b[0m \u001b[0mlock\u001b[0m\u001b[0;34m.\u001b[0m\u001b[0macquire\u001b[0m\u001b[0;34m(\u001b[0m\u001b[0mblock\u001b[0m\u001b[0;34m,\u001b[0m \u001b[0mtimeout\u001b[0m\u001b[0;34m)\u001b[0m\u001b[0;34m:\u001b[0m\u001b[0;34m\u001b[0m\u001b[0;34m\u001b[0m\u001b[0m\n\u001b[0m\u001b[1;32m   1140\u001b[0m                 \u001b[0mlock\u001b[0m\u001b[0;34m.\u001b[0m\u001b[0mrelease\u001b[0m\u001b[0;34m(\u001b[0m\u001b[0;34m)\u001b[0m\u001b[0;34m\u001b[0m\u001b[0;34m\u001b[0m\u001b[0m\n\u001b[1;32m   1141\u001b[0m                 \u001b[0mself\u001b[0m\u001b[0;34m.\u001b[0m\u001b[0m_stop\u001b[0m\u001b[0;34m(\u001b[0m\u001b[0;34m)\u001b[0m\u001b[0;34m\u001b[0m\u001b[0;34m\u001b[0m\u001b[0m\n",
            "\u001b[0;31mKeyboardInterrupt\u001b[0m: "
          ]
        }
      ]
    },
    {
      "cell_type": "code",
      "source": [
        "final_parameters = strategy.latest_parameters\n",
        "\n",
        "# Convert Flower parameters to list of numpy arrays\n",
        "ndarrays = parameters_to_ndarrays(final_parameters)\n",
        "\n",
        "# Load them into a PyTorch model\n",
        "iid_model = create_dino_vit_s16_for_cifar100()\n",
        "iid_model.to(device)\n",
        "state_dict = OrderedDict(\n",
        "    (key, torch.tensor(val)) for key, val in zip(iid_model.state_dict().keys(), ndarrays)\n",
        ")\n",
        "iid_model.load_state_dict(state_dict)\n",
        "\n",
        "correct, total, loss_total = 0, 0, 0.0\n",
        "criterion = torch.nn.CrossEntropyLoss()\n",
        "\n",
        "with torch.no_grad():\n",
        "    for images, labels in testloader:\n",
        "        images, labels = images.to(device), labels.to(device)\n",
        "        outputs = iid_model(images)\n",
        "        loss = criterion(outputs, labels)\n",
        "\n",
        "        loss_total += loss.item() * labels.size(0)\n",
        "        _, predicted = torch.max(outputs, 1)\n",
        "        total += labels.size(0)\n",
        "        correct += (predicted == labels).sum().item()\n",
        "\n",
        "test_loss = loss_total / total\n",
        "test_accuracy = correct / total\n",
        "\n",
        "logger.log_global_metrics({\n",
        "    \"test_loss\": test_loss,\n",
        "    \"test_accuracy\": test_accuracy\n",
        "}, round_number=NUM_ROUNDS)\n",
        "\n",
        "model_save_path = \"final_federated_model.pth\"\n",
        "torch.save(iid_model.state_dict(), model_save_path)\n",
        "\n",
        "logger.log_model(iid_model, path=model_save_path)\n",
        "\n",
        "logger.finish()\n",
        "\n",
        "print(f\"✅ Test Accuracy: {test_accuracy:.4f} | Test Loss: {test_loss:.4f}\")"
      ],
      "metadata": {
        "id": "LmlarjszyoTm"
      },
      "execution_count": null,
      "outputs": []
    },
    {
      "cell_type": "code",
      "source": [],
      "metadata": {
        "id": "iyXTpniJcQAX"
      },
      "execution_count": null,
      "outputs": []
    }
  ]
}